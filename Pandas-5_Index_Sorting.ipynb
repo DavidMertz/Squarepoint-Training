{
 "cells": [
  {
   "cell_type": "markdown",
   "metadata": {
    "slideshow": {
     "slide_type": "slide"
    }
   },
   "source": [
    "![Pandas logo](img/pandas.svg)"
   ]
  },
  {
   "cell_type": "markdown",
   "metadata": {},
   "source": [
    "As in the prior lesson, much of this lesson is about *cleaning data*, which I have written about in more detail in [_Cleaning Data for Effective Data Science_](https://gnosis.cx/cleaning), ISBN-13 978-1801071291, 2021. I'd love it if you want to buy a copy, but you can read it freely online as well."
   ]
  },
  {
   "cell_type": "code",
   "execution_count": 1,
   "metadata": {},
   "outputs": [],
   "source": [
    "%matplotlib inline\n",
    "import numpy as np\n",
    "import pandas as pd\n",
    "import matplotlib.pyplot as plt\n",
    "from src.training import *"
   ]
  },
  {
   "cell_type": "markdown",
   "metadata": {},
   "source": [
    "# Sorting\n",
    "\n",
    "It is often useful to look at DataFrames or Series in a particular order.  "
   ]
  },
  {
   "cell_type": "markdown",
   "metadata": {},
   "source": [
    "On local disk we have an example of just one day worth of the NOAA temperature data that we utilize in various lessons.  Let us read it in then subset parts of interest.  This is still 1191 rows of data, covering each station observed that day."
   ]
  },
  {
   "cell_type": "code",
   "execution_count": 2,
   "metadata": {},
   "outputs": [
    {
     "data": {
      "text/html": [
       "<div>\n",
       "<style scoped>\n",
       "    .dataframe tbody tr th:only-of-type {\n",
       "        vertical-align: middle;\n",
       "    }\n",
       "\n",
       "    .dataframe tbody tr th {\n",
       "        vertical-align: top;\n",
       "    }\n",
       "\n",
       "    .dataframe thead th {\n",
       "        text-align: right;\n",
       "    }\n",
       "</style>\n",
       "<table border=\"1\" class=\"dataframe\">\n",
       "  <thead>\n",
       "    <tr style=\"text-align: right;\">\n",
       "      <th></th>\n",
       "      <th>STATION</th>\n",
       "      <th>DATE</th>\n",
       "      <th>LATITUDE</th>\n",
       "      <th>LONGITUDE</th>\n",
       "      <th>ELEVATION</th>\n",
       "      <th>...</th>\n",
       "      <th>MIN_ATTRIBUTES</th>\n",
       "      <th>PRCP</th>\n",
       "      <th>PRCP_ATTRIBUTES</th>\n",
       "      <th>SNDP</th>\n",
       "      <th>FRSHTT</th>\n",
       "    </tr>\n",
       "  </thead>\n",
       "  <tbody>\n",
       "    <tr>\n",
       "      <th>0</th>\n",
       "      <td>1001099999</td>\n",
       "      <td>2019-01-01</td>\n",
       "      <td>70.933333</td>\n",
       "      <td>-8.666667</td>\n",
       "      <td>9.00</td>\n",
       "      <td>...</td>\n",
       "      <td></td>\n",
       "      <td>0.00</td>\n",
       "      <td>G</td>\n",
       "      <td>999.9</td>\n",
       "      <td>1000</td>\n",
       "    </tr>\n",
       "    <tr>\n",
       "      <th>1</th>\n",
       "      <td>1001499999</td>\n",
       "      <td>2019-01-01</td>\n",
       "      <td>59.791925</td>\n",
       "      <td>5.340850</td>\n",
       "      <td>48.76</td>\n",
       "      <td>...</td>\n",
       "      <td>*</td>\n",
       "      <td>99.99</td>\n",
       "      <td></td>\n",
       "      <td>999.9</td>\n",
       "      <td>10000</td>\n",
       "    </tr>\n",
       "    <tr>\n",
       "      <th>2</th>\n",
       "      <td>1002099999</td>\n",
       "      <td>2019-01-01</td>\n",
       "      <td>80.050000</td>\n",
       "      <td>16.250000</td>\n",
       "      <td>8.00</td>\n",
       "      <td>...</td>\n",
       "      <td></td>\n",
       "      <td>0.00</td>\n",
       "      <td>I</td>\n",
       "      <td>999.9</td>\n",
       "      <td>0</td>\n",
       "    </tr>\n",
       "    <tr>\n",
       "      <th>3</th>\n",
       "      <td>1003099999</td>\n",
       "      <td>2019-01-01</td>\n",
       "      <td>77.000000</td>\n",
       "      <td>15.500000</td>\n",
       "      <td>12.00</td>\n",
       "      <td>...</td>\n",
       "      <td>*</td>\n",
       "      <td>0.00</td>\n",
       "      <td>G</td>\n",
       "      <td>999.9</td>\n",
       "      <td>0</td>\n",
       "    </tr>\n",
       "    <tr>\n",
       "      <th>4</th>\n",
       "      <td>1006099999</td>\n",
       "      <td>2019-01-01</td>\n",
       "      <td>78.250000</td>\n",
       "      <td>22.816667</td>\n",
       "      <td>14.00</td>\n",
       "      <td>...</td>\n",
       "      <td></td>\n",
       "      <td>0.00</td>\n",
       "      <td>I</td>\n",
       "      <td>999.9</td>\n",
       "      <td>0</td>\n",
       "    </tr>\n",
       "    <tr>\n",
       "      <th>...</th>\n",
       "      <td>...</td>\n",
       "      <td>...</td>\n",
       "      <td>...</td>\n",
       "      <td>...</td>\n",
       "      <td>...</td>\n",
       "      <td>...</td>\n",
       "      <td>...</td>\n",
       "      <td>...</td>\n",
       "      <td>...</td>\n",
       "      <td>...</td>\n",
       "      <td>...</td>\n",
       "    </tr>\n",
       "    <tr>\n",
       "      <th>1248</th>\n",
       "      <td>6797099999</td>\n",
       "      <td>2019-01-01</td>\n",
       "      <td>46.416667</td>\n",
       "      <td>10.016667</td>\n",
       "      <td>2260.22</td>\n",
       "      <td>...</td>\n",
       "      <td></td>\n",
       "      <td>0.00</td>\n",
       "      <td>G</td>\n",
       "      <td>999.9</td>\n",
       "      <td>0</td>\n",
       "    </tr>\n",
       "    <tr>\n",
       "      <th>1249</th>\n",
       "      <td>6798099999</td>\n",
       "      <td>2019-01-01</td>\n",
       "      <td>46.800000</td>\n",
       "      <td>10.283333</td>\n",
       "      <td>1295.00</td>\n",
       "      <td>...</td>\n",
       "      <td></td>\n",
       "      <td>0.02</td>\n",
       "      <td>G</td>\n",
       "      <td>999.9</td>\n",
       "      <td>0</td>\n",
       "    </tr>\n",
       "    <tr>\n",
       "      <th>1250</th>\n",
       "      <td>6799099999</td>\n",
       "      <td>2019-01-01</td>\n",
       "      <td>46.816667</td>\n",
       "      <td>10.266667</td>\n",
       "      <td>2400.00</td>\n",
       "      <td>...</td>\n",
       "      <td>*</td>\n",
       "      <td>0.00</td>\n",
       "      <td>I</td>\n",
       "      <td>999.9</td>\n",
       "      <td>0</td>\n",
       "    </tr>\n",
       "    <tr>\n",
       "      <th>1251</th>\n",
       "      <td>6806599999</td>\n",
       "      <td>2019-01-01</td>\n",
       "      <td>46.966667</td>\n",
       "      <td>8.400000</td>\n",
       "      <td>450.00</td>\n",
       "      <td>...</td>\n",
       "      <td>*</td>\n",
       "      <td>0.00</td>\n",
       "      <td>I</td>\n",
       "      <td>999.9</td>\n",
       "      <td>0</td>\n",
       "    </tr>\n",
       "    <tr>\n",
       "      <th>1254</th>\n",
       "      <td>6990099999</td>\n",
       "      <td>2019-01-01</td>\n",
       "      <td>47.133333</td>\n",
       "      <td>9.516667</td>\n",
       "      <td>463.00</td>\n",
       "      <td>...</td>\n",
       "      <td></td>\n",
       "      <td>0.09</td>\n",
       "      <td>G</td>\n",
       "      <td>999.9</td>\n",
       "      <td>100000</td>\n",
       "    </tr>\n",
       "  </tbody>\n",
       "</table>\n",
       "<p>1191 rows × 28 columns</p>\n",
       "</div>"
      ],
      "text/plain": [
       "         STATION       DATE   LATITUDE  LONGITUDE  ELEVATION  ...  \\\n",
       "0     1001099999 2019-01-01  70.933333  -8.666667       9.00  ...   \n",
       "1     1001499999 2019-01-01  59.791925   5.340850      48.76  ...   \n",
       "2     1002099999 2019-01-01  80.050000  16.250000       8.00  ...   \n",
       "3     1003099999 2019-01-01  77.000000  15.500000      12.00  ...   \n",
       "4     1006099999 2019-01-01  78.250000  22.816667      14.00  ...   \n",
       "...          ...        ...        ...        ...        ...  ...   \n",
       "1248  6797099999 2019-01-01  46.416667  10.016667    2260.22  ...   \n",
       "1249  6798099999 2019-01-01  46.800000  10.283333    1295.00  ...   \n",
       "1250  6799099999 2019-01-01  46.816667  10.266667    2400.00  ...   \n",
       "1251  6806599999 2019-01-01  46.966667   8.400000     450.00  ...   \n",
       "1254  6990099999 2019-01-01  47.133333   9.516667     463.00  ...   \n",
       "\n",
       "     MIN_ATTRIBUTES   PRCP  PRCP_ATTRIBUTES   SNDP  FRSHTT  \n",
       "0                     0.00                G  999.9    1000  \n",
       "1                 *  99.99                   999.9   10000  \n",
       "2                     0.00                I  999.9       0  \n",
       "3                 *   0.00                G  999.9       0  \n",
       "4                     0.00                I  999.9       0  \n",
       "...             ...    ...              ...    ...     ...  \n",
       "1248                  0.00                G  999.9       0  \n",
       "1249                  0.02                G  999.9       0  \n",
       "1250              *   0.00                I  999.9       0  \n",
       "1251              *   0.00                I  999.9       0  \n",
       "1254                  0.09                G  999.9  100000  \n",
       "\n",
       "[1191 rows x 28 columns]"
      ]
     },
     "execution_count": 2,
     "metadata": {},
     "output_type": "execute_result"
    }
   ],
   "source": [
    "df = pd.read_parquet('data/NOAA-Jan1.parquet')\n",
    "df"
   ]
  },
  {
   "cell_type": "code",
   "execution_count": 3,
   "metadata": {},
   "outputs": [],
   "source": [
    "df.set_index('NAME', inplace=True)\n",
    "temps = df[['TEMP', 'LATITUDE', 'ELEVATION', 'PRCP', 'PRCP_ATTRIBUTES']]"
   ]
  },
  {
   "cell_type": "code",
   "execution_count": 4,
   "metadata": {},
   "outputs": [
    {
     "data": {
      "text/html": [
       "<div>\n",
       "<style scoped>\n",
       "    .dataframe tbody tr th:only-of-type {\n",
       "        vertical-align: middle;\n",
       "    }\n",
       "\n",
       "    .dataframe tbody tr th {\n",
       "        vertical-align: top;\n",
       "    }\n",
       "\n",
       "    .dataframe thead th {\n",
       "        text-align: right;\n",
       "    }\n",
       "</style>\n",
       "<table border=\"1\" class=\"dataframe\">\n",
       "  <thead>\n",
       "    <tr style=\"text-align: right;\">\n",
       "      <th></th>\n",
       "      <th>TEMP</th>\n",
       "      <th>LATITUDE</th>\n",
       "      <th>ELEVATION</th>\n",
       "      <th>PRCP</th>\n",
       "      <th>PRCP_ATTRIBUTES</th>\n",
       "    </tr>\n",
       "    <tr>\n",
       "      <th>NAME</th>\n",
       "      <th></th>\n",
       "      <th></th>\n",
       "      <th></th>\n",
       "      <th></th>\n",
       "      <th></th>\n",
       "    </tr>\n",
       "  </thead>\n",
       "  <tbody>\n",
       "    <tr>\n",
       "      <th>JAN MAYEN NOR NAVY, NO</th>\n",
       "      <td>24.0</td>\n",
       "      <td>70.933333</td>\n",
       "      <td>9.00</td>\n",
       "      <td>0.00</td>\n",
       "      <td>G</td>\n",
       "    </tr>\n",
       "    <tr>\n",
       "      <th>SORSTOKKEN, NO</th>\n",
       "      <td>39.7</td>\n",
       "      <td>59.791925</td>\n",
       "      <td>48.76</td>\n",
       "      <td>99.99</td>\n",
       "      <td></td>\n",
       "    </tr>\n",
       "    <tr>\n",
       "      <th>VERLEGENHUKEN, NO</th>\n",
       "      <td>-0.1</td>\n",
       "      <td>80.050000</td>\n",
       "      <td>8.00</td>\n",
       "      <td>0.00</td>\n",
       "      <td>I</td>\n",
       "    </tr>\n",
       "    <tr>\n",
       "      <th>HORNSUND, NO</th>\n",
       "      <td>3.9</td>\n",
       "      <td>77.000000</td>\n",
       "      <td>12.00</td>\n",
       "      <td>0.00</td>\n",
       "      <td>G</td>\n",
       "    </tr>\n",
       "    <tr>\n",
       "      <th>EDGEOYA, NO</th>\n",
       "      <td>5.2</td>\n",
       "      <td>78.250000</td>\n",
       "      <td>14.00</td>\n",
       "      <td>0.00</td>\n",
       "      <td>I</td>\n",
       "    </tr>\n",
       "    <tr>\n",
       "      <th>...</th>\n",
       "      <td>...</td>\n",
       "      <td>...</td>\n",
       "      <td>...</td>\n",
       "      <td>...</td>\n",
       "      <td>...</td>\n",
       "    </tr>\n",
       "    <tr>\n",
       "      <th>TROMSO, NO</th>\n",
       "      <td>26.6</td>\n",
       "      <td>69.683333</td>\n",
       "      <td>9.44</td>\n",
       "      <td>0.00</td>\n",
       "      <td>G</td>\n",
       "    </tr>\n",
       "    <tr>\n",
       "      <th>TROMSO, NO</th>\n",
       "      <td>26.1</td>\n",
       "      <td>69.650000</td>\n",
       "      <td>114.50</td>\n",
       "      <td>0.02</td>\n",
       "      <td>G</td>\n",
       "    </tr>\n",
       "    <tr>\n",
       "      <th>TROMSO HOLT, NO</th>\n",
       "      <td>27.5</td>\n",
       "      <td>69.650000</td>\n",
       "      <td>20.00</td>\n",
       "      <td>0.04</td>\n",
       "      <td>E</td>\n",
       "    </tr>\n",
       "    <tr>\n",
       "      <th>BJORNOYA ISLAND, NO</th>\n",
       "      <td>18.3</td>\n",
       "      <td>74.516667</td>\n",
       "      <td>18.00</td>\n",
       "      <td>0.00</td>\n",
       "      <td>G</td>\n",
       "    </tr>\n",
       "    <tr>\n",
       "      <th>KISTEFJELL, NO</th>\n",
       "      <td>14.6</td>\n",
       "      <td>69.283333</td>\n",
       "      <td>982.00</td>\n",
       "      <td>0.00</td>\n",
       "      <td>I</td>\n",
       "    </tr>\n",
       "  </tbody>\n",
       "</table>\n",
       "<p>20 rows × 5 columns</p>\n",
       "</div>"
      ],
      "text/plain": [
       "                        TEMP   LATITUDE  ELEVATION   PRCP PRCP_ATTRIBUTES\n",
       "NAME                                                                     \n",
       "JAN MAYEN NOR NAVY, NO  24.0  70.933333       9.00   0.00               G\n",
       "SORSTOKKEN, NO          39.7  59.791925      48.76  99.99                \n",
       "VERLEGENHUKEN, NO       -0.1  80.050000       8.00   0.00               I\n",
       "HORNSUND, NO             3.9  77.000000      12.00   0.00               G\n",
       "EDGEOYA, NO              5.2  78.250000      14.00   0.00               I\n",
       "...                      ...        ...        ...    ...             ...\n",
       "TROMSO, NO              26.6  69.683333       9.44   0.00               G\n",
       "TROMSO, NO              26.1  69.650000     114.50   0.02               G\n",
       "TROMSO HOLT, NO         27.5  69.650000      20.00   0.04               E\n",
       "BJORNOYA ISLAND, NO     18.3  74.516667      18.00   0.00               G\n",
       "KISTEFJELL, NO          14.6  69.283333     982.00   0.00               I\n",
       "\n",
       "[20 rows x 5 columns]"
      ]
     },
     "execution_count": 4,
     "metadata": {},
     "output_type": "execute_result"
    }
   ],
   "source": [
    "# Show the first 20 rows in on-disk (random-ish) order\n",
    "temps.head(20)"
   ]
  },
  {
   "cell_type": "markdown",
   "metadata": {},
   "source": [
    "Discussion of plots and visualization is presented in other lessons, but a nice example where order is likely to be relevant is in plotting data.  Given the random-ish order of the data, we do not see any pattern, but simply different values."
   ]
  },
  {
   "cell_type": "code",
   "execution_count": 5,
   "metadata": {},
   "outputs": [
    {
     "data": {
      "image/png": "[encoded data removed]",
      "text/plain": [
       "<Figure size 640x480 with 1 Axes>"
      ]
     },
     "metadata": {},
     "output_type": "display_data"
    }
   ],
   "source": [
    "# We might visualize this data, but it is mostly just a list\n",
    "temps.head(20).TEMP.plot(kind='bar');"
   ]
  },
  {
   "cell_type": "markdown",
   "metadata": {},
   "source": [
    "## Sort by Index\n",
    "\n",
    "Sometimes we would like to order by the index.  In this case, where the index is simply station names, this is probably of less significance.  Scanning by alphabetical order is certainly easier than random order, but we do not expect any particular trend or pattern in the place names."
   ]
  },
  {
   "cell_type": "code",
   "execution_count": 6,
   "metadata": {},
   "outputs": [
    {
     "data": {
      "text/html": [
       "<div>\n",
       "<style scoped>\n",
       "    .dataframe tbody tr th:only-of-type {\n",
       "        vertical-align: middle;\n",
       "    }\n",
       "\n",
       "    .dataframe tbody tr th {\n",
       "        vertical-align: top;\n",
       "    }\n",
       "\n",
       "    .dataframe thead th {\n",
       "        text-align: right;\n",
       "    }\n",
       "</style>\n",
       "<table border=\"1\" class=\"dataframe\">\n",
       "  <thead>\n",
       "    <tr style=\"text-align: right;\">\n",
       "      <th></th>\n",
       "      <th>TEMP</th>\n",
       "      <th>LATITUDE</th>\n",
       "      <th>ELEVATION</th>\n",
       "      <th>PRCP</th>\n",
       "      <th>PRCP_ATTRIBUTES</th>\n",
       "    </tr>\n",
       "    <tr>\n",
       "      <th>NAME</th>\n",
       "      <th></th>\n",
       "      <th></th>\n",
       "      <th></th>\n",
       "      <th></th>\n",
       "      <th></th>\n",
       "    </tr>\n",
       "  </thead>\n",
       "  <tbody>\n",
       "    <tr>\n",
       "      <th>A12 CPP HELIPAD OIL PLATFORM, NL</th>\n",
       "      <td>45.9</td>\n",
       "      <td>55.416667</td>\n",
       "      <td>33.00</td>\n",
       "      <td>99.99</td>\n",
       "      <td></td>\n",
       "    </tr>\n",
       "    <tr>\n",
       "      <th>AADORF TAENIKON, SZ</th>\n",
       "      <td>38.0</td>\n",
       "      <td>47.483333</td>\n",
       "      <td>539.53</td>\n",
       "      <td>0.05</td>\n",
       "      <td>G</td>\n",
       "    </tr>\n",
       "    <tr>\n",
       "      <th>AALESUND, NO</th>\n",
       "      <td>40.5</td>\n",
       "      <td>62.466667</td>\n",
       "      <td>50.00</td>\n",
       "      <td>1.53</td>\n",
       "      <td>G</td>\n",
       "    </tr>\n",
       "    <tr>\n",
       "      <th>AARHUS SYD, DA</th>\n",
       "      <td>42.2</td>\n",
       "      <td>56.083333</td>\n",
       "      <td>55.00</td>\n",
       "      <td>0.02</td>\n",
       "      <td>G</td>\n",
       "    </tr>\n",
       "    <tr>\n",
       "      <th>AARHUS, DA</th>\n",
       "      <td>44.2</td>\n",
       "      <td>56.300017</td>\n",
       "      <td>24.99</td>\n",
       "      <td>0.03</td>\n",
       "      <td>G</td>\n",
       "    </tr>\n",
       "    <tr>\n",
       "      <th>AARS SYD, DA</th>\n",
       "      <td>42.2</td>\n",
       "      <td>56.750000</td>\n",
       "      <td>33.00</td>\n",
       "      <td>0.04</td>\n",
       "      <td>G</td>\n",
       "    </tr>\n",
       "    <tr>\n",
       "      <th>AARSLEV, DA</th>\n",
       "      <td>42.6</td>\n",
       "      <td>55.316667</td>\n",
       "      <td>51.00</td>\n",
       "      <td>0.05</td>\n",
       "      <td>G</td>\n",
       "    </tr>\n",
       "    <tr>\n",
       "      <th>AASIAAT EGEDESMINDE, GL</th>\n",
       "      <td>21.9</td>\n",
       "      <td>68.700000</td>\n",
       "      <td>41.00</td>\n",
       "      <td>0.02</td>\n",
       "      <td>G</td>\n",
       "    </tr>\n",
       "    <tr>\n",
       "      <th>AASIAAT MITTARFIA, GL</th>\n",
       "      <td>22.6</td>\n",
       "      <td>68.717000</td>\n",
       "      <td>27.00</td>\n",
       "      <td>99.99</td>\n",
       "      <td></td>\n",
       "    </tr>\n",
       "    <tr>\n",
       "      <th>ABED, DA</th>\n",
       "      <td>43.0</td>\n",
       "      <td>54.833333</td>\n",
       "      <td>9.00</td>\n",
       "      <td>0.02</td>\n",
       "      <td>G</td>\n",
       "    </tr>\n",
       "  </tbody>\n",
       "</table>\n",
       "</div>"
      ],
      "text/plain": [
       "                                  TEMP   LATITUDE  ELEVATION   PRCP  \\\n",
       "NAME                                                                  \n",
       "A12 CPP HELIPAD OIL PLATFORM, NL  45.9  55.416667      33.00  99.99   \n",
       "AADORF TAENIKON, SZ               38.0  47.483333     539.53   0.05   \n",
       "AALESUND, NO                      40.5  62.466667      50.00   1.53   \n",
       "AARHUS SYD, DA                    42.2  56.083333      55.00   0.02   \n",
       "AARHUS, DA                        44.2  56.300017      24.99   0.03   \n",
       "AARS SYD, DA                      42.2  56.750000      33.00   0.04   \n",
       "AARSLEV, DA                       42.6  55.316667      51.00   0.05   \n",
       "AASIAAT EGEDESMINDE, GL           21.9  68.700000      41.00   0.02   \n",
       "AASIAAT MITTARFIA, GL             22.6  68.717000      27.00  99.99   \n",
       "ABED, DA                          43.0  54.833333       9.00   0.02   \n",
       "\n",
       "                                 PRCP_ATTRIBUTES  \n",
       "NAME                                              \n",
       "A12 CPP HELIPAD OIL PLATFORM, NL                  \n",
       "AADORF TAENIKON, SZ                            G  \n",
       "AALESUND, NO                                   G  \n",
       "AARHUS SYD, DA                                 G  \n",
       "AARHUS, DA                                     G  \n",
       "AARS SYD, DA                                   G  \n",
       "AARSLEV, DA                                    G  \n",
       "AASIAAT EGEDESMINDE, GL                        G  \n",
       "AASIAAT MITTARFIA, GL                             \n",
       "ABED, DA                                       G  "
      ]
     },
     "execution_count": 6,
     "metadata": {},
     "output_type": "execute_result"
    }
   ],
   "source": [
    "# Order by the index\n",
    "temps.sort_index().head(10)"
   ]
  },
  {
   "cell_type": "markdown",
   "metadata": {},
   "source": [
    "## Sort by Column\n",
    "\n",
    "Often the field we would like to order by is one of the columns, perhaps to identify patterns in how other columns behave as one field increases/decreases."
   ]
  },
  {
   "cell_type": "code",
   "execution_count": 7,
   "metadata": {},
   "outputs": [
    {
     "data": {
      "text/html": [
       "<div>\n",
       "<style scoped>\n",
       "    .dataframe tbody tr th:only-of-type {\n",
       "        vertical-align: middle;\n",
       "    }\n",
       "\n",
       "    .dataframe tbody tr th {\n",
       "        vertical-align: top;\n",
       "    }\n",
       "\n",
       "    .dataframe thead th {\n",
       "        text-align: right;\n",
       "    }\n",
       "</style>\n",
       "<table border=\"1\" class=\"dataframe\">\n",
       "  <thead>\n",
       "    <tr style=\"text-align: right;\">\n",
       "      <th></th>\n",
       "      <th>TEMP</th>\n",
       "      <th>LATITUDE</th>\n",
       "      <th>ELEVATION</th>\n",
       "      <th>PRCP</th>\n",
       "      <th>PRCP_ATTRIBUTES</th>\n",
       "    </tr>\n",
       "    <tr>\n",
       "      <th>NAME</th>\n",
       "      <th></th>\n",
       "      <th></th>\n",
       "      <th></th>\n",
       "      <th></th>\n",
       "      <th></th>\n",
       "    </tr>\n",
       "  </thead>\n",
       "  <tbody>\n",
       "    <tr>\n",
       "      <th>FLAKKEBJERG, DA</th>\n",
       "      <td>-39.7</td>\n",
       "      <td>55.316667</td>\n",
       "      <td>34.0</td>\n",
       "      <td>0.02</td>\n",
       "      <td>G</td>\n",
       "    </tr>\n",
       "    <tr>\n",
       "      <th>SUMMIT, GL</th>\n",
       "      <td>-30.6</td>\n",
       "      <td>72.583333</td>\n",
       "      <td>3207.0</td>\n",
       "      <td>0.00</td>\n",
       "      <td>I</td>\n",
       "    </tr>\n",
       "    <tr>\n",
       "      <th>STATION NORD AWS, GL</th>\n",
       "      <td>-10.6</td>\n",
       "      <td>81.600000</td>\n",
       "      <td>36.0</td>\n",
       "      <td>0.00</td>\n",
       "      <td>I</td>\n",
       "    </tr>\n",
       "    <tr>\n",
       "      <th>KAP MORRIS JESUP, GL</th>\n",
       "      <td>-7.1</td>\n",
       "      <td>83.650000</td>\n",
       "      <td>4.0</td>\n",
       "      <td>0.00</td>\n",
       "      <td>I</td>\n",
       "    </tr>\n",
       "    <tr>\n",
       "      <th>DANMARKSHAVN PORT, GL</th>\n",
       "      <td>-6.4</td>\n",
       "      <td>76.766667</td>\n",
       "      <td>12.0</td>\n",
       "      <td>0.00</td>\n",
       "      <td>I</td>\n",
       "    </tr>\n",
       "  </tbody>\n",
       "</table>\n",
       "</div>"
      ],
      "text/plain": [
       "                       TEMP   LATITUDE  ELEVATION  PRCP PRCP_ATTRIBUTES\n",
       "NAME                                                                   \n",
       "FLAKKEBJERG, DA       -39.7  55.316667       34.0  0.02               G\n",
       "SUMMIT, GL            -30.6  72.583333     3207.0  0.00               I\n",
       "STATION NORD AWS, GL  -10.6  81.600000       36.0  0.00               I\n",
       "KAP MORRIS JESUP, GL   -7.1  83.650000        4.0  0.00               I\n",
       "DANMARKSHAVN PORT, GL  -6.4  76.766667       12.0  0.00               I"
      ]
     },
     "execution_count": 7,
     "metadata": {},
     "output_type": "execute_result"
    }
   ],
   "source": [
    "# Order by temperature (coldest first)\n",
    "temps.sort_values('TEMP').head()"
   ]
  },
  {
   "cell_type": "code",
   "execution_count": 8,
   "metadata": {},
   "outputs": [
    {
     "data": {
      "text/html": [
       "<div>\n",
       "<style scoped>\n",
       "    .dataframe tbody tr th:only-of-type {\n",
       "        vertical-align: middle;\n",
       "    }\n",
       "\n",
       "    .dataframe tbody tr th {\n",
       "        vertical-align: top;\n",
       "    }\n",
       "\n",
       "    .dataframe thead th {\n",
       "        text-align: right;\n",
       "    }\n",
       "</style>\n",
       "<table border=\"1\" class=\"dataframe\">\n",
       "  <thead>\n",
       "    <tr style=\"text-align: right;\">\n",
       "      <th></th>\n",
       "      <th>TEMP</th>\n",
       "      <th>LATITUDE</th>\n",
       "      <th>ELEVATION</th>\n",
       "      <th>PRCP</th>\n",
       "      <th>PRCP_ATTRIBUTES</th>\n",
       "    </tr>\n",
       "    <tr>\n",
       "      <th>NAME</th>\n",
       "      <th></th>\n",
       "      <th></th>\n",
       "      <th></th>\n",
       "      <th></th>\n",
       "      <th></th>\n",
       "    </tr>\n",
       "  </thead>\n",
       "  <tbody>\n",
       "    <tr>\n",
       "      <th>SCILLY SAINT MARY S, UK</th>\n",
       "      <td>49.7</td>\n",
       "      <td>49.916667</td>\n",
       "      <td>31.00</td>\n",
       "      <td>0.00</td>\n",
       "      <td>G</td>\n",
       "    </tr>\n",
       "    <tr>\n",
       "      <th>GLOUCESTERSHIRE, UK</th>\n",
       "      <td>49.6</td>\n",
       "      <td>51.894167</td>\n",
       "      <td>30.78</td>\n",
       "      <td>0.00</td>\n",
       "      <td>I</td>\n",
       "    </tr>\n",
       "    <tr>\n",
       "      <th>MACE HEAD, EI</th>\n",
       "      <td>49.4</td>\n",
       "      <td>53.316667</td>\n",
       "      <td>23.00</td>\n",
       "      <td>0.00</td>\n",
       "      <td>H</td>\n",
       "    </tr>\n",
       "    <tr>\n",
       "      <th>VALENTIA OBSERVATORY, EI</th>\n",
       "      <td>49.3</td>\n",
       "      <td>51.933333</td>\n",
       "      <td>30.00</td>\n",
       "      <td>0.00</td>\n",
       "      <td>F</td>\n",
       "    </tr>\n",
       "    <tr>\n",
       "      <th>EXETER, UK</th>\n",
       "      <td>49.3</td>\n",
       "      <td>50.734444</td>\n",
       "      <td>31.08</td>\n",
       "      <td>99.99</td>\n",
       "      <td></td>\n",
       "    </tr>\n",
       "  </tbody>\n",
       "</table>\n",
       "</div>"
      ],
      "text/plain": [
       "                          TEMP   LATITUDE  ELEVATION   PRCP PRCP_ATTRIBUTES\n",
       "NAME                                                                       \n",
       "SCILLY SAINT MARY S, UK   49.7  49.916667      31.00   0.00               G\n",
       "GLOUCESTERSHIRE, UK       49.6  51.894167      30.78   0.00               I\n",
       "MACE HEAD, EI             49.4  53.316667      23.00   0.00               H\n",
       "VALENTIA OBSERVATORY, EI  49.3  51.933333      30.00   0.00               F\n",
       "EXETER, UK                49.3  50.734444      31.08  99.99                "
      ]
     },
     "execution_count": 8,
     "metadata": {},
     "output_type": "execute_result"
    }
   ],
   "source": [
    "# Order by temperature (warmest first)\n",
    "temps.sort_values('TEMP', ascending=False).head()"
   ]
  },
  {
   "cell_type": "markdown",
   "metadata": {},
   "source": [
    "### Combine sorting and analysis\n",
    "\n",
    "Once ordered, a more interesting pattern might emerge."
   ]
  },
  {
   "cell_type": "code",
   "execution_count": 9,
   "metadata": {},
   "outputs": [
    {
     "data": {
      "image/png": "[encoded data removed]",
      "text/plain": [
       "<Figure size 640x480 with 1 Axes>"
      ]
     },
     "metadata": {},
     "output_type": "display_data"
    }
   ],
   "source": [
    "# Order by temperature (coldest first)\n",
    "temps.sort_values('TEMP').TEMP.head(25).plot(kind='bar');"
   ]
  },
  {
   "cell_type": "markdown",
   "metadata": {},
   "source": [
    "### Sort one feature, analyze another\n",
    "\n",
    "In fact, we need not order by the same feature we visualize or analyze.  For example, what is the pattern of temperature on January 1, ordered from highest point to lower elevations?"
   ]
  },
  {
   "cell_type": "code",
   "execution_count": 10,
   "metadata": {},
   "outputs": [
    {
     "data": {
      "text/html": [
       "<div>\n",
       "<style scoped>\n",
       "    .dataframe tbody tr th:only-of-type {\n",
       "        vertical-align: middle;\n",
       "    }\n",
       "\n",
       "    .dataframe tbody tr th {\n",
       "        vertical-align: top;\n",
       "    }\n",
       "\n",
       "    .dataframe thead th {\n",
       "        text-align: right;\n",
       "    }\n",
       "</style>\n",
       "<table border=\"1\" class=\"dataframe\">\n",
       "  <thead>\n",
       "    <tr style=\"text-align: right;\">\n",
       "      <th></th>\n",
       "      <th>TEMP</th>\n",
       "      <th>LATITUDE</th>\n",
       "      <th>ELEVATION</th>\n",
       "      <th>PRCP</th>\n",
       "      <th>PRCP_ATTRIBUTES</th>\n",
       "    </tr>\n",
       "    <tr>\n",
       "      <th>NAME</th>\n",
       "      <th></th>\n",
       "      <th></th>\n",
       "      <th></th>\n",
       "      <th></th>\n",
       "      <th></th>\n",
       "    </tr>\n",
       "  </thead>\n",
       "  <tbody>\n",
       "    <tr>\n",
       "      <th>KAP MORRIS JESUP, GL</th>\n",
       "      <td>-7.1</td>\n",
       "      <td>83.650000</td>\n",
       "      <td>4.0</td>\n",
       "      <td>0.0</td>\n",
       "      <td>I</td>\n",
       "    </tr>\n",
       "    <tr>\n",
       "      <th>STATION NORD AWS, GL</th>\n",
       "      <td>-10.6</td>\n",
       "      <td>81.600000</td>\n",
       "      <td>36.0</td>\n",
       "      <td>0.0</td>\n",
       "      <td>I</td>\n",
       "    </tr>\n",
       "    <tr>\n",
       "      <th>KARL XII OYA, SV</th>\n",
       "      <td>-2.3</td>\n",
       "      <td>80.650000</td>\n",
       "      <td>5.0</td>\n",
       "      <td>0.0</td>\n",
       "      <td>I</td>\n",
       "    </tr>\n",
       "    <tr>\n",
       "      <th>KVITOYA, SV</th>\n",
       "      <td>-0.6</td>\n",
       "      <td>80.066667</td>\n",
       "      <td>10.0</td>\n",
       "      <td>0.0</td>\n",
       "      <td>I</td>\n",
       "    </tr>\n",
       "    <tr>\n",
       "      <th>VERLEGENHUKEN, NO</th>\n",
       "      <td>-0.1</td>\n",
       "      <td>80.050000</td>\n",
       "      <td>8.0</td>\n",
       "      <td>0.0</td>\n",
       "      <td>I</td>\n",
       "    </tr>\n",
       "    <tr>\n",
       "      <th>...</th>\n",
       "      <td>...</td>\n",
       "      <td>...</td>\n",
       "      <td>...</td>\n",
       "      <td>...</td>\n",
       "      <td>...</td>\n",
       "    </tr>\n",
       "    <tr>\n",
       "      <th>AKSELOYA, SV</th>\n",
       "      <td>5.3</td>\n",
       "      <td>77.683333</td>\n",
       "      <td>6.0</td>\n",
       "      <td>0.0</td>\n",
       "      <td>I</td>\n",
       "    </tr>\n",
       "    <tr>\n",
       "      <th>MITTARFIK QAANAAQ, GL</th>\n",
       "      <td>-4.6</td>\n",
       "      <td>77.483333</td>\n",
       "      <td>16.0</td>\n",
       "      <td>0.0</td>\n",
       "      <td>I</td>\n",
       "    </tr>\n",
       "    <tr>\n",
       "      <th>HORNSUND, NO</th>\n",
       "      <td>3.9</td>\n",
       "      <td>77.000000</td>\n",
       "      <td>12.0</td>\n",
       "      <td>0.0</td>\n",
       "      <td>G</td>\n",
       "    </tr>\n",
       "    <tr>\n",
       "      <th>DANMARKSHAVN PORT, GL</th>\n",
       "      <td>-6.4</td>\n",
       "      <td>76.766667</td>\n",
       "      <td>12.0</td>\n",
       "      <td>0.0</td>\n",
       "      <td>I</td>\n",
       "    </tr>\n",
       "    <tr>\n",
       "      <th>KITSISSUT CAREY OEER, GL</th>\n",
       "      <td>7.6</td>\n",
       "      <td>76.633333</td>\n",
       "      <td>11.0</td>\n",
       "      <td>0.0</td>\n",
       "      <td>I</td>\n",
       "    </tr>\n",
       "  </tbody>\n",
       "</table>\n",
       "<p>15 rows × 5 columns</p>\n",
       "</div>"
      ],
      "text/plain": [
       "                          TEMP   LATITUDE  ELEVATION  PRCP PRCP_ATTRIBUTES\n",
       "NAME                                                                      \n",
       "KAP MORRIS JESUP, GL      -7.1  83.650000        4.0   0.0               I\n",
       "STATION NORD AWS, GL     -10.6  81.600000       36.0   0.0               I\n",
       "KARL XII OYA, SV          -2.3  80.650000        5.0   0.0               I\n",
       "KVITOYA, SV               -0.6  80.066667       10.0   0.0               I\n",
       "VERLEGENHUKEN, NO         -0.1  80.050000        8.0   0.0               I\n",
       "...                        ...        ...        ...   ...             ...\n",
       "AKSELOYA, SV               5.3  77.683333        6.0   0.0               I\n",
       "MITTARFIK QAANAAQ, GL     -4.6  77.483333       16.0   0.0               I\n",
       "HORNSUND, NO               3.9  77.000000       12.0   0.0               G\n",
       "DANMARKSHAVN PORT, GL     -6.4  76.766667       12.0   0.0               I\n",
       "KITSISSUT CAREY OEER, GL   7.6  76.633333       11.0   0.0               I\n",
       "\n",
       "[15 rows x 5 columns]"
      ]
     },
     "execution_count": 10,
     "metadata": {},
     "output_type": "execute_result"
    }
   ],
   "source": [
    "temps.sort_values('LATITUDE', ascending=False).head(15)"
   ]
  },
  {
   "cell_type": "code",
   "execution_count": 11,
   "metadata": {},
   "outputs": [
    {
     "data": {
      "image/png": "[encoded data removed]",
      "text/plain": [
       "<Figure size 640x480 with 1 Axes>"
      ]
     },
     "metadata": {},
     "output_type": "display_data"
    }
   ],
   "source": [
    "# Start to use Pandas \"fluent style\" for chained operations\n",
    "(temps\n",
    "     .sort_values('LATITUDE', ascending=False)\n",
    "     .TEMP\n",
    "     .head(30)\n",
    "     .plot(kind='bar', title=\"Station temperature orders by latitude\")\n",
    ");"
   ]
  },
  {
   "cell_type": "markdown",
   "metadata": {},
   "source": [
    "Just looking at the names of stations, even if they are ordered in a meaningful way, may not best reveal a general pattern among features.  We might first set the index to one feature, sort on index, then visualize or analyze another featuere so ordered."
   ]
  },
  {
   "cell_type": "code",
   "execution_count": 12,
   "metadata": {},
   "outputs": [
    {
     "data": {
      "image/png": "[encoded data removed]",
      "text/plain": [
       "<Figure size 640x480 with 1 Axes>"
      ]
     },
     "metadata": {},
     "output_type": "display_data"
    }
   ],
   "source": [
    "# No need to limit to small number of points if using line plot\n",
    "(temps\n",
    "     .set_index('LATITUDE')\n",
    "     .sort_index()\n",
    "     .TEMP\n",
    "     .plot(title=\"Temperature as latitude varies\")\n",
    ");"
   ]
  },
  {
   "cell_type": "markdown",
   "metadata": {},
   "source": [
    "We see a general pattern of temperatures tending to be higher at lower latitudes, which is generally what we would expect.  We can also see that only a few stations are above about 70° N by the fact the lines are less crowded."
   ]
  },
  {
   "cell_type": "markdown",
   "metadata": {},
   "source": [
    "Something odd seems to be happening around 55° latitude that we could take a closer look at.  For example, perhaps elevation is having a significant effect here."
   ]
  },
  {
   "cell_type": "code",
   "execution_count": 13,
   "metadata": {},
   "outputs": [
    {
     "data": {
      "image/png": "[encoded data removed]",
      "text/plain": [
       "<Figure size 640x480 with 2 Axes>"
      ]
     },
     "metadata": {},
     "output_type": "display_data"
    }
   ],
   "source": [
    "(temps\n",
    "     .loc[(temps.LATITUDE > 55) & (temps.LATITUDE < 56)]\n",
    "     .set_index('LATITUDE')\n",
    "     .sort_index()\n",
    "     [['TEMP', 'ELEVATION']]\n",
    "     .plot(subplots=True, \n",
    "           title=\"Latitudes near 55°N by temperature and elevation\")\n",
    ");"
   ]
  },
  {
   "cell_type": "markdown",
   "metadata": {},
   "source": [
    "In this particular case, no clear pattern for the oddly cold temperature at one station is evident.  We could explore further, or it may be a data anomoly."
   ]
  },
  {
   "cell_type": "markdown",
   "metadata": {},
   "source": [
    "## Sort by Multiple Columns\n",
    "\n",
    "We can provide secondary or tertiary sort criteria when that is relevant, as well."
   ]
  },
  {
   "cell_type": "markdown",
   "metadata": {},
   "source": [
    "To make the data more manageable, let us select a smaller DataFrame of latitudes near 55° that we looked at above."
   ]
  },
  {
   "cell_type": "code",
   "execution_count": 14,
   "metadata": {},
   "outputs": [
    {
     "data": {
      "text/html": [
       "<div>\n",
       "<style scoped>\n",
       "    .dataframe tbody tr th:only-of-type {\n",
       "        vertical-align: middle;\n",
       "    }\n",
       "\n",
       "    .dataframe tbody tr th {\n",
       "        vertical-align: top;\n",
       "    }\n",
       "\n",
       "    .dataframe thead th {\n",
       "        text-align: right;\n",
       "    }\n",
       "</style>\n",
       "<table border=\"1\" class=\"dataframe\">\n",
       "  <thead>\n",
       "    <tr style=\"text-align: right;\">\n",
       "      <th></th>\n",
       "      <th>TEMP</th>\n",
       "      <th>LATITUDE</th>\n",
       "      <th>ELEVATION</th>\n",
       "      <th>PRCP</th>\n",
       "      <th>PRCP_ATTRIBUTES</th>\n",
       "    </tr>\n",
       "    <tr>\n",
       "      <th>NAME</th>\n",
       "      <th></th>\n",
       "      <th></th>\n",
       "      <th></th>\n",
       "      <th></th>\n",
       "      <th></th>\n",
       "    </tr>\n",
       "  </thead>\n",
       "  <tbody>\n",
       "    <tr>\n",
       "      <th>FALSTERBO A, SW</th>\n",
       "      <td>43.9</td>\n",
       "      <td>55.383333</td>\n",
       "      <td>5.00</td>\n",
       "      <td>0.00</td>\n",
       "      <td>I</td>\n",
       "    </tr>\n",
       "    <tr>\n",
       "      <th>HORBY, SW</th>\n",
       "      <td>41.8</td>\n",
       "      <td>55.866667</td>\n",
       "      <td>114.00</td>\n",
       "      <td>0.21</td>\n",
       "      <td>G</td>\n",
       "    </tr>\n",
       "    <tr>\n",
       "      <th>SKILLINGE, SW</th>\n",
       "      <td>43.1</td>\n",
       "      <td>55.483333</td>\n",
       "      <td>5.00</td>\n",
       "      <td>0.04</td>\n",
       "      <td>G</td>\n",
       "    </tr>\n",
       "    <tr>\n",
       "      <th>UTKLIPPAN, SW</th>\n",
       "      <td>42.3</td>\n",
       "      <td>55.950000</td>\n",
       "      <td>3.00</td>\n",
       "      <td>0.00</td>\n",
       "      <td>I</td>\n",
       "    </tr>\n",
       "    <tr>\n",
       "      <th>MALMO, SW</th>\n",
       "      <td>43.7</td>\n",
       "      <td>55.566667</td>\n",
       "      <td>21.00</td>\n",
       "      <td>0.15</td>\n",
       "      <td>G</td>\n",
       "    </tr>\n",
       "    <tr>\n",
       "      <th>...</th>\n",
       "      <td>...</td>\n",
       "      <td>...</td>\n",
       "      <td>...</td>\n",
       "      <td>...</td>\n",
       "      <td>...</td>\n",
       "    </tr>\n",
       "    <tr>\n",
       "      <th>SJAELSMARK, DA</th>\n",
       "      <td>43.1</td>\n",
       "      <td>55.883333</td>\n",
       "      <td>40.00</td>\n",
       "      <td>0.04</td>\n",
       "      <td>G</td>\n",
       "    </tr>\n",
       "    <tr>\n",
       "      <th>BORNHOLM RONNE, DA</th>\n",
       "      <td>43.6</td>\n",
       "      <td>55.063267</td>\n",
       "      <td>15.84</td>\n",
       "      <td>99.99</td>\n",
       "      <td></td>\n",
       "    </tr>\n",
       "    <tr>\n",
       "      <th>HAMMER ODDE FYR, DA</th>\n",
       "      <td>43.1</td>\n",
       "      <td>55.300000</td>\n",
       "      <td>9.00</td>\n",
       "      <td>0.02</td>\n",
       "      <td>G</td>\n",
       "    </tr>\n",
       "    <tr>\n",
       "      <th>NEXOE VEST, DA</th>\n",
       "      <td>42.7</td>\n",
       "      <td>55.050000</td>\n",
       "      <td>25.00</td>\n",
       "      <td>0.05</td>\n",
       "      <td>G</td>\n",
       "    </tr>\n",
       "    <tr>\n",
       "      <th>A12 CPP HELIPAD OIL PLATFORM, NL</th>\n",
       "      <td>45.9</td>\n",
       "      <td>55.416667</td>\n",
       "      <td>33.00</td>\n",
       "      <td>99.99</td>\n",
       "      <td></td>\n",
       "    </tr>\n",
       "  </tbody>\n",
       "</table>\n",
       "<p>63 rows × 5 columns</p>\n",
       "</div>"
      ],
      "text/plain": [
       "                                  TEMP   LATITUDE  ELEVATION   PRCP  \\\n",
       "NAME                                                                  \n",
       "FALSTERBO A, SW                   43.9  55.383333       5.00   0.00   \n",
       "HORBY, SW                         41.8  55.866667     114.00   0.21   \n",
       "SKILLINGE, SW                     43.1  55.483333       5.00   0.04   \n",
       "UTKLIPPAN, SW                     42.3  55.950000       3.00   0.00   \n",
       "MALMO, SW                         43.7  55.566667      21.00   0.15   \n",
       "...                                ...        ...        ...    ...   \n",
       "SJAELSMARK, DA                    43.1  55.883333      40.00   0.04   \n",
       "BORNHOLM RONNE, DA                43.6  55.063267      15.84  99.99   \n",
       "HAMMER ODDE FYR, DA               43.1  55.300000       9.00   0.02   \n",
       "NEXOE VEST, DA                    42.7  55.050000      25.00   0.05   \n",
       "A12 CPP HELIPAD OIL PLATFORM, NL  45.9  55.416667      33.00  99.99   \n",
       "\n",
       "                                 PRCP_ATTRIBUTES  \n",
       "NAME                                              \n",
       "FALSTERBO A, SW                                I  \n",
       "HORBY, SW                                      G  \n",
       "SKILLINGE, SW                                  G  \n",
       "UTKLIPPAN, SW                                  I  \n",
       "MALMO, SW                                      G  \n",
       "...                                          ...  \n",
       "SJAELSMARK, DA                                 G  \n",
       "BORNHOLM RONNE, DA                                \n",
       "HAMMER ODDE FYR, DA                            G  \n",
       "NEXOE VEST, DA                                 G  \n",
       "A12 CPP HELIPAD OIL PLATFORM, NL                  \n",
       "\n",
       "[63 rows x 5 columns]"
      ]
     },
     "execution_count": 14,
     "metadata": {},
     "output_type": "execute_result"
    }
   ],
   "source": [
    "temps55 = temps.loc[(temps.LATITUDE > 55) & (temps.LATITUDE < 56)].copy()\n",
    "temps55"
   ]
  },
  {
   "cell_type": "markdown",
   "metadata": {},
   "source": [
    "In this dataset we have a feature called `PRCP_ATTRIBUTES` which is a letter code describing the kind of precipitation.  We could consult NOAA better to understand the meanings of those codes, but for this purpose just note that there are a small number of them."
   ]
  },
  {
   "cell_type": "code",
   "execution_count": 15,
   "metadata": {},
   "outputs": [
    {
     "data": {
      "text/plain": [
       "array(['G', ' ', 'I', 'E', 'F', 'B', 'A', 'H'], dtype=object)"
      ]
     },
     "execution_count": 15,
     "metadata": {},
     "output_type": "execute_result"
    }
   ],
   "source": [
    "temps.PRCP_ATTRIBUTES.unique()"
   ]
  },
  {
   "cell_type": "markdown",
   "metadata": {},
   "source": [
    "Moreover, we would like to bin the different precipitation amounts into coarser increments just to make the secondary sort more evident."
   ]
  },
  {
   "cell_type": "code",
   "execution_count": 16,
   "metadata": {},
   "outputs": [
    {
     "data": {
      "text/html": [
       "<div>\n",
       "<style scoped>\n",
       "    .dataframe tbody tr th:only-of-type {\n",
       "        vertical-align: middle;\n",
       "    }\n",
       "\n",
       "    .dataframe tbody tr th {\n",
       "        vertical-align: top;\n",
       "    }\n",
       "\n",
       "    .dataframe thead th {\n",
       "        text-align: right;\n",
       "    }\n",
       "</style>\n",
       "<table border=\"1\" class=\"dataframe\">\n",
       "  <thead>\n",
       "    <tr style=\"text-align: right;\">\n",
       "      <th></th>\n",
       "      <th>TEMP</th>\n",
       "      <th>LATITUDE</th>\n",
       "      <th>ELEVATION</th>\n",
       "      <th>PRCP</th>\n",
       "      <th>PRCP_ATTRIBUTES</th>\n",
       "    </tr>\n",
       "    <tr>\n",
       "      <th>NAME</th>\n",
       "      <th></th>\n",
       "      <th></th>\n",
       "      <th></th>\n",
       "      <th></th>\n",
       "      <th></th>\n",
       "    </tr>\n",
       "  </thead>\n",
       "  <tbody>\n",
       "    <tr>\n",
       "      <th>STURUP, SW</th>\n",
       "      <td>42.8</td>\n",
       "      <td>55.530193</td>\n",
       "      <td>71.93</td>\n",
       "      <td>100.0</td>\n",
       "      <td></td>\n",
       "    </tr>\n",
       "    <tr>\n",
       "      <th>KRISTIANSTAD, SW</th>\n",
       "      <td>43.8</td>\n",
       "      <td>55.921686</td>\n",
       "      <td>23.16</td>\n",
       "      <td>100.0</td>\n",
       "      <td></td>\n",
       "    </tr>\n",
       "    <tr>\n",
       "      <th>GLASGOW, UK</th>\n",
       "      <td>40.6</td>\n",
       "      <td>55.871944</td>\n",
       "      <td>7.92</td>\n",
       "      <td>100.0</td>\n",
       "      <td></td>\n",
       "    </tr>\n",
       "    <tr>\n",
       "      <th>SPADEADAM, UK</th>\n",
       "      <td>37.7</td>\n",
       "      <td>55.050000</td>\n",
       "      <td>325.00</td>\n",
       "      <td>100.0</td>\n",
       "      <td></td>\n",
       "    </tr>\n",
       "    <tr>\n",
       "      <th>BOULMER, UK</th>\n",
       "      <td>45.4</td>\n",
       "      <td>55.424167</td>\n",
       "      <td>21.33</td>\n",
       "      <td>100.0</td>\n",
       "      <td></td>\n",
       "    </tr>\n",
       "    <tr>\n",
       "      <th>...</th>\n",
       "      <td>...</td>\n",
       "      <td>...</td>\n",
       "      <td>...</td>\n",
       "      <td>...</td>\n",
       "      <td>...</td>\n",
       "    </tr>\n",
       "    <tr>\n",
       "      <th>BLAAVANDSHUK, DA</th>\n",
       "      <td>43.4</td>\n",
       "      <td>55.550000</td>\n",
       "      <td>18.00</td>\n",
       "      <td>0.0</td>\n",
       "      <td>I</td>\n",
       "    </tr>\n",
       "    <tr>\n",
       "      <th>VESTER VEDSTED, DA</th>\n",
       "      <td>43.5</td>\n",
       "      <td>55.300000</td>\n",
       "      <td>4.00</td>\n",
       "      <td>0.0</td>\n",
       "      <td>I</td>\n",
       "    </tr>\n",
       "    <tr>\n",
       "      <th>KOLDING VAMDRUP, DA</th>\n",
       "      <td>43.0</td>\n",
       "      <td>55.436283</td>\n",
       "      <td>43.58</td>\n",
       "      <td>0.0</td>\n",
       "      <td>I</td>\n",
       "    </tr>\n",
       "    <tr>\n",
       "      <th>OMOE, DA</th>\n",
       "      <td>43.7</td>\n",
       "      <td>55.166667</td>\n",
       "      <td>3.00</td>\n",
       "      <td>0.0</td>\n",
       "      <td>I</td>\n",
       "    </tr>\n",
       "    <tr>\n",
       "      <th>JAEGERSBORG, DA</th>\n",
       "      <td>43.1</td>\n",
       "      <td>55.766667</td>\n",
       "      <td>42.00</td>\n",
       "      <td>0.0</td>\n",
       "      <td>I</td>\n",
       "    </tr>\n",
       "  </tbody>\n",
       "</table>\n",
       "<p>63 rows × 5 columns</p>\n",
       "</div>"
      ],
      "text/plain": [
       "                     TEMP   LATITUDE  ELEVATION   PRCP PRCP_ATTRIBUTES\n",
       "NAME                                                                  \n",
       "STURUP, SW           42.8  55.530193      71.93  100.0                \n",
       "KRISTIANSTAD, SW     43.8  55.921686      23.16  100.0                \n",
       "GLASGOW, UK          40.6  55.871944       7.92  100.0                \n",
       "SPADEADAM, UK        37.7  55.050000     325.00  100.0                \n",
       "BOULMER, UK          45.4  55.424167      21.33  100.0                \n",
       "...                   ...        ...        ...    ...             ...\n",
       "BLAAVANDSHUK, DA     43.4  55.550000      18.00    0.0               I\n",
       "VESTER VEDSTED, DA   43.5  55.300000       4.00    0.0               I\n",
       "KOLDING VAMDRUP, DA  43.0  55.436283      43.58    0.0               I\n",
       "OMOE, DA             43.7  55.166667       3.00    0.0               I\n",
       "JAEGERSBORG, DA      43.1  55.766667      42.00    0.0               I\n",
       "\n",
       "[63 rows x 5 columns]"
      ]
     },
     "execution_count": 16,
     "metadata": {},
     "output_type": "execute_result"
    }
   ],
   "source": [
    "temps55 = temps.loc[(temps.LATITUDE > 55) & (temps.LATITUDE < 56)].copy()\n",
    "temps55['PRCP'] = temps55.PRCP.round(1)\n",
    "temps55.sort_values(['PRCP', 'PRCP_ATTRIBUTES'], \n",
    "                    ascending=[False, True],\n",
    "                    inplace=True)\n",
    "temps55"
   ]
  },
  {
   "cell_type": "markdown",
   "metadata": {},
   "source": [
    "Unfortunately, this dataset was representing \"Unknown values\" as 99.99 (here rounded to 100).  So we need to ignore those placeholder values to see the meaningful part of it."
   ]
  },
  {
   "cell_type": "code",
   "execution_count": 17,
   "metadata": {},
   "outputs": [
    {
     "data": {
      "text/html": [
       "<div>\n",
       "<style scoped>\n",
       "    .dataframe tbody tr th:only-of-type {\n",
       "        vertical-align: middle;\n",
       "    }\n",
       "\n",
       "    .dataframe tbody tr th {\n",
       "        vertical-align: top;\n",
       "    }\n",
       "\n",
       "    .dataframe thead th {\n",
       "        text-align: right;\n",
       "    }\n",
       "</style>\n",
       "<table border=\"1\" class=\"dataframe\">\n",
       "  <thead>\n",
       "    <tr style=\"text-align: right;\">\n",
       "      <th></th>\n",
       "      <th>TEMP</th>\n",
       "      <th>LATITUDE</th>\n",
       "      <th>ELEVATION</th>\n",
       "      <th>PRCP</th>\n",
       "      <th>PRCP_ATTRIBUTES</th>\n",
       "    </tr>\n",
       "    <tr>\n",
       "      <th>NAME</th>\n",
       "      <th></th>\n",
       "      <th></th>\n",
       "      <th></th>\n",
       "      <th></th>\n",
       "      <th></th>\n",
       "    </tr>\n",
       "  </thead>\n",
       "  <tbody>\n",
       "    <tr>\n",
       "      <th>HORBY, SW</th>\n",
       "      <td>41.8</td>\n",
       "      <td>55.866667</td>\n",
       "      <td>114.00</td>\n",
       "      <td>0.2</td>\n",
       "      <td>G</td>\n",
       "    </tr>\n",
       "    <tr>\n",
       "      <th>MALMO, SW</th>\n",
       "      <td>43.7</td>\n",
       "      <td>55.566667</td>\n",
       "      <td>21.00</td>\n",
       "      <td>0.2</td>\n",
       "      <td>G</td>\n",
       "    </tr>\n",
       "    <tr>\n",
       "      <th>MALIN HEAD, EI</th>\n",
       "      <td>46.4</td>\n",
       "      <td>55.366667</td>\n",
       "      <td>25.00</td>\n",
       "      <td>0.1</td>\n",
       "      <td>E</td>\n",
       "    </tr>\n",
       "    <tr>\n",
       "      <th>ISLAY PORT ELLEN, UK</th>\n",
       "      <td>41.5</td>\n",
       "      <td>55.683333</td>\n",
       "      <td>17.00</td>\n",
       "      <td>0.1</td>\n",
       "      <td>G</td>\n",
       "    </tr>\n",
       "    <tr>\n",
       "      <th>BALLYPATRICK FOREST, UK</th>\n",
       "      <td>43.4</td>\n",
       "      <td>55.183333</td>\n",
       "      <td>156.00</td>\n",
       "      <td>0.1</td>\n",
       "      <td>G</td>\n",
       "    </tr>\n",
       "    <tr>\n",
       "      <th>ROESNAES, DA</th>\n",
       "      <td>43.1</td>\n",
       "      <td>55.750000</td>\n",
       "      <td>15.00</td>\n",
       "      <td>0.1</td>\n",
       "      <td>G</td>\n",
       "    </tr>\n",
       "    <tr>\n",
       "      <th>ROSKILDE, DA</th>\n",
       "      <td>43.2</td>\n",
       "      <td>55.585567</td>\n",
       "      <td>44.50</td>\n",
       "      <td>0.1</td>\n",
       "      <td>G</td>\n",
       "    </tr>\n",
       "    <tr>\n",
       "      <th>KASTRUP, DA</th>\n",
       "      <td>44.0</td>\n",
       "      <td>55.617917</td>\n",
       "      <td>5.18</td>\n",
       "      <td>0.1</td>\n",
       "      <td>G</td>\n",
       "    </tr>\n",
       "    <tr>\n",
       "      <th>BRANDELEV, DA</th>\n",
       "      <td>42.3</td>\n",
       "      <td>55.200000</td>\n",
       "      <td>46.00</td>\n",
       "      <td>0.0</td>\n",
       "      <td>F</td>\n",
       "    </tr>\n",
       "    <tr>\n",
       "      <th>SKILLINGE, SW</th>\n",
       "      <td>43.1</td>\n",
       "      <td>55.483333</td>\n",
       "      <td>5.00</td>\n",
       "      <td>0.0</td>\n",
       "      <td>G</td>\n",
       "    </tr>\n",
       "  </tbody>\n",
       "</table>\n",
       "</div>"
      ],
      "text/plain": [
       "                         TEMP   LATITUDE  ELEVATION  PRCP PRCP_ATTRIBUTES\n",
       "NAME                                                                     \n",
       "HORBY, SW                41.8  55.866667     114.00   0.2               G\n",
       "MALMO, SW                43.7  55.566667      21.00   0.2               G\n",
       "MALIN HEAD, EI           46.4  55.366667      25.00   0.1               E\n",
       "ISLAY PORT ELLEN, UK     41.5  55.683333      17.00   0.1               G\n",
       "BALLYPATRICK FOREST, UK  43.4  55.183333     156.00   0.1               G\n",
       "ROESNAES, DA             43.1  55.750000      15.00   0.1               G\n",
       "ROSKILDE, DA             43.2  55.585567      44.50   0.1               G\n",
       "KASTRUP, DA              44.0  55.617917       5.18   0.1               G\n",
       "BRANDELEV, DA            42.3  55.200000      46.00   0.0               F\n",
       "SKILLINGE, SW            43.1  55.483333       5.00   0.0               G"
      ]
     },
     "execution_count": 17,
     "metadata": {},
     "output_type": "execute_result"
    }
   ],
   "source": [
    "temps55[temps55.PRCP < 99].head(10)"
   ]
  },
  {
   "cell_type": "markdown",
   "metadata": {},
   "source": [
    "# More with Indices\n",
    "\n",
    "The index of a Pandas DataFrame is, in a sense, just another column.  But a number of operations are much easier by utilizing an index column rather than a \"regular\" column.  As we have seen in prior modules, it is not difficult to move a column in or out of the index position using `.set_index()` or `.reset_index()`."
   ]
  },
  {
   "cell_type": "markdown",
   "metadata": {},
   "source": [
    "## Index alignment\n",
    "\n",
    "Pandas performs a bit of useful magic wherein operations on several DataFrames or Series match up the rows with the corresponding index labels.  This happens regardless of the underlying order of the DataFrames, and is based on index equality not on position."
   ]
  },
  {
   "cell_type": "markdown",
   "metadata": {},
   "source": [
    "Let us look at some moderately old data files with Olympic medal counts."
   ]
  },
  {
   "cell_type": "code",
   "execution_count": 18,
   "metadata": {},
   "outputs": [],
   "source": [
    "bronze = pd.read_csv('data/Bronze.csv', index_col='Country')[['Total']]\n",
    "silver = pd.read_csv('data/Silver.csv', index_col='Country')[['Total']]\n",
    "gold = pd.read_csv('data/Gold.csv', index_col=1)[['Total']]"
   ]
  },
  {
   "cell_type": "code",
   "execution_count": 19,
   "metadata": {},
   "outputs": [
    {
     "data": {
      "text/html": [
       "<div>\n",
       "<style scoped>\n",
       "    .dataframe tbody tr th:only-of-type {\n",
       "        vertical-align: middle;\n",
       "    }\n",
       "\n",
       "    .dataframe tbody tr th {\n",
       "        vertical-align: top;\n",
       "    }\n",
       "\n",
       "    .dataframe thead th {\n",
       "        text-align: right;\n",
       "    }\n",
       "</style>\n",
       "<table border=\"1\" class=\"dataframe\">\n",
       "  <thead>\n",
       "    <tr style=\"text-align: right;\">\n",
       "      <th></th>\n",
       "      <th>Total</th>\n",
       "    </tr>\n",
       "    <tr>\n",
       "      <th>Country</th>\n",
       "      <th></th>\n",
       "    </tr>\n",
       "  </thead>\n",
       "  <tbody>\n",
       "    <tr>\n",
       "      <th>United States</th>\n",
       "      <td>1052.0</td>\n",
       "    </tr>\n",
       "    <tr>\n",
       "      <th>Soviet Union</th>\n",
       "      <td>584.0</td>\n",
       "    </tr>\n",
       "    <tr>\n",
       "      <th>United Kingdom</th>\n",
       "      <td>505.0</td>\n",
       "    </tr>\n",
       "    <tr>\n",
       "      <th>France</th>\n",
       "      <td>475.0</td>\n",
       "    </tr>\n",
       "    <tr>\n",
       "      <th>Germany</th>\n",
       "      <td>454.0</td>\n",
       "    </tr>\n",
       "    <tr>\n",
       "      <th>...</th>\n",
       "      <td>...</td>\n",
       "    </tr>\n",
       "    <tr>\n",
       "      <th>Senegal</th>\n",
       "      <td>NaN</td>\n",
       "    </tr>\n",
       "    <tr>\n",
       "      <th>Sudan</th>\n",
       "      <td>NaN</td>\n",
       "    </tr>\n",
       "    <tr>\n",
       "      <th>Tonga</th>\n",
       "      <td>NaN</td>\n",
       "    </tr>\n",
       "    <tr>\n",
       "      <th>Burundi</th>\n",
       "      <td>NaN</td>\n",
       "    </tr>\n",
       "    <tr>\n",
       "      <th>United Arab Emirates</th>\n",
       "      <td>NaN</td>\n",
       "    </tr>\n",
       "  </tbody>\n",
       "</table>\n",
       "<p>138 rows × 1 columns</p>\n",
       "</div>"
      ],
      "text/plain": [
       "                       Total\n",
       "Country                     \n",
       "United States         1052.0\n",
       "Soviet Union           584.0\n",
       "United Kingdom         505.0\n",
       "France                 475.0\n",
       "Germany                454.0\n",
       "...                      ...\n",
       "Senegal                  NaN\n",
       "Sudan                    NaN\n",
       "Tonga                    NaN\n",
       "Burundi                  NaN\n",
       "United Arab Emirates     NaN\n",
       "\n",
       "[138 rows x 1 columns]"
      ]
     },
     "execution_count": 19,
     "metadata": {},
     "output_type": "execute_result"
    }
   ],
   "source": [
    "bronze.sort_values('Total', ascending=False)"
   ]
  },
  {
   "cell_type": "markdown",
   "metadata": {},
   "source": [
    "We would like to find out the total number of medals won by each nation from these several DataFrames.  At first pass, we could use *index alignment* to achive this. "
   ]
  },
  {
   "cell_type": "code",
   "execution_count": 20,
   "metadata": {},
   "outputs": [
    {
     "data": {
      "text/html": [
       "<div>\n",
       "<style scoped>\n",
       "    .dataframe tbody tr th:only-of-type {\n",
       "        vertical-align: middle;\n",
       "    }\n",
       "\n",
       "    .dataframe tbody tr th {\n",
       "        vertical-align: top;\n",
       "    }\n",
       "\n",
       "    .dataframe thead th {\n",
       "        text-align: right;\n",
       "    }\n",
       "</style>\n",
       "<table border=\"1\" class=\"dataframe\">\n",
       "  <thead>\n",
       "    <tr style=\"text-align: right;\">\n",
       "      <th></th>\n",
       "      <th>Total</th>\n",
       "    </tr>\n",
       "    <tr>\n",
       "      <th>Country</th>\n",
       "      <th></th>\n",
       "    </tr>\n",
       "  </thead>\n",
       "  <tbody>\n",
       "    <tr>\n",
       "      <th>United States</th>\n",
       "      <td>4335.0</td>\n",
       "    </tr>\n",
       "    <tr>\n",
       "      <th>Soviet Union</th>\n",
       "      <td>2049.0</td>\n",
       "    </tr>\n",
       "    <tr>\n",
       "      <th>United Kingdom</th>\n",
       "      <td>1594.0</td>\n",
       "    </tr>\n",
       "    <tr>\n",
       "      <th>France</th>\n",
       "      <td>1314.0</td>\n",
       "    </tr>\n",
       "    <tr>\n",
       "      <th>Italy</th>\n",
       "      <td>1228.0</td>\n",
       "    </tr>\n",
       "  </tbody>\n",
       "</table>\n",
       "</div>"
      ],
      "text/plain": [
       "                 Total\n",
       "Country               \n",
       "United States   4335.0\n",
       "Soviet Union    2049.0\n",
       "United Kingdom  1594.0\n",
       "France          1314.0\n",
       "Italy           1228.0"
      ]
     },
     "execution_count": 20,
     "metadata": {},
     "output_type": "execute_result"
    }
   ],
   "source": [
    "total = (gold + silver + bronze).sort_values('Total', ascending=False)\n",
    "total.head()"
   ]
  },
  {
   "cell_type": "markdown",
   "metadata": {},
   "source": [
    "So far, so good.  We could manually verify, but these top few totals are correct.  However, looking more closely, we find a problem."
   ]
  },
  {
   "cell_type": "code",
   "execution_count": 21,
   "metadata": {},
   "outputs": [
    {
     "data": {
      "text/html": [
       "<div>\n",
       "<style scoped>\n",
       "    .dataframe tbody tr th:only-of-type {\n",
       "        vertical-align: middle;\n",
       "    }\n",
       "\n",
       "    .dataframe tbody tr th {\n",
       "        vertical-align: top;\n",
       "    }\n",
       "\n",
       "    .dataframe thead th {\n",
       "        text-align: right;\n",
       "    }\n",
       "</style>\n",
       "<table border=\"1\" class=\"dataframe\">\n",
       "  <thead>\n",
       "    <tr style=\"text-align: right;\">\n",
       "      <th></th>\n",
       "      <th>Total</th>\n",
       "    </tr>\n",
       "    <tr>\n",
       "      <th>Country</th>\n",
       "      <th></th>\n",
       "    </tr>\n",
       "  </thead>\n",
       "  <tbody>\n",
       "    <tr>\n",
       "      <th>Senegal</th>\n",
       "      <td>NaN</td>\n",
       "    </tr>\n",
       "    <tr>\n",
       "      <th>Sudan</th>\n",
       "      <td>NaN</td>\n",
       "    </tr>\n",
       "    <tr>\n",
       "      <th>Kyrgyzstan</th>\n",
       "      <td>NaN</td>\n",
       "    </tr>\n",
       "  </tbody>\n",
       "</table>\n",
       "</div>"
      ],
      "text/plain": [
       "            Total\n",
       "Country          \n",
       "Senegal       NaN\n",
       "Sudan         NaN\n",
       "Kyrgyzstan    NaN"
      ]
     },
     "execution_count": 21,
     "metadata": {},
     "output_type": "execute_result"
    }
   ],
   "source": [
    "total.loc[['Senegal', 'Sudan', 'Kyrgyzstan']]"
   ]
  },
  {
   "cell_type": "code",
   "execution_count": 22,
   "metadata": {},
   "outputs": [
    {
     "data": {
      "text/html": [
       "<div>\n",
       "<style scoped>\n",
       "    .dataframe tbody tr th:only-of-type {\n",
       "        vertical-align: middle;\n",
       "    }\n",
       "\n",
       "    .dataframe tbody tr th {\n",
       "        vertical-align: top;\n",
       "    }\n",
       "\n",
       "    .dataframe thead th {\n",
       "        text-align: right;\n",
       "    }\n",
       "</style>\n",
       "<table border=\"1\" class=\"dataframe\">\n",
       "  <thead>\n",
       "    <tr style=\"text-align: right;\">\n",
       "      <th></th>\n",
       "      <th>Total</th>\n",
       "    </tr>\n",
       "    <tr>\n",
       "      <th>Country</th>\n",
       "      <th></th>\n",
       "    </tr>\n",
       "  </thead>\n",
       "  <tbody>\n",
       "    <tr>\n",
       "      <th>Senegal</th>\n",
       "      <td>NaN</td>\n",
       "    </tr>\n",
       "    <tr>\n",
       "      <th>Sudan</th>\n",
       "      <td>NaN</td>\n",
       "    </tr>\n",
       "    <tr>\n",
       "      <th>Kyrgyzstan</th>\n",
       "      <td>2.0</td>\n",
       "    </tr>\n",
       "  </tbody>\n",
       "</table>\n",
       "</div>"
      ],
      "text/plain": [
       "            Total\n",
       "Country          \n",
       "Senegal       NaN\n",
       "Sudan         NaN\n",
       "Kyrgyzstan    2.0"
      ]
     },
     "execution_count": 22,
     "metadata": {},
     "output_type": "execute_result"
    }
   ],
   "source": [
    "bronze.loc[['Senegal', 'Sudan', 'Kyrgyzstan']]"
   ]
  },
  {
   "cell_type": "code",
   "execution_count": 23,
   "metadata": {},
   "outputs": [
    {
     "data": {
      "text/html": [
       "<div>\n",
       "<style scoped>\n",
       "    .dataframe tbody tr th:only-of-type {\n",
       "        vertical-align: middle;\n",
       "    }\n",
       "\n",
       "    .dataframe tbody tr th {\n",
       "        vertical-align: top;\n",
       "    }\n",
       "\n",
       "    .dataframe thead th {\n",
       "        text-align: right;\n",
       "    }\n",
       "</style>\n",
       "<table border=\"1\" class=\"dataframe\">\n",
       "  <thead>\n",
       "    <tr style=\"text-align: right;\">\n",
       "      <th></th>\n",
       "      <th>Total</th>\n",
       "    </tr>\n",
       "    <tr>\n",
       "      <th>Country</th>\n",
       "      <th></th>\n",
       "    </tr>\n",
       "  </thead>\n",
       "  <tbody>\n",
       "    <tr>\n",
       "      <th>Senegal</th>\n",
       "      <td>1.0</td>\n",
       "    </tr>\n",
       "    <tr>\n",
       "      <th>Sudan</th>\n",
       "      <td>1.0</td>\n",
       "    </tr>\n",
       "    <tr>\n",
       "      <th>Kyrgyzstan</th>\n",
       "      <td>1.0</td>\n",
       "    </tr>\n",
       "  </tbody>\n",
       "</table>\n",
       "</div>"
      ],
      "text/plain": [
       "            Total\n",
       "Country          \n",
       "Senegal       1.0\n",
       "Sudan         1.0\n",
       "Kyrgyzstan    1.0"
      ]
     },
     "execution_count": 23,
     "metadata": {},
     "output_type": "execute_result"
    }
   ],
   "source": [
    "silver.loc[['Senegal', 'Sudan', 'Kyrgyzstan']]"
   ]
  },
  {
   "cell_type": "markdown",
   "metadata": {},
   "source": [
    "### Missing values\n",
    "\n",
    "Unfortunately for our goal, the dataset encodes the absence of medals as a `NaN` (\"Not a Number\").  This is a special floating point value, and is the reason that the column is not integers, which may seem more natural.  "
   ]
  },
  {
   "cell_type": "markdown",
   "metadata": {},
   "source": [
    "Often in observations, some data is not available. We saw the temperature data used the placeholder value 99.99 to represent unknown precipitation.  However, there are obvious problems with that encoding: what if some location got 99.99 inches of actual rain?  "
   ]
  },
  {
   "cell_type": "markdown",
   "metadata": {},
   "source": [
    "NOAA simply decided that that particular value will never occur (nor will anything more than an order-of-magnitude less).  With domain knowledge, there might be such values that are outside reasonable ranges, but they will be specific to the feature being measured.  For example, measuring precipitation in millimeters rather than inches would make 99.99 a reasonable and possible value.  "
   ]
  },
  {
   "cell_type": "markdown",
   "metadata": {},
   "source": [
    "An additional problem with encoding missing data with placeholder values is that aggregations can go badly wrong.  For example:"
   ]
  },
  {
   "cell_type": "code",
   "execution_count": 24,
   "metadata": {},
   "outputs": [
    {
     "data": {
      "text/plain": [
       "18.4928295549958"
      ]
     },
     "execution_count": 24,
     "metadata": {},
     "output_type": "execute_result"
    }
   ],
   "source": [
    "# What is the average precipiation across all the stations?\n",
    "temps.PRCP.mean()"
   ]
  },
  {
   "cell_type": "markdown",
   "metadata": {},
   "source": [
    "This conclusion is absurd.  Not only is 18.5 inches of rain not average, it is on the high side even for tropical cyclones.  Our placeholder is causing problems.  \n",
    "\n",
    "Note that a different placeholder like -1 that was per-se numerically nonsensical would cause a similar problem, with the \"average\" perhaps winding up negative."
   ]
  },
  {
   "cell_type": "markdown",
   "metadata": {},
   "source": [
    "Using NaN is a more general approach."
   ]
  },
  {
   "cell_type": "code",
   "execution_count": 25,
   "metadata": {},
   "outputs": [
    {
     "data": {
      "text/html": [
       "<div>\n",
       "<style scoped>\n",
       "    .dataframe tbody tr th:only-of-type {\n",
       "        vertical-align: middle;\n",
       "    }\n",
       "\n",
       "    .dataframe tbody tr th {\n",
       "        vertical-align: top;\n",
       "    }\n",
       "\n",
       "    .dataframe thead th {\n",
       "        text-align: right;\n",
       "    }\n",
       "</style>\n",
       "<table border=\"1\" class=\"dataframe\">\n",
       "  <thead>\n",
       "    <tr style=\"text-align: right;\">\n",
       "      <th></th>\n",
       "      <th>TEMP</th>\n",
       "      <th>LATITUDE</th>\n",
       "      <th>ELEVATION</th>\n",
       "      <th>PRCP</th>\n",
       "      <th>PRCP_ATTRIBUTES</th>\n",
       "    </tr>\n",
       "    <tr>\n",
       "      <th>NAME</th>\n",
       "      <th></th>\n",
       "      <th></th>\n",
       "      <th></th>\n",
       "      <th></th>\n",
       "      <th></th>\n",
       "    </tr>\n",
       "  </thead>\n",
       "  <tbody>\n",
       "    <tr>\n",
       "      <th>JAN MAYEN NOR NAVY, NO</th>\n",
       "      <td>24.0</td>\n",
       "      <td>70.933333</td>\n",
       "      <td>9.00</td>\n",
       "      <td>0.0</td>\n",
       "      <td>G</td>\n",
       "    </tr>\n",
       "    <tr>\n",
       "      <th>SORSTOKKEN, NO</th>\n",
       "      <td>39.7</td>\n",
       "      <td>59.791925</td>\n",
       "      <td>48.76</td>\n",
       "      <td>NaN</td>\n",
       "      <td></td>\n",
       "    </tr>\n",
       "    <tr>\n",
       "      <th>VERLEGENHUKEN, NO</th>\n",
       "      <td>-0.1</td>\n",
       "      <td>80.050000</td>\n",
       "      <td>8.00</td>\n",
       "      <td>0.0</td>\n",
       "      <td>I</td>\n",
       "    </tr>\n",
       "    <tr>\n",
       "      <th>HORNSUND, NO</th>\n",
       "      <td>3.9</td>\n",
       "      <td>77.000000</td>\n",
       "      <td>12.00</td>\n",
       "      <td>0.0</td>\n",
       "      <td>G</td>\n",
       "    </tr>\n",
       "    <tr>\n",
       "      <th>EDGEOYA, NO</th>\n",
       "      <td>5.2</td>\n",
       "      <td>78.250000</td>\n",
       "      <td>14.00</td>\n",
       "      <td>0.0</td>\n",
       "      <td>I</td>\n",
       "    </tr>\n",
       "  </tbody>\n",
       "</table>\n",
       "</div>"
      ],
      "text/plain": [
       "                        TEMP   LATITUDE  ELEVATION  PRCP PRCP_ATTRIBUTES\n",
       "NAME                                                                    \n",
       "JAN MAYEN NOR NAVY, NO  24.0  70.933333       9.00   0.0               G\n",
       "SORSTOKKEN, NO          39.7  59.791925      48.76   NaN                \n",
       "VERLEGENHUKEN, NO       -0.1  80.050000       8.00   0.0               I\n",
       "HORNSUND, NO             3.9  77.000000      12.00   0.0               G\n",
       "EDGEOYA, NO              5.2  78.250000      14.00   0.0               I"
      ]
     },
     "execution_count": 25,
     "metadata": {},
     "output_type": "execute_result"
    }
   ],
   "source": [
    "# We can use None for a missing value, Pandas stores NaN internally\n",
    "temps.loc[temps.PRCP > 99, 'PRCP'] = None\n",
    "temps.head()"
   ]
  },
  {
   "cell_type": "code",
   "execution_count": 26,
   "metadata": {},
   "outputs": [
    {
     "data": {
      "text/plain": [
       "0.1308127572016461"
      ]
     },
     "execution_count": 26,
     "metadata": {},
     "output_type": "execute_result"
    }
   ],
   "source": [
    "temps.PRCP.mean()"
   ]
  },
  {
   "cell_type": "markdown",
   "metadata": {},
   "source": [
    "### Returning to medal count\n",
    "\n",
    "While for a count of medals, zero is probably an excellent way of recording \"No medals won,\" for other data fields, zero might instead simply be an actual measurement.  However, we can take our domain knowledge and impute zeros for this calulation."
   ]
  },
  {
   "cell_type": "code",
   "execution_count": 27,
   "metadata": {},
   "outputs": [
    {
     "data": {
      "text/html": [
       "<div>\n",
       "<style scoped>\n",
       "    .dataframe tbody tr th:only-of-type {\n",
       "        vertical-align: middle;\n",
       "    }\n",
       "\n",
       "    .dataframe tbody tr th {\n",
       "        vertical-align: top;\n",
       "    }\n",
       "\n",
       "    .dataframe thead th {\n",
       "        text-align: right;\n",
       "    }\n",
       "</style>\n",
       "<table border=\"1\" class=\"dataframe\">\n",
       "  <thead>\n",
       "    <tr style=\"text-align: right;\">\n",
       "      <th></th>\n",
       "      <th>Total</th>\n",
       "    </tr>\n",
       "    <tr>\n",
       "      <th>Country</th>\n",
       "      <th></th>\n",
       "    </tr>\n",
       "  </thead>\n",
       "  <tbody>\n",
       "    <tr>\n",
       "      <th>United States</th>\n",
       "      <td>4335</td>\n",
       "    </tr>\n",
       "    <tr>\n",
       "      <th>Soviet Union</th>\n",
       "      <td>2049</td>\n",
       "    </tr>\n",
       "    <tr>\n",
       "      <th>United Kingdom</th>\n",
       "      <td>1594</td>\n",
       "    </tr>\n",
       "    <tr>\n",
       "      <th>France</th>\n",
       "      <td>1314</td>\n",
       "    </tr>\n",
       "    <tr>\n",
       "      <th>Italy</th>\n",
       "      <td>1228</td>\n",
       "    </tr>\n",
       "    <tr>\n",
       "      <th>...</th>\n",
       "      <td>...</td>\n",
       "    </tr>\n",
       "    <tr>\n",
       "      <th>Eritrea</th>\n",
       "      <td>1</td>\n",
       "    </tr>\n",
       "    <tr>\n",
       "      <th>Djibouti</th>\n",
       "      <td>1</td>\n",
       "    </tr>\n",
       "    <tr>\n",
       "      <th>Bermuda*</th>\n",
       "      <td>1</td>\n",
       "    </tr>\n",
       "    <tr>\n",
       "      <th>Barbados</th>\n",
       "      <td>1</td>\n",
       "    </tr>\n",
       "    <tr>\n",
       "      <th>United Arab Emirates</th>\n",
       "      <td>1</td>\n",
       "    </tr>\n",
       "  </tbody>\n",
       "</table>\n",
       "<p>138 rows × 1 columns</p>\n",
       "</div>"
      ],
      "text/plain": [
       "                      Total\n",
       "Country                    \n",
       "United States          4335\n",
       "Soviet Union           2049\n",
       "United Kingdom         1594\n",
       "France                 1314\n",
       "Italy                  1228\n",
       "...                     ...\n",
       "Eritrea                   1\n",
       "Djibouti                  1\n",
       "Bermuda*                  1\n",
       "Barbados                  1\n",
       "United Arab Emirates      1\n",
       "\n",
       "[138 rows x 1 columns]"
      ]
     },
     "execution_count": 27,
     "metadata": {},
     "output_type": "execute_result"
    }
   ],
   "source": [
    "total = (\n",
    "    (gold.fillna(0) + silver.fillna(0) + bronze.fillna(0))\n",
    "    .sort_values('Total', ascending=False)\n",
    "    .astype(int))\n",
    "total"
   ]
  },
  {
   "cell_type": "code",
   "execution_count": 28,
   "metadata": {},
   "outputs": [
    {
     "data": {
      "text/html": [
       "<div>\n",
       "<style scoped>\n",
       "    .dataframe tbody tr th:only-of-type {\n",
       "        vertical-align: middle;\n",
       "    }\n",
       "\n",
       "    .dataframe tbody tr th {\n",
       "        vertical-align: top;\n",
       "    }\n",
       "\n",
       "    .dataframe thead th {\n",
       "        text-align: right;\n",
       "    }\n",
       "</style>\n",
       "<table border=\"1\" class=\"dataframe\">\n",
       "  <thead>\n",
       "    <tr style=\"text-align: right;\">\n",
       "      <th></th>\n",
       "      <th>Total</th>\n",
       "    </tr>\n",
       "    <tr>\n",
       "      <th>Country</th>\n",
       "      <th></th>\n",
       "    </tr>\n",
       "  </thead>\n",
       "  <tbody>\n",
       "    <tr>\n",
       "      <th>Senegal</th>\n",
       "      <td>1</td>\n",
       "    </tr>\n",
       "    <tr>\n",
       "      <th>Sudan</th>\n",
       "      <td>1</td>\n",
       "    </tr>\n",
       "    <tr>\n",
       "      <th>Kyrgyzstan</th>\n",
       "      <td>3</td>\n",
       "    </tr>\n",
       "  </tbody>\n",
       "</table>\n",
       "</div>"
      ],
      "text/plain": [
       "            Total\n",
       "Country          \n",
       "Senegal         1\n",
       "Sudan           1\n",
       "Kyrgyzstan      3"
      ]
     },
     "execution_count": 28,
     "metadata": {},
     "output_type": "execute_result"
    }
   ],
   "source": [
    "total.loc[['Senegal', 'Sudan', 'Kyrgyzstan']]"
   ]
  },
  {
   "cell_type": "code",
   "execution_count": 29,
   "metadata": {},
   "outputs": [
    {
     "data": {
      "text/html": [
       "<div>\n",
       "<style scoped>\n",
       "    .dataframe tbody tr th:only-of-type {\n",
       "        vertical-align: middle;\n",
       "    }\n",
       "\n",
       "    .dataframe tbody tr th {\n",
       "        vertical-align: top;\n",
       "    }\n",
       "\n",
       "    .dataframe thead th {\n",
       "        text-align: right;\n",
       "    }\n",
       "</style>\n",
       "<table border=\"1\" class=\"dataframe\">\n",
       "  <thead>\n",
       "    <tr style=\"text-align: right;\">\n",
       "      <th></th>\n",
       "      <th>Total</th>\n",
       "    </tr>\n",
       "    <tr>\n",
       "      <th>Country</th>\n",
       "      <th></th>\n",
       "    </tr>\n",
       "  </thead>\n",
       "  <tbody>\n",
       "    <tr>\n",
       "      <th>Senegal</th>\n",
       "      <td>NaN</td>\n",
       "    </tr>\n",
       "    <tr>\n",
       "      <th>Sudan</th>\n",
       "      <td>NaN</td>\n",
       "    </tr>\n",
       "    <tr>\n",
       "      <th>Kyrgyzstan</th>\n",
       "      <td>NaN</td>\n",
       "    </tr>\n",
       "  </tbody>\n",
       "</table>\n",
       "</div>"
      ],
      "text/plain": [
       "            Total\n",
       "Country          \n",
       "Senegal       NaN\n",
       "Sudan         NaN\n",
       "Kyrgyzstan    NaN"
      ]
     },
     "execution_count": 29,
     "metadata": {},
     "output_type": "execute_result"
    }
   ],
   "source": [
    "gold.loc[['Senegal', 'Sudan', 'Kyrgyzstan']]"
   ]
  },
  {
   "cell_type": "markdown",
   "metadata": {},
   "source": [
    "# Exercises\n",
    "\n"
   ]
  },
  {
   "cell_type": "markdown",
   "metadata": {},
   "source": [
    "Let us read in the moderately large NOAA temperature dataset we worked with before.  Our naïve manner of reading it simply allows Pandas to guess types.  For the most part that works well, but there is a date field we want to go back and adjust."
   ]
  },
  {
   "cell_type": "code",
   "execution_count": 30,
   "metadata": {},
   "outputs": [
    {
     "name": "stdout",
     "output_type": "stream",
     "text": [
      "<class 'pandas.core.frame.DataFrame'>\n",
      "RangeIndex: 425641 entries, 0 to 425640\n",
      "Data columns (total 28 columns):\n",
      " #   Column            Non-Null Count   Dtype         \n",
      "---  ------            --------------   -----         \n",
      " 0   STATION           425641 non-null  int64         \n",
      " 1   DATE              425641 non-null  datetime64[ns]\n",
      " 2   LATITUDE          425641 non-null  float64       \n",
      " 3   LONGITUDE         425641 non-null  float64       \n",
      " 4   ELEVATION         425641 non-null  float64       \n",
      " 5   NAME              425641 non-null  object        \n",
      " 6   TEMP              425641 non-null  float64       \n",
      " 7   TEMP_ATTRIBUTES   425641 non-null  int64         \n",
      " 8   DEWP              425641 non-null  float64       \n",
      " 9   DEWP_ATTRIBUTES   425641 non-null  int64         \n",
      " 10  SLP               425641 non-null  float64       \n",
      " 11  SLP_ATTRIBUTES    425641 non-null  int64         \n",
      " 12  STP               425641 non-null  float64       \n",
      " 13  STP_ATTRIBUTES    425641 non-null  int64         \n",
      " 14  VISIB             425641 non-null  float64       \n",
      " 15  VISIB_ATTRIBUTES  425641 non-null  int64         \n",
      " 16  WDSP              425641 non-null  float64       \n",
      " 17  WDSP_ATTRIBUTES   425641 non-null  int64         \n",
      " 18  MXSPD             425641 non-null  float64       \n",
      " 19  GUST              425641 non-null  float64       \n",
      " 20  MAX               425641 non-null  float64       \n",
      " 21  MAX_ATTRIBUTES    425641 non-null  object        \n",
      " 22  MIN               425641 non-null  float64       \n",
      " 23  MIN_ATTRIBUTES    425641 non-null  object        \n",
      " 24  PRCP              425641 non-null  float64       \n",
      " 25  PRCP_ATTRIBUTES   425641 non-null  object        \n",
      " 26  SNDP              425641 non-null  float64       \n",
      " 27  FRSHTT            425641 non-null  int64         \n",
      "dtypes: datetime64[ns](1), float64(15), int64(8), object(4)\n",
      "memory usage: 90.9+ MB\n"
     ]
    }
   ],
   "source": [
    "url = (\"https://bitbucket.org/davidmertz/sample-data/raw/\"\n",
    "       \"61872271984f66e3094c367cf90dfc4875a22e8d/NOAA-2019-partial.csv.gz\")\n",
    "temperatures = pd.read_csv(url)\n",
    "temperatures['DATE'] = pd.to_datetime(temperatures.DATE, format=\"%Y-%m-%d\")\n",
    "temperatures.info()"
   ]
  },
  {
   "cell_type": "markdown",
   "metadata": {},
   "source": [
    "## Detecting Bad Data\n",
    "\n",
    "Using the techniques in this lesson, as well as others you have learned, spend a while identifying all the questionable values in this large dataset.  The problem is deliberately open-ended, and a complete solution could take a long time."
   ]
  },
  {
   "cell_type": "markdown",
   "metadata": {},
   "source": [
    "For example, we have seen that precipitation uses a placeholder value.  In your cleanup, replacing placeholders with NaNs is a good improvement.  Often questionable values will fall at the `.head()` or the `.tail()` of the large DataFrame once you sort appropriately."
   ]
  },
  {
   "cell_type": "markdown",
   "metadata": {},
   "source": [
    "In the below we see that there are many 0.00 precipitation amounts, that are probably genuine measures.  There are a large number if placeholder values of 99.99.  Then there are some number of non-zero precipitation amounts.  Try to quantify that further. "
   ]
  },
  {
   "cell_type": "code",
   "execution_count": null,
   "metadata": {},
   "outputs": [],
   "source": [
    "# Look at start of sorted data, start, middle, jump from end, end\n",
    "nrows = len(temperatures)\n",
    "(temperatures\n",
    "     .sort_values('PRCP')\n",
    "     .iloc[[0, nrows//2, -70_000, -1]]\n",
    "     .loc[:, ['NAME', 'DATE', 'TEMP', 'PRCP']]\n",
    "     .set_index('NAME')\n",
    ")"
   ]
  },
  {
   "cell_type": "code",
   "execution_count": null,
   "metadata": {},
   "outputs": [],
   "source": [
    "# Identify placeholders\n",
    "..."
   ]
  },
  {
   "cell_type": "markdown",
   "metadata": {},
   "source": [
    "## Outliers\n",
    "\n",
    "Of course, sometimes unusual measurements occur and reflect unusual events.  But bad data is also common in large datasets (even in small datasets).  Try to identify questionable measurements that are not actually placeholder values."
   ]
  },
  {
   "cell_type": "markdown",
   "metadata": {},
   "source": [
    "For example, in our analysis in this module, we found that one temperature measurement on January 1 was dramatically lower than other values at the same 55° latitude.  This is far enough off to be likely to be a data error of some kind."
   ]
  },
  {
   "cell_type": "code",
   "execution_count": null,
   "metadata": {},
   "outputs": [],
   "source": [
    "print(\"Number of measurements:\", len(temps55))\n",
    "print(\"Lowest temperature (F):\", temps55.TEMP.min())\n",
    "print(\"Highest temperature:   \", temps55.TEMP.max())\n",
    "print(\"Mean temp Jan 1:       \", temps55.TEMP.mean())"
   ]
  },
  {
   "cell_type": "markdown",
   "metadata": {},
   "source": [
    "Try to identify similarly questionable data among the other 425k rows, or simply to verify whether this datum is actually an error (e.g. we did not explain it by a high elevation, but perhaps there is another reason we missed). "
   ]
  },
  {
   "cell_type": "code",
   "execution_count": null,
   "metadata": {},
   "outputs": [],
   "source": [
    "# Identify outliers\n",
    "..."
   ]
  },
  {
   "cell_type": "markdown",
   "metadata": {},
   "source": [
    "*Suggestion*: data that differs by 3 standard deviations from \"similar data\" is likely to be an error.  For example, if a measurement one day, at one station, is dramatically different from the days nearby at same station, something is suspicious.  Or likewise, if data is very uncharacteristic of its month, latitude, and/or elevation, that could be a data error.\n",
    "\n",
    "Of course, there really *are* hot days and cold days at the same place. And windy days and gentle days. And rainy days and clear days.  That is why the dataset exists to start with.  This exercise requires judgement."
   ]
  },
  {
   "cell_type": "markdown",
   "metadata": {},
   "source": [
    "## Merging Subsets\n",
    "\n",
    "We have seen techniques to subset DataFrames, as well as to perform reductions.  Using those techniques, create a report on the following.  For each of the 1100 stations, what was the difference between the average January temperature and the average February temperature?\n",
    "\n",
    "*Note:* In later modules we will explore other ways to answer this question and similar ones.  You have sufficient tools now to do it already though."
   ]
  },
  {
   "cell_type": "code",
   "execution_count": null,
   "metadata": {},
   "outputs": [],
   "source": [
    "# Identify tendencies between January and February\n",
    "..."
   ]
  },
  {
   "cell_type": "markdown",
   "metadata": {},
   "source": [
    "If you have extra time, formulate similar answer for other time period comparisons and other measured features."
   ]
  }
 ],
 "metadata": {
  "kernelspec": {
   "display_name": "Python 3 (ipykernel)",
   "language": "python",
   "name": "python3"
  },
  "language_info": {
   "codemirror_mode": {
    "name": "ipython",
    "version": 3
   },
   "file_extension": ".py",
   "mimetype": "text/x-python",
   "name": "python",
   "nbconvert_exporter": "python",
   "pygments_lexer": "ipython3",
   "version": "3.10.13"
  },
  "widgets": {
   "application/vnd.jupyter.widget-state+json": {
    "state": {},
    "version_major": 2,
    "version_minor": 0
   }
  }
 },
 "nbformat": 4,
 "nbformat_minor": 4
}

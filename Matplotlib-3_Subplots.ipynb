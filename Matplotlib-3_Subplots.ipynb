{
 "cells": [
  {
   "cell_type": "markdown",
   "metadata": {},
   "source": [
    "![Matplotlib logo](img/matplotlib.svg)"
   ]
  },
  {
   "cell_type": "code",
   "execution_count": null,
   "metadata": {},
   "outputs": [],
   "source": [
    "%matplotlib inline\n",
    "import numpy as np\n",
    "import pandas as pd\n",
    "import matplotlib.pyplot as plt\n",
    "import seaborn as sns\n",
    "from src.training import *\n",
    "from src.matplotlib_exercises import *"
   ]
  },
  {
   "cell_type": "markdown",
   "metadata": {},
   "source": [
    "# Subplots and Placement\n",
    "\n",
    "We created some simple plots in the last module.  Let us start to arrange them with some helpful visual details.  One common device is to create multiple subplots that express different facets or ranges of the same dataset—or of related datasets."
   ]
  },
  {
   "cell_type": "markdown",
   "metadata": {},
   "source": [
    "## Using Pandas\n",
    "\n",
    "Pandas builds in some access to basic subplots.  It is not as customizable as the underlying Matplotlib, but it is worth knowing about."
   ]
  },
  {
   "cell_type": "code",
   "execution_count": null,
   "metadata": {},
   "outputs": [],
   "source": [
    "df = (pd.read_csv('data/verlegenhuken.csv', \n",
    "                  parse_dates=True, \n",
    "                  index_col='DATE')\n",
    "      .sort_index()\n",
    "      .asfreq('D')\n",
    "      .interpolate()\n",
    "     )\n",
    "df.loc[:, ['TEMP', 'DEWP', 'WDSP']].plot();"
   ]
  },
  {
   "cell_type": "code",
   "execution_count": null,
   "metadata": {},
   "outputs": [],
   "source": [
    "df.loc[:, ['TEMP', 'DEWP', 'WDSP']].plot(subplots=True);"
   ]
  },
  {
   "cell_type": "markdown",
   "metadata": {},
   "source": [
    "There are advantages and disadvantages to this style that are very specific to your domain and presentation focus.  But the simplest API is as presented, and it does \"pretty well\" with almost no work."
   ]
  },
  {
   "cell_type": "markdown",
   "metadata": {},
   "source": [
    "## Subplots with Matplotlib\n",
    "\n",
    "Let us turn to using the pure-Matplotlib style for these graphs.  We will do several variations using the same data we quickly plotted with Pandas."
   ]
  },
  {
   "cell_type": "markdown",
   "metadata": {},
   "source": [
    "As a baseline, we simply want several arrays to work with, and will explicitly not use any Pandas special capabilities.  When we read in the data, we filled in missing days and missing values.  For the \"x\" axis of graphs we will convert the datetime value into an integer.  In a later module we look at datetime handling, but for now let us only use numbers."
   ]
  },
  {
   "cell_type": "code",
   "execution_count": null,
   "metadata": {},
   "outputs": [],
   "source": [
    "days = df.index.dayofyear.values  # could be arange(1, 355)\n",
    "temp = df.TEMP.values\n",
    "dewp = df.DEWP.values\n",
    "wdsp = df.WDSP.values\n",
    "days[:5], temp[:5], dewp[:5], wdsp[:5]"
   ]
  },
  {
   "cell_type": "markdown",
   "metadata": {},
   "source": [
    "### The .subplots() function\n",
    "\n",
    "The most common way to arrange subplots in a grid is using `plt.subplots()`.  The function returns two things:\n",
    "\n",
    "1. A figure object that defines the entire \"canvas\"\n",
    "2. One or more \"axis\" objects that define the individual plots\n",
    "\n",
    "In the object-oriented style, you will always work with these, rather than with the general `plt` magic module object. Remembering which methods and objects pertain to each is a matter of experience and reading documentation; but there is *some* sense to the patterns."
   ]
  },
  {
   "cell_type": "code",
   "execution_count": null,
   "metadata": {},
   "outputs": [],
   "source": [
    "# Just one axis, set a size in notional \"inches\"\n",
    "fig, ax = plt.subplots(figsize=(10,4))\n",
    "# Put data in the axis object\n",
    "ax.plot(days, temp)\n",
    "ax.plot(days, wdsp)\n",
    "# Modify label of axis object\n",
    "ax.set_xlabel(\"Day of Year\")\n",
    "# Title of the entire graph\n",
    "fig.suptitle('Temperature and wind speed at Verlegenhuken')\n",
    "# Position from right/bottom as fraction\n",
    "fig.text(0.55, 0.15, '(℉ and mph units occupy similar numeric range)')\n",
    "plt.show()   # Outside Jupyter use this, harmless here"
   ]
  },
  {
   "cell_type": "markdown",
   "metadata": {},
   "source": [
    "### Multiple subplots\n",
    "\n",
    "It is funny to use `plt.subplots()` when you are only making one plot, but it makes the interface consistent.  A key difference comes in when you specify multiple rows or columns. Instead of getting one axis object, you get an array of axis objects. You may unpack that array either using Python tuple unpacking or later in a loop or the like.  The latter is useful especially if there is something dynamic about the number and details of plots to create."
   ]
  },
  {
   "cell_type": "code",
   "execution_count": null,
   "metadata": {},
   "outputs": [],
   "source": [
    "fig, (ax1, ax2) = plt.subplots(nrows=2, figsize=(10,4))\n",
    "# Put data in the axis object\n",
    "ax1.plot(days, temp, color=\"darkred\")\n",
    "ax2.plot(days, wdsp)\n",
    "# Modify label of axis object\n",
    "ax2.set_xlabel(\"Day of Year\")\n",
    "# Title of the entire graph\n",
    "fig.suptitle('Temperature and wind speed at Verlegenhuken')\n",
    "# Position from right/bottom as fraction\n",
    "plt.show()   # Outside Jupyter use this, harmless here"
   ]
  },
  {
   "cell_type": "code",
   "execution_count": null,
   "metadata": {
    "scrolled": true
   },
   "outputs": [],
   "source": [
    "fig, axes = plt.subplots(ncols=2, figsize=(10,4))\n",
    "# Put data in the axis object\n",
    "axes[0].plot(days, temp, color=\"darkred\")\n",
    "axes[0].set_title(\"Temperature ℉\")\n",
    "axes[1].plot(days, wdsp)\n",
    "axes[1].set_title(\"Wind speed (mph)\")\n",
    "# Title of the entire graph\n",
    "fig.suptitle('Weather at Verlegenhuken')\n",
    "# Position from right/bottom as fraction\n",
    "plt.show()   # Outside Jupyter use this, harmless here"
   ]
  },
  {
   "cell_type": "markdown",
   "metadata": {},
   "source": [
    "We can also specify both rows and columns of miniature plots.  This is often useful in faceting data, for example."
   ]
  },
  {
   "cell_type": "code",
   "execution_count": null,
   "metadata": {},
   "outputs": [],
   "source": [
    "fig, axes = plt.subplots(nrows=2, ncols=2, figsize=(10, 8))\n",
    "axes[0, 0].hist(temp, density=True, bins=20, \n",
    "                orientation='horizontal', color='darkred')\n",
    "axes[0, 0].set_title(\"Distribution\")\n",
    "axes[0, 0].set_ylabel(\"Temperature\")\n",
    "axes[0, 0].set_xlabel(\"Fraction of Days\")\n",
    "axes[0, 1].plot(days, temp, color='darkred')\n",
    "axes[0, 1].set_title(\"Day of 2019\")\n",
    "axes[1, 0].hist(wdsp, orientation='horizontal')\n",
    "axes[1, 0].set_ylabel(\"Wind Speed\")\n",
    "axes[1, 0].set_xlabel(\"Count of Days\")\n",
    "axes[1, 1].plot(days, wdsp)\n",
    "fig.tight_layout()"
   ]
  },
  {
   "cell_type": "markdown",
   "metadata": {},
   "source": [
    "## Non-Uniform Grids\n",
    "\n",
    "Notice that we were able to place different kinds of plots inside the various subplot positions.  This applies equally with the plots generated by wrappers like Pandas or Seaborn, equally.  As well, we can create graphs of different sizes and shapes within the same overall figure."
   ]
  },
  {
   "cell_type": "code",
   "execution_count": null,
   "metadata": {},
   "outputs": [],
   "source": [
    "with plt.style.context('ggplot'):\n",
    "    fig = plt.figure(figsize=(10, 6))\n",
    "    ax1 = plt.subplot2grid(shape=(2, 3), loc=(0, 0), colspan=3)\n",
    "    ax1.set_title(\"Daily Trends over 2019\")\n",
    "    ax1.set_ylabel(\"temp ℉\")\n",
    "    ax1.plot(days, temp, label=\"temperature\", color=\"darkred\")\n",
    "    ax1.plot(days, wdsp, label=\"wind speed\", color=\"steelblue\")\n",
    "    ax1.plot(days, dewp, label=\"dew point\", color=\"goldenrod\")\n",
    "    ax1.legend(loc=4)  # bottom right legend\n",
    "\n",
    "    ax2 = plt.subplot2grid(shape=(2, 3), loc=(1, 0))\n",
    "    ax2.hist(temp, color=\"darkred\")\n",
    "    ax2.set_title(\"Temperature Distribution\", fontsize=10)\n",
    "\n",
    "    ax3 = plt.subplot2grid(shape=(2, 3), loc=(1, 1))\n",
    "    ax3.hist(wdsp, color=\"steelblue\")\n",
    "    ax3.set_title(\"Wind Speed Distribution\", fontsize=10)\n",
    "    \n",
    "    # We use a Seaborn plot in this subplot\n",
    "    ax4 = plt.subplot2grid(shape=(2, 3), loc=(1, 2))\n",
    "    sns.kdeplot(dewp, color=\"goldenrod\", shade=True, ax=ax4)\n",
    "    ax4.set_title(\"Dew Point Kernel Density Estimate\", fontsize=10)\n",
    "    \n",
    "    fig.tight_layout()"
   ]
  },
  {
   "cell_type": "markdown",
   "metadata": {},
   "source": [
    "A similar subplot placement manager is in `matplotlib.gridspec.GridSpec`.  This class has a slightly higher level API, but is slightly less powerful.  Read the documentation to consider this option."
   ]
  },
  {
   "cell_type": "markdown",
   "metadata": {},
   "source": [
    "## Special Positions\n",
    "\n",
    "We can also place axis objects manually within a figure, not following any grid.  This could be used for things like [sparklines](https://en.wikipedia.org/wiki/Sparkline) or other small component graphs. The most common use is probably for insets."
   ]
  },
  {
   "cell_type": "code",
   "execution_count": null,
   "metadata": {},
   "outputs": [],
   "source": [
    "temp.max(), temp.argmax()"
   ]
  },
  {
   "cell_type": "code",
   "execution_count": null,
   "metadata": {},
   "outputs": [],
   "source": [
    "with plt.style.context('fivethirtyeight'):\n",
    "    fig, ax = plt.subplots(figsize=(10, 6))\n",
    "    ax.plot(days, temp, color=\"darkred\")\n",
    "    ax.set_title(\"Daily Temperature Trend, 2019\")\n",
    "    # Position as X, Y, width, height relative to figure size\n",
    "    inset = fig.add_axes([0.12, 0.65, 0.217, 0.2])\n",
    "    sns.kdeplot(temp, color=\"red\", shade=True, ax=inset)\n",
    "    inset.grid(False)\n",
    "    inset.yaxis.set_ticklabels([])\n",
    "    inset.xaxis.set_ticklabels([])\n",
    "    inset.set_title(\"KDE\", fontsize=10)\n",
    "    ax.text(213, 44, \"← Day 209 was 44.3°\", fontsize=10)"
   ]
  },
  {
   "cell_type": "markdown",
   "metadata": {},
   "source": [
    "# Exercise\n",
    "\n",
    "This module will have a single longer exercise, but with some optional elements to refine after the first pass.\n",
    "\n",
    "* Choose 12 of the 1253 stations in the 2019 NOAA datast we have worked with.\n",
    "  * Select 12 in whatever manner you like.  You might consider factors such as:\n",
    "    * the lattitudes of each\n",
    "    * the completeness of data for each\n",
    "    * the nation(s) each fall within\n",
    "    * interesting characteristics in the data about that station\n",
    "  * Extract the data for the various selections into NumPy arrays\n",
    "\n",
    "* Create 12 subplots arranged into 2 columns and 6 rows.\n",
    "\n",
    "* Place a graph concerning each station within a subplot.\n",
    "  * Mean daily temperature?\n",
    "  * Max daily temperature?\n",
    "  * Min daily temperature?\n",
    "  * Other features of the daily data?\n",
    "\n",
    "* Set appropriate elements of each subplot:\n",
    "  * Title\n",
    "  * X axis label\n",
    "  * Y axis labe\n",
    "  * Legend\n",
    "  * Tick marks\n",
    "  * Colors for each\n",
    "  * Line styles\n",
    "  * Fonts\n",
    "  * Etc.\n",
    "\n",
    "* Create an overall title and/or annotations for the entire figure.\n",
    "\n",
    "* Create inset plots within each subplot to illustrate another aspect of the data.\n",
    "\n",
    "* Extra Credit: Identify the highest/lowest temperatures within each series.\n",
    "  * Create a visual mark to identify the day and number of those extremes\n",
    "  * Textually label those notable points on the curves"
   ]
  },
  {
   "cell_type": "code",
   "execution_count": null,
   "metadata": {},
   "outputs": [],
   "source": [
    "url = (\"https://bitbucket.org/davidmertz/sample-data/raw/\"\n",
    "       \"61872271984f66e3094c367cf90dfc4875a22e8d/NOAA-2019-partial.csv.gz\")\n",
    "temperatures = pd.read_csv(url)\n",
    "temperatures['DATE'] = pd.to_datetime(temperatures.DATE, format=\"%Y-%m-%d\")"
   ]
  },
  {
   "cell_type": "code",
   "execution_count": null,
   "metadata": {},
   "outputs": [],
   "source": [
    "# Create the compound visualization described\n",
    "# HINT: Creating small reusable functions to create similar \n",
    "#   elements across subplots is excellent programming!\n",
    "..."
   ]
  }
 ],
 "metadata": {
  "kernelspec": {
   "display_name": "Python 3 (ipykernel)",
   "language": "python",
   "name": "python3"
  },
  "language_info": {
   "codemirror_mode": {
    "name": "ipython",
    "version": 3
   },
   "file_extension": ".py",
   "mimetype": "text/x-python",
   "name": "python",
   "nbconvert_exporter": "python",
   "pygments_lexer": "ipython3",
   "version": "3.10.13"
  },
  "widgets": {
   "application/vnd.jupyter.widget-state+json": {
    "state": {},
    "version_major": 2,
    "version_minor": 0
   }
  }
 },
 "nbformat": 4,
 "nbformat_minor": 4
}

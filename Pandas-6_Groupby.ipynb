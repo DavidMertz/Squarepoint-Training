{
 "cells": [
  {
   "cell_type": "markdown",
   "metadata": {
    "slideshow": {
     "slide_type": "slide"
    }
   },
   "source": [
    "![Pandas logo](img/pandas.svg)"
   ]
  },
  {
   "cell_type": "code",
   "execution_count": 1,
   "metadata": {},
   "outputs": [],
   "source": [
    "%matplotlib inline\n",
    "import numpy as np\n",
    "import pandas as pd\n",
    "import matplotlib.pyplot as plt\n",
    "from src.training import *"
   ]
  },
  {
   "cell_type": "markdown",
   "metadata": {},
   "source": [
    "# Groupby Operations\n",
    "\n",
    "A powerful way of analyzing data in DataFrames is to use the `.groupby()` method, and perform operations on the resulting `DataFrameGroupBy` object."
   ]
  },
  {
   "cell_type": "markdown",
   "metadata": {},
   "source": [
    "For several examples, we will load a slightly enhanced version of the Olympic medal data we worked with before.  In this case, the medal categories have been combined in one DataFrame, and some additional categorical data has been added."
   ]
  },
  {
   "cell_type": "markdown",
   "metadata": {},
   "source": [
    "We are not entirely pleased with the continent classifications, with the Carribean called North America, for example, but most countries are classified.  This data spans years covering a number of changes in names and territorial boundaries of countries, so it is messy in much the way most data is."
   ]
  },
  {
   "cell_type": "code",
   "execution_count": 2,
   "metadata": {},
   "outputs": [
    {
     "data": {
      "text/html": [
       "<div>\n",
       "<style scoped>\n",
       "    .dataframe tbody tr th:only-of-type {\n",
       "        vertical-align: middle;\n",
       "    }\n",
       "\n",
       "    .dataframe tbody tr th {\n",
       "        vertical-align: top;\n",
       "    }\n",
       "\n",
       "    .dataframe thead th {\n",
       "        text-align: right;\n",
       "    }\n",
       "</style>\n",
       "<table border=\"1\" class=\"dataframe\">\n",
       "  <thead>\n",
       "    <tr style=\"text-align: right;\">\n",
       "      <th></th>\n",
       "      <th>Abbrev</th>\n",
       "      <th>Gold</th>\n",
       "      <th>Silver</th>\n",
       "      <th>Bronze</th>\n",
       "      <th>Continent</th>\n",
       "      <th>Total</th>\n",
       "      <th>Level</th>\n",
       "    </tr>\n",
       "    <tr>\n",
       "      <th>Name</th>\n",
       "      <th></th>\n",
       "      <th></th>\n",
       "      <th></th>\n",
       "      <th></th>\n",
       "      <th></th>\n",
       "      <th></th>\n",
       "      <th></th>\n",
       "    </tr>\n",
       "  </thead>\n",
       "  <tbody>\n",
       "    <tr>\n",
       "      <th>Soviet Union</th>\n",
       "      <td>URS</td>\n",
       "      <td>838</td>\n",
       "      <td>627</td>\n",
       "      <td>584</td>\n",
       "      <td>Eurasia</td>\n",
       "      <td>2049</td>\n",
       "      <td>High</td>\n",
       "    </tr>\n",
       "    <tr>\n",
       "      <th>United States</th>\n",
       "      <td>USA</td>\n",
       "      <td>2088</td>\n",
       "      <td>1195</td>\n",
       "      <td>1052</td>\n",
       "      <td>North America</td>\n",
       "      <td>4335</td>\n",
       "      <td>High</td>\n",
       "    </tr>\n",
       "    <tr>\n",
       "      <th>United Kingdom</th>\n",
       "      <td>GBR</td>\n",
       "      <td>498</td>\n",
       "      <td>591</td>\n",
       "      <td>505</td>\n",
       "      <td>Europe</td>\n",
       "      <td>1594</td>\n",
       "      <td>High</td>\n",
       "    </tr>\n",
       "    <tr>\n",
       "      <th>France</th>\n",
       "      <td>FRA</td>\n",
       "      <td>378</td>\n",
       "      <td>461</td>\n",
       "      <td>475</td>\n",
       "      <td>Europe</td>\n",
       "      <td>1314</td>\n",
       "      <td>High</td>\n",
       "    </tr>\n",
       "    <tr>\n",
       "      <th>Germany</th>\n",
       "      <td>GER</td>\n",
       "      <td>407</td>\n",
       "      <td>350</td>\n",
       "      <td>454</td>\n",
       "      <td>Europe</td>\n",
       "      <td>1211</td>\n",
       "      <td>High</td>\n",
       "    </tr>\n",
       "    <tr>\n",
       "      <th>...</th>\n",
       "      <td>...</td>\n",
       "      <td>...</td>\n",
       "      <td>...</td>\n",
       "      <td>...</td>\n",
       "      <td>...</td>\n",
       "      <td>...</td>\n",
       "      <td>...</td>\n",
       "    </tr>\n",
       "    <tr>\n",
       "      <th>Senegal</th>\n",
       "      <td>SEN</td>\n",
       "      <td>0</td>\n",
       "      <td>1</td>\n",
       "      <td>0</td>\n",
       "      <td>Africa</td>\n",
       "      <td>1</td>\n",
       "      <td>One</td>\n",
       "    </tr>\n",
       "    <tr>\n",
       "      <th>Sudan</th>\n",
       "      <td>SUD</td>\n",
       "      <td>0</td>\n",
       "      <td>1</td>\n",
       "      <td>0</td>\n",
       "      <td>Africa</td>\n",
       "      <td>1</td>\n",
       "      <td>One</td>\n",
       "    </tr>\n",
       "    <tr>\n",
       "      <th>Tonga</th>\n",
       "      <td>TGA</td>\n",
       "      <td>0</td>\n",
       "      <td>1</td>\n",
       "      <td>0</td>\n",
       "      <td>Africa</td>\n",
       "      <td>1</td>\n",
       "      <td>One</td>\n",
       "    </tr>\n",
       "    <tr>\n",
       "      <th>Burundi</th>\n",
       "      <td>BDI</td>\n",
       "      <td>1</td>\n",
       "      <td>0</td>\n",
       "      <td>0</td>\n",
       "      <td>Africa</td>\n",
       "      <td>1</td>\n",
       "      <td>One</td>\n",
       "    </tr>\n",
       "    <tr>\n",
       "      <th>United Arab Emirates</th>\n",
       "      <td>UAE</td>\n",
       "      <td>1</td>\n",
       "      <td>0</td>\n",
       "      <td>0</td>\n",
       "      <td>Asia</td>\n",
       "      <td>1</td>\n",
       "      <td>One</td>\n",
       "    </tr>\n",
       "  </tbody>\n",
       "</table>\n",
       "<p>138 rows × 7 columns</p>\n",
       "</div>"
      ],
      "text/plain": [
       "                     Abbrev  Gold  Silver  Bronze      Continent  Total Level\n",
       "Name                                                                         \n",
       "Soviet Union            URS   838     627     584        Eurasia   2049  High\n",
       "United States           USA  2088    1195    1052  North America   4335  High\n",
       "United Kingdom          GBR   498     591     505         Europe   1594  High\n",
       "France                  FRA   378     461     475         Europe   1314  High\n",
       "Germany                 GER   407     350     454         Europe   1211  High\n",
       "...                     ...   ...     ...     ...            ...    ...   ...\n",
       "Senegal                 SEN     0       1       0         Africa      1   One\n",
       "Sudan                   SUD     0       1       0         Africa      1   One\n",
       "Tonga                   TGA     0       1       0         Africa      1   One\n",
       "Burundi                 BDI     1       0       0         Africa      1   One\n",
       "United Arab Emirates    UAE     1       0       0           Asia      1   One\n",
       "\n",
       "[138 rows x 7 columns]"
      ]
     },
     "execution_count": 2,
     "metadata": {},
     "output_type": "execute_result"
    }
   ],
   "source": [
    "medals = pd.read_csv('data/olympic-medals.csv', index_col='Name')\n",
    "medals"
   ]
  },
  {
   "cell_type": "markdown",
   "metadata": {},
   "source": [
    "Let us take a look at what continents and \"levels\" exist for this purpose."
   ]
  },
  {
   "cell_type": "code",
   "execution_count": 3,
   "metadata": {},
   "outputs": [
    {
     "name": "stdout",
     "output_type": "stream",
     "text": [
      "['Eurasia' 'North America' 'Europe' 'Oceania' 'Asia' 'South America'\n",
      " 'Africa' nan]\n",
      "['High' 'Medium' 'Moderate' 'Low' 'One']\n"
     ]
    }
   ],
   "source": [
    "print(medals.Continent.unique())\n",
    "print(medals.Level.unique())"
   ]
  },
  {
   "cell_type": "markdown",
   "metadata": {},
   "source": [
    "## What Do Like Things Have in Common?\n",
    "\n",
    "The basic question grouping answers—in Pandas and in SQL whence the concept is borrowed—is what properties pertain to items that are categorically similar.  Grouping does not really make sense for continuous quantities; but it often does for scales divided by thresholds (as we do with 'Level' here)."
   ]
  },
  {
   "cell_type": "code",
   "execution_count": 4,
   "metadata": {},
   "outputs": [
    {
     "name": "stdout",
     "output_type": "stream",
     "text": [
      "<pandas.core.groupby.generic.DataFrameGroupBy object at 0x7fdfed195720>\n"
     ]
    },
    {
     "data": {
      "text/html": [
       "<div>\n",
       "<style scoped>\n",
       "    .dataframe tbody tr th:only-of-type {\n",
       "        vertical-align: middle;\n",
       "    }\n",
       "\n",
       "    .dataframe tbody tr th {\n",
       "        vertical-align: top;\n",
       "    }\n",
       "\n",
       "    .dataframe thead th {\n",
       "        text-align: right;\n",
       "    }\n",
       "</style>\n",
       "<table border=\"1\" class=\"dataframe\">\n",
       "  <thead>\n",
       "    <tr style=\"text-align: right;\">\n",
       "      <th></th>\n",
       "      <th>Gold</th>\n",
       "      <th>Silver</th>\n",
       "      <th>Bronze</th>\n",
       "      <th>Total</th>\n",
       "    </tr>\n",
       "    <tr>\n",
       "      <th>Level</th>\n",
       "      <th></th>\n",
       "      <th></th>\n",
       "      <th></th>\n",
       "      <th></th>\n",
       "    </tr>\n",
       "  </thead>\n",
       "  <tbody>\n",
       "    <tr>\n",
       "      <th>High</th>\n",
       "      <td>634.333333</td>\n",
       "      <td>516.000000</td>\n",
       "      <td>503.000000</td>\n",
       "      <td>1653.333333</td>\n",
       "    </tr>\n",
       "    <tr>\n",
       "      <th>Low</th>\n",
       "      <td>0.468750</td>\n",
       "      <td>1.437500</td>\n",
       "      <td>2.250000</td>\n",
       "      <td>4.156250</td>\n",
       "    </tr>\n",
       "    <tr>\n",
       "      <th>Medium</th>\n",
       "      <td>118.322581</td>\n",
       "      <td>143.612903</td>\n",
       "      <td>142.161290</td>\n",
       "      <td>404.096774</td>\n",
       "    </tr>\n",
       "    <tr>\n",
       "      <th>Moderate</th>\n",
       "      <td>9.913043</td>\n",
       "      <td>11.500000</td>\n",
       "      <td>14.586957</td>\n",
       "      <td>36.000000</td>\n",
       "    </tr>\n",
       "    <tr>\n",
       "      <th>One</th>\n",
       "      <td>0.100000</td>\n",
       "      <td>0.300000</td>\n",
       "      <td>0.600000</td>\n",
       "      <td>1.000000</td>\n",
       "    </tr>\n",
       "  </tbody>\n",
       "</table>\n",
       "</div>"
      ],
      "text/plain": [
       "                Gold      Silver      Bronze        Total\n",
       "Level                                                    \n",
       "High      634.333333  516.000000  503.000000  1653.333333\n",
       "Low         0.468750    1.437500    2.250000     4.156250\n",
       "Medium    118.322581  143.612903  142.161290   404.096774\n",
       "Moderate    9.913043   11.500000   14.586957    36.000000\n",
       "One         0.100000    0.300000    0.600000     1.000000"
      ]
     },
     "execution_count": 4,
     "metadata": {},
     "output_type": "execute_result"
    }
   ],
   "source": [
    "group = medals.groupby('Level')\n",
    "print(group)\n",
    "group[[\"Gold\", \"Silver\", \"Bronze\", \"Total\"]].mean()"
   ]
  },
  {
   "cell_type": "markdown",
   "metadata": {},
   "source": [
    "We can see the different \"typical of achievement group\" numbers of medals.  This would look better if the index was sorted more descriptively."
   ]
  },
  {
   "cell_type": "code",
   "execution_count": 5,
   "metadata": {},
   "outputs": [
    {
     "data": {
      "text/html": [
       "<div>\n",
       "<style scoped>\n",
       "    .dataframe tbody tr th:only-of-type {\n",
       "        vertical-align: middle;\n",
       "    }\n",
       "\n",
       "    .dataframe tbody tr th {\n",
       "        vertical-align: top;\n",
       "    }\n",
       "\n",
       "    .dataframe thead th {\n",
       "        text-align: right;\n",
       "    }\n",
       "</style>\n",
       "<table border=\"1\" class=\"dataframe\">\n",
       "  <thead>\n",
       "    <tr style=\"text-align: right;\">\n",
       "      <th></th>\n",
       "      <th>Gold</th>\n",
       "      <th>Silver</th>\n",
       "      <th>Bronze</th>\n",
       "      <th>Total</th>\n",
       "    </tr>\n",
       "    <tr>\n",
       "      <th>Level</th>\n",
       "      <th></th>\n",
       "      <th></th>\n",
       "      <th></th>\n",
       "      <th></th>\n",
       "    </tr>\n",
       "  </thead>\n",
       "  <tbody>\n",
       "    <tr>\n",
       "      <th>High</th>\n",
       "      <td>634.333333</td>\n",
       "      <td>516.000000</td>\n",
       "      <td>503.000000</td>\n",
       "      <td>1653.333333</td>\n",
       "    </tr>\n",
       "    <tr>\n",
       "      <th>Medium</th>\n",
       "      <td>118.322581</td>\n",
       "      <td>143.612903</td>\n",
       "      <td>142.161290</td>\n",
       "      <td>404.096774</td>\n",
       "    </tr>\n",
       "    <tr>\n",
       "      <th>Moderate</th>\n",
       "      <td>9.913043</td>\n",
       "      <td>11.500000</td>\n",
       "      <td>14.586957</td>\n",
       "      <td>36.000000</td>\n",
       "    </tr>\n",
       "    <tr>\n",
       "      <th>Low</th>\n",
       "      <td>0.468750</td>\n",
       "      <td>1.437500</td>\n",
       "      <td>2.250000</td>\n",
       "      <td>4.156250</td>\n",
       "    </tr>\n",
       "    <tr>\n",
       "      <th>One</th>\n",
       "      <td>0.100000</td>\n",
       "      <td>0.300000</td>\n",
       "      <td>0.600000</td>\n",
       "      <td>1.000000</td>\n",
       "    </tr>\n",
       "  </tbody>\n",
       "</table>\n",
       "</div>"
      ],
      "text/plain": [
       "                Gold      Silver      Bronze        Total\n",
       "Level                                                    \n",
       "High      634.333333  516.000000  503.000000  1653.333333\n",
       "Medium    118.322581  143.612903  142.161290   404.096774\n",
       "Moderate    9.913043   11.500000   14.586957    36.000000\n",
       "Low         0.468750    1.437500    2.250000     4.156250\n",
       "One         0.100000    0.300000    0.600000     1.000000"
      ]
     },
     "execution_count": 5,
     "metadata": {},
     "output_type": "execute_result"
    }
   ],
   "source": [
    "(medals\n",
    "     .groupby('Level')\n",
    "     [[\"Gold\", \"Silver\", \"Bronze\", \"Total\"]]\n",
    "     .mean()\n",
    "     .sort_values('Total', ascending=False)\n",
    ")"
   ]
  },
  {
   "cell_type": "markdown",
   "metadata": {},
   "source": [
    "How many nations fall in each group?"
   ]
  },
  {
   "cell_type": "code",
   "execution_count": 6,
   "metadata": {},
   "outputs": [
    {
     "data": {
      "text/plain": [
       "Level\n",
       "High         9\n",
       "One         20\n",
       "Medium      31\n",
       "Low         32\n",
       "Moderate    46\n",
       "Name: Total, dtype: int64"
      ]
     },
     "execution_count": 6,
     "metadata": {},
     "output_type": "execute_result"
    }
   ],
   "source": [
    "medals.groupby('Level').Total.count().sort_values()"
   ]
  },
  {
   "cell_type": "markdown",
   "metadata": {},
   "source": [
    "The different achievement levels for nations was set by thresholds.  Let us try to reconstruct what those thresholds were."
   ]
  },
  {
   "cell_type": "code",
   "execution_count": 7,
   "metadata": {},
   "outputs": [
    {
     "data": {
      "text/plain": [
       "Level\n",
       "High        1021\n",
       "Low            2\n",
       "Medium       102\n",
       "Moderate      11\n",
       "One            1\n",
       "Name: Total, dtype: int64"
      ]
     },
     "execution_count": 7,
     "metadata": {},
     "output_type": "execute_result"
    }
   ],
   "source": [
    "medals.groupby('Level').Total.min()"
   ]
  },
  {
   "cell_type": "code",
   "execution_count": 8,
   "metadata": {},
   "outputs": [
    {
     "data": {
      "text/plain": [
       "Level\n",
       "High        4335\n",
       "Low            9\n",
       "Medium       825\n",
       "Moderate      97\n",
       "One            1\n",
       "Name: Total, dtype: int64"
      ]
     },
     "execution_count": 8,
     "metadata": {},
     "output_type": "execute_result"
    }
   ],
   "source": [
    "medals.groupby('Level').Total.max()"
   ]
  },
  {
   "cell_type": "markdown",
   "metadata": {},
   "source": [
    "## Multiple Aggregations\n",
    "\n",
    "We got a sense of the thresholds by looking at minimum and maximum, but the presentation is not that convenient.  Moreover, it is less easy to work with later as separate DataFrames or Series representing a single aggregation."
   ]
  },
  {
   "cell_type": "code",
   "execution_count": 9,
   "metadata": {},
   "outputs": [
    {
     "data": {
      "text/html": [
       "<div>\n",
       "<style scoped>\n",
       "    .dataframe tbody tr th:only-of-type {\n",
       "        vertical-align: middle;\n",
       "    }\n",
       "\n",
       "    .dataframe tbody tr th {\n",
       "        vertical-align: top;\n",
       "    }\n",
       "\n",
       "    .dataframe thead tr th {\n",
       "        text-align: left;\n",
       "    }\n",
       "\n",
       "    .dataframe thead tr:last-of-type th {\n",
       "        text-align: right;\n",
       "    }\n",
       "</style>\n",
       "<table border=\"1\" class=\"dataframe\">\n",
       "  <thead>\n",
       "    <tr>\n",
       "      <th></th>\n",
       "      <th colspan=\"3\" halign=\"left\">Gold</th>\n",
       "      <th colspan=\"2\" halign=\"left\">Silver</th>\n",
       "      <th>...</th>\n",
       "      <th colspan=\"2\" halign=\"left\">Bronze</th>\n",
       "      <th colspan=\"3\" halign=\"left\">Total</th>\n",
       "    </tr>\n",
       "    <tr>\n",
       "      <th></th>\n",
       "      <th>min</th>\n",
       "      <th>max</th>\n",
       "      <th>mean</th>\n",
       "      <th>min</th>\n",
       "      <th>max</th>\n",
       "      <th>...</th>\n",
       "      <th>max</th>\n",
       "      <th>mean</th>\n",
       "      <th>min</th>\n",
       "      <th>max</th>\n",
       "      <th>mean</th>\n",
       "    </tr>\n",
       "    <tr>\n",
       "      <th>Level</th>\n",
       "      <th></th>\n",
       "      <th></th>\n",
       "      <th></th>\n",
       "      <th></th>\n",
       "      <th></th>\n",
       "      <th></th>\n",
       "      <th></th>\n",
       "      <th></th>\n",
       "      <th></th>\n",
       "      <th></th>\n",
       "      <th></th>\n",
       "    </tr>\n",
       "  </thead>\n",
       "  <tbody>\n",
       "    <tr>\n",
       "      <th>High</th>\n",
       "      <td>293</td>\n",
       "      <td>2088</td>\n",
       "      <td>634.333333</td>\n",
       "      <td>308</td>\n",
       "      <td>1195</td>\n",
       "      <td>...</td>\n",
       "      <td>1052</td>\n",
       "      <td>503.000000</td>\n",
       "      <td>1021</td>\n",
       "      <td>4335</td>\n",
       "      <td>1653.333333</td>\n",
       "    </tr>\n",
       "    <tr>\n",
       "      <th>Low</th>\n",
       "      <td>0</td>\n",
       "      <td>2</td>\n",
       "      <td>0.468750</td>\n",
       "      <td>0</td>\n",
       "      <td>4</td>\n",
       "      <td>...</td>\n",
       "      <td>7</td>\n",
       "      <td>2.250000</td>\n",
       "      <td>2</td>\n",
       "      <td>9</td>\n",
       "      <td>4.156250</td>\n",
       "    </tr>\n",
       "    <tr>\n",
       "      <th>Medium</th>\n",
       "      <td>21</td>\n",
       "      <td>329</td>\n",
       "      <td>118.322581</td>\n",
       "      <td>16</td>\n",
       "      <td>271</td>\n",
       "      <td>...</td>\n",
       "      <td>320</td>\n",
       "      <td>142.161290</td>\n",
       "      <td>102</td>\n",
       "      <td>825</td>\n",
       "      <td>404.096774</td>\n",
       "    </tr>\n",
       "    <tr>\n",
       "      <th>Moderate</th>\n",
       "      <td>0</td>\n",
       "      <td>44</td>\n",
       "      <td>9.913043</td>\n",
       "      <td>1</td>\n",
       "      <td>38</td>\n",
       "      <td>...</td>\n",
       "      <td>53</td>\n",
       "      <td>14.586957</td>\n",
       "      <td>11</td>\n",
       "      <td>97</td>\n",
       "      <td>36.000000</td>\n",
       "    </tr>\n",
       "    <tr>\n",
       "      <th>One</th>\n",
       "      <td>0</td>\n",
       "      <td>1</td>\n",
       "      <td>0.100000</td>\n",
       "      <td>0</td>\n",
       "      <td>1</td>\n",
       "      <td>...</td>\n",
       "      <td>1</td>\n",
       "      <td>0.600000</td>\n",
       "      <td>1</td>\n",
       "      <td>1</td>\n",
       "      <td>1.000000</td>\n",
       "    </tr>\n",
       "  </tbody>\n",
       "</table>\n",
       "<p>5 rows × 12 columns</p>\n",
       "</div>"
      ],
      "text/plain": [
       "         Gold                   Silver        ... Bronze             Total  \\\n",
       "          min   max        mean    min   max  ...    max        mean   min   \n",
       "Level                                         ...                            \n",
       "High      293  2088  634.333333    308  1195  ...   1052  503.000000  1021   \n",
       "Low         0     2    0.468750      0     4  ...      7    2.250000     2   \n",
       "Medium     21   329  118.322581     16   271  ...    320  142.161290   102   \n",
       "Moderate    0    44    9.913043      1    38  ...     53   14.586957    11   \n",
       "One         0     1    0.100000      0     1  ...      1    0.600000     1   \n",
       "\n",
       "                             \n",
       "           max         mean  \n",
       "Level                        \n",
       "High      4335  1653.333333  \n",
       "Low          9     4.156250  \n",
       "Medium     825   404.096774  \n",
       "Moderate    97    36.000000  \n",
       "One          1     1.000000  \n",
       "\n",
       "[5 rows x 12 columns]"
      ]
     },
     "execution_count": 9,
     "metadata": {},
     "output_type": "execute_result"
    }
   ],
   "source": [
    "(medals\n",
    "     .groupby('Level')\n",
    "     [[\"Gold\", \"Silver\", \"Bronze\", \"Total\"]]\n",
    "     .agg(['min', 'max', 'mean'])\n",
    ")"
   ]
  },
  {
   "cell_type": "markdown",
   "metadata": {},
   "source": [
    "The thresholds were set, as it happens, using total medals rather than one category. We can focus on that."
   ]
  },
  {
   "cell_type": "code",
   "execution_count": 10,
   "metadata": {},
   "outputs": [
    {
     "data": {
      "text/html": [
       "<div>\n",
       "<style scoped>\n",
       "    .dataframe tbody tr th:only-of-type {\n",
       "        vertical-align: middle;\n",
       "    }\n",
       "\n",
       "    .dataframe tbody tr th {\n",
       "        vertical-align: top;\n",
       "    }\n",
       "\n",
       "    .dataframe thead th {\n",
       "        text-align: right;\n",
       "    }\n",
       "</style>\n",
       "<table border=\"1\" class=\"dataframe\">\n",
       "  <thead>\n",
       "    <tr style=\"text-align: right;\">\n",
       "      <th></th>\n",
       "      <th>min</th>\n",
       "      <th>max</th>\n",
       "      <th>mean</th>\n",
       "      <th>std</th>\n",
       "    </tr>\n",
       "    <tr>\n",
       "      <th>Level</th>\n",
       "      <th></th>\n",
       "      <th></th>\n",
       "      <th></th>\n",
       "      <th></th>\n",
       "    </tr>\n",
       "  </thead>\n",
       "  <tbody>\n",
       "    <tr>\n",
       "      <th>One</th>\n",
       "      <td>1</td>\n",
       "      <td>1</td>\n",
       "      <td>1.000000</td>\n",
       "      <td>0.000000</td>\n",
       "    </tr>\n",
       "    <tr>\n",
       "      <th>Low</th>\n",
       "      <td>2</td>\n",
       "      <td>9</td>\n",
       "      <td>4.156250</td>\n",
       "      <td>2.259166</td>\n",
       "    </tr>\n",
       "    <tr>\n",
       "      <th>Moderate</th>\n",
       "      <td>11</td>\n",
       "      <td>97</td>\n",
       "      <td>36.000000</td>\n",
       "      <td>24.813079</td>\n",
       "    </tr>\n",
       "    <tr>\n",
       "      <th>Medium</th>\n",
       "      <td>102</td>\n",
       "      <td>825</td>\n",
       "      <td>404.096774</td>\n",
       "      <td>203.830216</td>\n",
       "    </tr>\n",
       "    <tr>\n",
       "      <th>High</th>\n",
       "      <td>1021</td>\n",
       "      <td>4335</td>\n",
       "      <td>1653.333333</td>\n",
       "      <td>1056.990894</td>\n",
       "    </tr>\n",
       "  </tbody>\n",
       "</table>\n",
       "</div>"
      ],
      "text/plain": [
       "           min   max         mean          std\n",
       "Level                                         \n",
       "One          1     1     1.000000     0.000000\n",
       "Low          2     9     4.156250     2.259166\n",
       "Moderate    11    97    36.000000    24.813079\n",
       "Medium     102   825   404.096774   203.830216\n",
       "High      1021  4335  1653.333333  1056.990894"
      ]
     },
     "execution_count": 10,
     "metadata": {},
     "output_type": "execute_result"
    }
   ],
   "source": [
    "# Notice that some common aggregations have names\n",
    "# ... but we can also pass in an arbitrary ufunc\n",
    "(medals\n",
    "     .groupby('Level')\n",
    "     .Total\n",
    "     .agg(['min', 'max', 'mean', np.std])\n",
    "     .sort_values('min')\n",
    ")"
   ]
  },
  {
   "cell_type": "markdown",
   "metadata": {},
   "source": [
    "## Nested Grouping\n",
    "\n",
    "We might be interested in the combination of multiple categorical fields.  Notice that the levels are based on total medals."
   ]
  },
  {
   "cell_type": "code",
   "execution_count": 11,
   "metadata": {},
   "outputs": [
    {
     "name": "stdout",
     "output_type": "stream",
     "text": [
      "                       Abbrev  Gold  Silver  Bronze  Total\n",
      "Level    Continent                                        \n",
      "High     Eurasia          URS   838     627     584   2049\n",
      "         Europe           SWE   498     591     505   1594\n",
      "         North America    USA  2088    1195    1052   4335\n",
      "         Oceania          AUS   293     369     413   1075\n",
      "Low      Africa           ZAM     2       4       3      7\n",
      "         Asia             VIE     1       4       5      7\n",
      "         Eurasia          ARM     1       1       7      9\n",
      "         Europe           MDA     1       3       6      7\n",
      "         North America    PUR     2       1       7      8\n",
      "         Oceania          PHI     0       2       7      9\n",
      "         South America    SUR     1       1       1      2\n",
      "Medium   Asia             PAK   234     252     270    704\n",
      "         Eurasia          RUS   192     206     240    638\n",
      "         Europe           YUG   329     271     320    825\n",
      "         North America    JAM   160     211     227    592\n",
      "         Oceania          NZL    76      27      61    164\n",
      "         South America    BRA    68     139     174    372\n",
      "Moderate Africa           ZIM    26      38      36     97\n",
      "         Asia             UZB    11      27      30     52\n",
      "         Eurasia          TUR    37      23      22     82\n",
      "         Europe           SVK    31      30      53     92\n",
      "         North America    TRI    14      18      48     80\n",
      "         Oceania          INA    20      14      12     35\n",
      "         South America    VEN    44      17      30     76\n",
      "One      Africa           TOG     1       1       1      1\n",
      "         Asia             UAE     1       0       1      1\n",
      "         Europe           MKD     0       0       1      1\n",
      "         North America    ISV     0       1       1      1\n",
      "         South America    GUY     0       0       1      1\n"
     ]
    }
   ],
   "source": [
    "with show_all_rows():\n",
    "    print(medals.groupby(['Level', 'Continent']).max())"
   ]
  },
  {
   "cell_type": "markdown",
   "metadata": {},
   "source": [
    "We can combine several aggregations, and include a novel one: `list`.  That is, simply the Python function list.  Let us look at all the different Gold medal counts per each country within each nested group.  Also we simultaenously find the median of the group and a count of how many countries make up each group."
   ]
  },
  {
   "cell_type": "code",
   "execution_count": 12,
   "metadata": {},
   "outputs": [
    {
     "data": {
      "text/html": [
       "<div>\n",
       "<style scoped>\n",
       "    .dataframe tbody tr th:only-of-type {\n",
       "        vertical-align: middle;\n",
       "    }\n",
       "\n",
       "    .dataframe tbody tr th {\n",
       "        vertical-align: top;\n",
       "    }\n",
       "\n",
       "    .dataframe thead th {\n",
       "        text-align: right;\n",
       "    }\n",
       "</style>\n",
       "<table border=\"1\" class=\"dataframe\">\n",
       "  <thead>\n",
       "    <tr style=\"text-align: right;\">\n",
       "      <th></th>\n",
       "      <th></th>\n",
       "      <th>count</th>\n",
       "      <th>median</th>\n",
       "      <th>max</th>\n",
       "      <th>list</th>\n",
       "    </tr>\n",
       "    <tr>\n",
       "      <th>Level</th>\n",
       "      <th>Continent</th>\n",
       "      <th></th>\n",
       "      <th></th>\n",
       "      <th></th>\n",
       "      <th></th>\n",
       "    </tr>\n",
       "  </thead>\n",
       "  <tbody>\n",
       "    <tr>\n",
       "      <th rowspan=\"4\" valign=\"top\">High</th>\n",
       "      <th>Eurasia</th>\n",
       "      <td>1</td>\n",
       "      <td>838.0</td>\n",
       "      <td>838</td>\n",
       "      <td>[838]</td>\n",
       "    </tr>\n",
       "    <tr>\n",
       "      <th>Europe</th>\n",
       "      <td>6</td>\n",
       "      <td>403.5</td>\n",
       "      <td>498</td>\n",
       "      <td>[498, 378, 407, 460, 400, 347]</td>\n",
       "    </tr>\n",
       "    <tr>\n",
       "      <th>North America</th>\n",
       "      <td>1</td>\n",
       "      <td>2088.0</td>\n",
       "      <td>2088</td>\n",
       "      <td>[2088]</td>\n",
       "    </tr>\n",
       "    <tr>\n",
       "      <th>Oceania</th>\n",
       "      <td>1</td>\n",
       "      <td>293.0</td>\n",
       "      <td>293</td>\n",
       "      <td>[293]</td>\n",
       "    </tr>\n",
       "    <tr>\n",
       "      <th>Low</th>\n",
       "      <th>Africa</th>\n",
       "      <td>6</td>\n",
       "      <td>0.5</td>\n",
       "      <td>2</td>\n",
       "      <td>[2, 1, 0, 1, 0, 0]</td>\n",
       "    </tr>\n",
       "    <tr>\n",
       "      <th>...</th>\n",
       "      <th>...</th>\n",
       "      <td>...</td>\n",
       "      <td>...</td>\n",
       "      <td>...</td>\n",
       "      <td>...</td>\n",
       "    </tr>\n",
       "    <tr>\n",
       "      <th rowspan=\"5\" valign=\"top\">One</th>\n",
       "      <th>Africa</th>\n",
       "      <td>10</td>\n",
       "      <td>0.0</td>\n",
       "      <td>1</td>\n",
       "      <td>[0, 0, 0, 0, 0, 0, 0, 0, 0, 1]</td>\n",
       "    </tr>\n",
       "    <tr>\n",
       "      <th>Asia</th>\n",
       "      <td>4</td>\n",
       "      <td>0.0</td>\n",
       "      <td>1</td>\n",
       "      <td>[0, 0, 0, 1]</td>\n",
       "    </tr>\n",
       "    <tr>\n",
       "      <th>Europe</th>\n",
       "      <td>1</td>\n",
       "      <td>0.0</td>\n",
       "      <td>0</td>\n",
       "      <td>[0]</td>\n",
       "    </tr>\n",
       "    <tr>\n",
       "      <th>North America</th>\n",
       "      <td>4</td>\n",
       "      <td>0.0</td>\n",
       "      <td>0</td>\n",
       "      <td>[0, 0, 0, 0]</td>\n",
       "    </tr>\n",
       "    <tr>\n",
       "      <th>South America</th>\n",
       "      <td>1</td>\n",
       "      <td>0.0</td>\n",
       "      <td>0</td>\n",
       "      <td>[0]</td>\n",
       "    </tr>\n",
       "  </tbody>\n",
       "</table>\n",
       "<p>29 rows × 4 columns</p>\n",
       "</div>"
      ],
      "text/plain": [
       "                     count  median   max                            list\n",
       "Level Continent                                                         \n",
       "High  Eurasia            1   838.0   838                           [838]\n",
       "      Europe             6   403.5   498  [498, 378, 407, 460, 400, 347]\n",
       "      North America      1  2088.0  2088                          [2088]\n",
       "      Oceania            1   293.0   293                           [293]\n",
       "Low   Africa             6     0.5     2              [2, 1, 0, 1, 0, 0]\n",
       "...                    ...     ...   ...                             ...\n",
       "One   Africa            10     0.0     1  [0, 0, 0, 0, 0, 0, 0, 0, 0, 1]\n",
       "      Asia               4     0.0     1                    [0, 0, 0, 1]\n",
       "      Europe             1     0.0     0                             [0]\n",
       "      North America      4     0.0     0                    [0, 0, 0, 0]\n",
       "      South America      1     0.0     0                             [0]\n",
       "\n",
       "[29 rows x 4 columns]"
      ]
     },
     "execution_count": 12,
     "metadata": {},
     "output_type": "execute_result"
    }
   ],
   "source": [
    "medals.groupby(['Level', 'Continent']).Gold.agg(['count', 'median', 'max', list])"
   ]
  },
  {
   "cell_type": "markdown",
   "metadata": {},
   "source": [
    "Which country within each nested group was the one that actually won that highest number of Gold medals?  `.idxmax()` is an interesting aggregation that gives you the actual index of the item matching the maximum.  More advanced users of NumPy will know `.argmax()` and `.argsort()` which work similarly."
   ]
  },
  {
   "cell_type": "code",
   "execution_count": 13,
   "metadata": {},
   "outputs": [
    {
     "data": {
      "text/plain": [
       "Level  Continent    \n",
       "High   Eurasia                  Soviet Union\n",
       "       Europe                 United Kingdom\n",
       "       North America           United States\n",
       "       Oceania                     Australia\n",
       "Low    Africa                        Tunisia\n",
       "                                ...         \n",
       "One    Africa                        Burundi\n",
       "       Asia             United Arab Emirates\n",
       "       Europe                      Macedonia\n",
       "       North America                Barbados\n",
       "       South America                  Guyana\n",
       "Name: Gold, Length: 29, dtype: object"
      ]
     },
     "execution_count": 13,
     "metadata": {},
     "output_type": "execute_result"
    }
   ],
   "source": [
    "medals.groupby(['Level', 'Continent']).Gold.idxmax()"
   ]
  },
  {
   "cell_type": "code",
   "execution_count": 14,
   "metadata": {},
   "outputs": [
    {
     "data": {
      "text/html": [
       "<div>\n",
       "<style scoped>\n",
       "    .dataframe tbody tr th:only-of-type {\n",
       "        vertical-align: middle;\n",
       "    }\n",
       "\n",
       "    .dataframe tbody tr th {\n",
       "        vertical-align: top;\n",
       "    }\n",
       "\n",
       "    .dataframe thead th {\n",
       "        text-align: right;\n",
       "    }\n",
       "</style>\n",
       "<table border=\"1\" class=\"dataframe\">\n",
       "  <thead>\n",
       "    <tr style=\"text-align: right;\">\n",
       "      <th></th>\n",
       "      <th></th>\n",
       "      <th>idxmax</th>\n",
       "      <th>max</th>\n",
       "    </tr>\n",
       "    <tr>\n",
       "      <th>Level</th>\n",
       "      <th>Continent</th>\n",
       "      <th></th>\n",
       "      <th></th>\n",
       "    </tr>\n",
       "  </thead>\n",
       "  <tbody>\n",
       "    <tr>\n",
       "      <th rowspan=\"4\" valign=\"top\">High</th>\n",
       "      <th>Eurasia</th>\n",
       "      <td>Soviet Union</td>\n",
       "      <td>838</td>\n",
       "    </tr>\n",
       "    <tr>\n",
       "      <th>Europe</th>\n",
       "      <td>United Kingdom</td>\n",
       "      <td>498</td>\n",
       "    </tr>\n",
       "    <tr>\n",
       "      <th>North America</th>\n",
       "      <td>United States</td>\n",
       "      <td>2088</td>\n",
       "    </tr>\n",
       "    <tr>\n",
       "      <th>Oceania</th>\n",
       "      <td>Australia</td>\n",
       "      <td>293</td>\n",
       "    </tr>\n",
       "    <tr>\n",
       "      <th>Low</th>\n",
       "      <th>Africa</th>\n",
       "      <td>Tunisia</td>\n",
       "      <td>2</td>\n",
       "    </tr>\n",
       "    <tr>\n",
       "      <th>...</th>\n",
       "      <th>...</th>\n",
       "      <td>...</td>\n",
       "      <td>...</td>\n",
       "    </tr>\n",
       "    <tr>\n",
       "      <th rowspan=\"5\" valign=\"top\">One</th>\n",
       "      <th>Africa</th>\n",
       "      <td>Burundi</td>\n",
       "      <td>1</td>\n",
       "    </tr>\n",
       "    <tr>\n",
       "      <th>Asia</th>\n",
       "      <td>United Arab Emirates</td>\n",
       "      <td>1</td>\n",
       "    </tr>\n",
       "    <tr>\n",
       "      <th>Europe</th>\n",
       "      <td>Macedonia</td>\n",
       "      <td>0</td>\n",
       "    </tr>\n",
       "    <tr>\n",
       "      <th>North America</th>\n",
       "      <td>Barbados</td>\n",
       "      <td>0</td>\n",
       "    </tr>\n",
       "    <tr>\n",
       "      <th>South America</th>\n",
       "      <td>Guyana</td>\n",
       "      <td>0</td>\n",
       "    </tr>\n",
       "  </tbody>\n",
       "</table>\n",
       "<p>29 rows × 2 columns</p>\n",
       "</div>"
      ],
      "text/plain": [
       "                                   idxmax   max\n",
       "Level Continent                                \n",
       "High  Eurasia                Soviet Union   838\n",
       "      Europe               United Kingdom   498\n",
       "      North America         United States  2088\n",
       "      Oceania                   Australia   293\n",
       "Low   Africa                      Tunisia     2\n",
       "...                                   ...   ...\n",
       "One   Africa                      Burundi     1\n",
       "      Asia           United Arab Emirates     1\n",
       "      Europe                    Macedonia     0\n",
       "      North America              Barbados     0\n",
       "      South America                Guyana     0\n",
       "\n",
       "[29 rows x 2 columns]"
      ]
     },
     "execution_count": 14,
     "metadata": {},
     "output_type": "execute_result"
    }
   ],
   "source": [
    "medals.groupby(['Level', 'Continent']).Gold.agg(['idxmax', 'max'])"
   ]
  },
  {
   "cell_type": "markdown",
   "metadata": {},
   "source": [
    "## Group By Derived Feature\n",
    "\n",
    "The categorical distinction Pandas can group by does not need to be an actual column.  It could potentially be something that can be calculated from a column, or even from the index."
   ]
  },
  {
   "cell_type": "markdown",
   "metadata": {},
   "source": [
    "This is a bit silly as a practical need, but let us group countries by the last letter of their name, just to illustrate.  There were 6545 medals won by countries whose name ends in 'a'."
   ]
  },
  {
   "cell_type": "code",
   "execution_count": null,
   "metadata": {},
   "outputs": [],
   "source": [
    "medals.groupby(medals.index.str[-1]).Total.sum()"
   ]
  },
  {
   "cell_type": "markdown",
   "metadata": {},
   "source": [
    "A bit more plausibly, and similar to the operation done in advance to derive `Level`, we can look at the logarithm of the Gold medal count to get a modest number of categories.  We add one to the count because we cannot take the log of zero."
   ]
  },
  {
   "cell_type": "code",
   "execution_count": null,
   "metadata": {},
   "outputs": [],
   "source": [
    "grouper = medals.groupby(np.log(medals.Gold + 1).astype(int))\n",
    "grouper.Gold.agg([\"count\", \"min\", \"max\"])"
   ]
  },
  {
   "cell_type": "markdown",
   "metadata": {},
   "source": [
    "# Exercises\n",
    "\n",
    "For these exercises, we will again work with our NOAA temperature dataset in the large version.  We will derive some categorical features.  The last section of this module that looked at derived features will be relevant."
   ]
  },
  {
   "cell_type": "markdown",
   "metadata": {},
   "source": [
    "Just as a suggestion, you may find it easier to derive a feature and place that derived value in a new column to work with.  Generally, Pandas will always give you ways to achieve the goal without that intermediate step.  However, the \"fluent style\" of Pandas that chain many methods can become confusing quickly to beginners.  Saving intermediate results in new objects or in new columns is fine."
   ]
  },
  {
   "cell_type": "code",
   "execution_count": null,
   "metadata": {},
   "outputs": [],
   "source": [
    "# For exercises, we probably want to look at more rows in results\n",
    "pd.options.display.max_rows = 50\n",
    "url = (\"https://bitbucket.org/davidmertz/sample-data/raw/\"\n",
    "       \"61872271984f66e3094c367cf90dfc4875a22e8d/NOAA-2019-partial.csv.gz\")\n",
    "temperatures = pd.read_csv(url)\n",
    "temperatures['DATE'] = pd.to_datetime(temperatures.DATE, format=\"%Y-%m-%d\")"
   ]
  },
  {
   "cell_type": "code",
   "execution_count": null,
   "metadata": {},
   "outputs": [],
   "source": [
    "temperatures.columns"
   ]
  },
  {
   "cell_type": "markdown",
   "metadata": {},
   "source": [
    "You may have noticed that the data in this dataset is predominantly from stations in northern latitudes.  That does not reflect a limitation of NOAA's data collection, but simply the numbering system they use for download files.  In putting together the sample data for this course, we only downloaded files whose names begin with the numeral '0' (then aggregated them for the dataset you have worked with)."
   ]
  },
  {
   "cell_type": "markdown",
   "metadata": {},
   "source": [
    "### Clean the Data\n",
    "\n",
    "First step, remove all the latitudes south of 40°N.  This is a relatively small number of rows, as described above."
   ]
  },
  {
   "cell_type": "code",
   "execution_count": null,
   "metadata": {},
   "outputs": [],
   "source": [
    "# Remove data outside northern circumference\n",
    "..."
   ]
  },
  {
   "cell_type": "markdown",
   "metadata": {},
   "source": [
    "### Create Categorical Data\n",
    "\n",
    "We would like to divide the data between 40°N and 90°N into latitude bands of 10 degrees.  Save those band memberships in a new column called `Latitude_Band`.  You may use either a string or a number to represent the bands, the point is simply to have a small number of them rather than a continuous range."
   ]
  },
  {
   "cell_type": "code",
   "execution_count": null,
   "metadata": {},
   "outputs": [],
   "source": [
    "# Make latitude categorical\n",
    "..."
   ]
  },
  {
   "cell_type": "markdown",
   "metadata": {},
   "source": [
    "We would also like to create a new categorical column called `Month` that represents which month of the year a measurement was in.  Ideally, store the string name of the month in that column, but an integer is acceptable."
   ]
  },
  {
   "cell_type": "code",
   "execution_count": null,
   "metadata": {},
   "outputs": [],
   "source": [
    "# Make month categorical\n",
    "..."
   ]
  },
  {
   "cell_type": "markdown",
   "metadata": {},
   "source": [
    "One more categorical to go.  We would like to divide elevation into bands, similarly to what you did with latitude.  However, elevations are clustered at lower numbers, so we wish to create `Elevation_Band` based on the log base-10 of the raw elevation. I.e. it will be in 5 bands with minima of 0, 1, 10, 100, 1000."
   ]
  },
  {
   "cell_type": "markdown",
   "metadata": {},
   "source": [
    "**Note**: Actually there is a trick here! A few of the stations are below sea level and have negative elevations.  Let us make those be a separate category also."
   ]
  },
  {
   "cell_type": "markdown",
   "metadata": {},
   "source": [
    "## Group and Aggregate\n",
    "\n",
    "We would like to look at the following:\n",
    "\n",
    "* Mean temperature, windspeed, and precipiation, simply by month.\n",
    "* Mean and maximum temperature, windspeed, and precipitation by month and latitude band.\n",
    "* Think also about what you read at [Global Surface Summary of the Day](https://data.nodc.noaa.gov/cgi-bin/iso?id=gov.noaa.ncdc:C00516) in deciding the most appropriate data fields to use.\n",
    "* Minimum and maximum temperature and atmospheric pressure by month, latitude band, and elevation band.\n",
    "* The total variability of temperatures within each particular month, latitude band, and elevation band group.  Again think about choosing the best featuers to answer this."
   ]
  },
  {
   "cell_type": "code",
   "execution_count": null,
   "metadata": {},
   "outputs": [],
   "source": [
    "# Aggregate numerous quanities by various categoricals\n",
    "..."
   ]
  }
 ],
 "metadata": {
  "kernelspec": {
   "display_name": "Python 3 (ipykernel)",
   "language": "python",
   "name": "python3"
  },
  "language_info": {
   "codemirror_mode": {
    "name": "ipython",
    "version": 3
   },
   "file_extension": ".py",
   "mimetype": "text/x-python",
   "name": "python",
   "nbconvert_exporter": "python",
   "pygments_lexer": "ipython3",
   "version": "3.10.13"
  },
  "widgets": {
   "application/vnd.jupyter.widget-state+json": {
    "state": {},
    "version_major": 2,
    "version_minor": 0
   }
  }
 },
 "nbformat": 4,
 "nbformat_minor": 4
}

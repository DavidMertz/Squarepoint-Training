{
 "cells": [
  {
   "cell_type": "markdown",
   "metadata": {
    "editable": true,
    "slideshow": {
     "slide_type": "fragment"
    },
    "tags": []
   },
   "source": [
    "![Matplotlib logo](img/matplotlib.svg)"
   ]
  },
  {
   "cell_type": "code",
   "execution_count": null,
   "metadata": {},
   "outputs": [],
   "source": [
    "%matplotlib inline\n",
    "import pandas as pd\n",
    "import matplotlib.pyplot as plt\n",
    "from src.training import *\n",
    "from src.matplotlib_exercises import *"
   ]
  },
  {
   "cell_type": "markdown",
   "metadata": {},
   "source": [
    "# Time Series\n",
    "\n",
    "We have already seen that Pandas does a pretty good job of handling plots with datetime axes in an automated fashion.  But all of that control relies on underlying Matplotlib features that we will look at within the the latter library."
   ]
  },
  {
   "cell_type": "markdown",
   "metadata": {},
   "source": [
    "As an example for this module, we will use some very old data that was collected by Brad Huntting and used with co-author, and contributor to this training material, David Mertz, for an article on the [R Programming Language](http://gnosis.cx/publish/programming/R.html)."
   ]
  },
  {
   "cell_type": "markdown",
   "metadata": {},
   "source": [
    "This example is also utilized in more depth in my book [_Cleaning Data for Effective Data Science_](https://gnosis.cx/cleaning), ISBN-13 978-1801071291, 2021. I'd love it if you want to buy a copy, but you can read it freely online as well."
   ]
  },
  {
   "cell_type": "markdown",
   "metadata": {},
   "source": [
    "This data is temperature readings at approximately 3 minute intervals, over about a year, from Brad's house in Boulder, Colorado USA, in 2003-2004.  We would like to use data that has a greater sample frequency than the daily frequency that other examples have used.  As it usually goes with real-world data, the first step is a little bit of cleanup.  Firstly we have to handle the on-disk data format, which looks like this:\n",
    "\n",
    "```\n",
    "% zcat outside.gz | head -3\n",
    "2003 07 25 16 04 27.500000\n",
    "2003 07 25 16 07 27.300000\n",
    "2003 07 25 16 10 27.300000\n",
    "```"
   ]
  },
  {
   "cell_type": "markdown",
   "metadata": {},
   "source": [
    "It does not take much Python code to read the files and cast the dates and value in ℃.  We have four files with measurements in different locations.  We construct a Python dictionary first for each location (mapping datetime to measure).  Once constructed, we decide to collect the aggregation in a Pandas DataFrame; but you can see that the parsing code does not require Pandas."
   ]
  },
  {
   "cell_type": "code",
   "execution_count": null,
   "metadata": {},
   "outputs": [],
   "source": [
    "import gzip\n",
    "from datetime import datetime\n",
    "\n",
    "def brad_house():\n",
    "    df = pd.DataFrame()\n",
    "    for location in ['basement', 'lab', 'livingroom', 'outside']:\n",
    "        with gzip.open('data/%s.gz' % location) as f:\n",
    "            readings = dict()\n",
    "            for line in f:\n",
    "                Y, m, d, H, M, temp = line.split()\n",
    "                readings[datetime(*map(int, (Y, m, d, H, M)))] = float(temp)\n",
    "        df[location] = pd.Series(readings)\n",
    "\n",
    "    return df.sort_index()"
   ]
  },
  {
   "cell_type": "code",
   "execution_count": null,
   "metadata": {},
   "outputs": [],
   "source": [
    "df = brad_house()\n",
    "df"
   ]
  },
  {
   "cell_type": "markdown",
   "metadata": {},
   "source": [
    "We see from the first few rows that some data is missing.  Perhaps there were some timestamps where all four sensors were down simultaneously.  Pandas can take care of assuring uniform time intervals easily enough. This adds about 1% to the number of observation rows, and we will back fill values to avoid NaNs (decide in a problem-specific way whether filling/interpolation is good)."
   ]
  },
  {
   "cell_type": "code",
   "execution_count": null,
   "metadata": {},
   "outputs": [],
   "source": [
    "# T for minutes because M is taken for months\n",
    "df = df.asfreq('3T').bfill()\n",
    "df"
   ]
  },
  {
   "cell_type": "markdown",
   "metadata": {},
   "source": [
    "## Using Pandas\n",
    "\n",
    "Let us first look at the basic wrapper Pandas gives us with almost no work; especially since we decided to use a DataFrame as our data structure."
   ]
  },
  {
   "cell_type": "code",
   "execution_count": null,
   "metadata": {},
   "outputs": [],
   "source": [
    "df.plot(title=\"Temperatures at Brad's House\");"
   ]
  },
  {
   "cell_type": "code",
   "execution_count": null,
   "metadata": {},
   "outputs": [],
   "source": [
    "df.loc['2004-06-01'].plot(title=\"Temperatures at Brand's House on 1 June 2004\");"
   ]
  },
  {
   "cell_type": "markdown",
   "metadata": {},
   "source": [
    "Not surprisingly, outdoor temperatures see more fluctuation both over a day and over a year than do indoor ones.  But different interior rooms also have different regulation."
   ]
  },
  {
   "cell_type": "markdown",
   "metadata": {},
   "source": [
    "## Just Matplotlib\n",
    "\n",
    "For a good number of years, Matplotlib itself handles datetime values somewhat automatically.  In very old versions, more manual effort was needed to get axis labels and other elements to do sensible things with datetimes (but it has been *possible* for a great many years)."
   ]
  },
  {
   "cell_type": "markdown",
   "metadata": {},
   "source": [
    "Note that in below examples we pull out the `.values` attribute of Pandas Series.  This is not necessary, but it enforces working with the underlying array rather than using any Pandas adornments.  Everything we do would equally work with plain Python lists, albeit more slowly generally."
   ]
  },
  {
   "cell_type": "code",
   "execution_count": null,
   "metadata": {},
   "outputs": [],
   "source": [
    "# A simple approach to plotting all temperatures for one location\n",
    "fig, ax = plt.subplots()\n",
    "# Reasonable selection of intermittent labels\n",
    "ax.plot(df.index.values, df.outside.values)\n",
    "ax.set_title(\"Outdoor ℃ Temperatures at Brad's House\");"
   ]
  },
  {
   "cell_type": "markdown",
   "metadata": {},
   "source": [
    "We get a cleaner picture by down sampling the data.  This is not particularly a Matplotlib operation, but it is worthing trying."
   ]
  },
  {
   "cell_type": "code",
   "execution_count": null,
   "metadata": {},
   "outputs": [],
   "source": [
    "outside = df.outside.asfreq('d')\n",
    "out_ts = outside.index.values\n",
    "out_deg = outside.values\n",
    "out_ts[:3], out_deg[:3]"
   ]
  },
  {
   "cell_type": "code",
   "execution_count": null,
   "metadata": {},
   "outputs": [],
   "source": [
    "# Temperatures at 4:04 pm each day\n",
    "fig, ax = plt.subplots()\n",
    "ax.plot(out_ts, out_deg)\n",
    "ax.tick_params(axis='x', rotation=60)\n",
    "ax.set_title(\"Outdoor ℃ Temperatures at 4:04 pm\");"
   ]
  },
  {
   "cell_type": "markdown",
   "metadata": {},
   "source": [
    "We do less well in the defaults when we move to a lower resolution, such as one day.  The date is shown needlessly on the X ticks (although not the year)."
   ]
  },
  {
   "cell_type": "code",
   "execution_count": null,
   "metadata": {},
   "outputs": [],
   "source": [
    "times = df.loc['2004-06-01'].index.values\n",
    "temps = df.loc['2004-06-01'].outside.values\n",
    "fig, ax = plt.subplots()\n",
    "ax.plot(times, temps)\n",
    "ax.tick_params(axis='x', rotation=30)\n",
    "ax.set_title(\"Outdoor ℃ Temperatures at Brad's House\");"
   ]
  },
  {
   "cell_type": "markdown",
   "metadata": {},
   "source": [
    "We can do better in choosing useful labels for the X axis.  We will use intermittent axis labels with more details, and less detail for the minor labels. The gridlines can also be customized."
   ]
  },
  {
   "cell_type": "code",
   "execution_count": null,
   "metadata": {},
   "outputs": [],
   "source": [
    "from matplotlib.dates import DateFormatter, HourLocator\n",
    "\n",
    "fig, ax = plt.subplots(figsize=(12,3))\n",
    "ax.set_facecolor('#FCFCB0')\n",
    "ax.plot(times, temps, color=\"red\")\n",
    "ax.xaxis.set_major_locator(plt.MaxNLocator(5))\n",
    "ax.xaxis.set_minor_locator(HourLocator())\n",
    "ax.xaxis.set_major_formatter(DateFormatter('%d %b %-I %p'))\n",
    "ax.xaxis.set_minor_formatter(DateFormatter('%H'))\n",
    "ax.tick_params(axis='x', rotation=90)\n",
    "ax.xaxis.grid(True, which='major')\n",
    "ax.yaxis.grid(True)\n",
    "ax.set_title(\"Outdoor ℃ Temperatures on June 1, 2004\");"
   ]
  },
  {
   "cell_type": "markdown",
   "metadata": {},
   "source": [
    "# Exercise\n",
    "\n",
    "Create additional visualization involving the temperature data at Brad's house.  We would like to focus on tendencies over the whole year.  Use visualizations to draw conclusions about the following topics. Imagine this was the topic of a report for your supervisors or clients, and so you want to include effective visualizations for making your points.  For many of these, you may find it useful to use subplots to show comparative features of related data."
   ]
  },
  {
   "cell_type": "code",
   "execution_count": null,
   "metadata": {},
   "outputs": [],
   "source": [
    "# Read the documentation about the dates submodule, \n",
    "# but these are some you may want to utilize"
   ]
  },
  {
   "cell_type": "markdown",
   "metadata": {},
   "source": [
    "**Question:** Outdoor temperature is regulated only by climatological and meteorological factors, but indoor temperatures are also regulated by Brad's heating system(s).  \n",
    "\n",
    "We do not know whether these systems are manually controlled or subject to one or more thermostats.  Based on trends in the data that we can visualize, in what manner do you hypothesize the temperature was controlled inside Brad's house?  Support your conclusion with reference to relevant plots."
   ]
  },
  {
   "cell_type": "code",
   "execution_count": null,
   "metadata": {},
   "outputs": [],
   "source": [
    "brad = brad_house()\n",
    "brad"
   ]
  },
  {
   "cell_type": "code",
   "execution_count": null,
   "metadata": {},
   "outputs": [],
   "source": [
    "# Analysis and visualization here\n",
    "..."
   ]
  },
  {
   "cell_type": "markdown",
   "metadata": {},
   "source": [
    "**Question:** Assuming Brad uses one or more thermostats in his house, do the data suggest there was independent control of different zones of his house? Do the data suggest that he used timer-based thermostat controls that vary temperature by time-of-day? If so, does this apply to all zones of the house, or only some?"
   ]
  },
  {
   "cell_type": "code",
   "execution_count": null,
   "metadata": {},
   "outputs": [],
   "source": [
    "# Analysis and visualization here\n",
    "..."
   ]
  },
  {
   "cell_type": "markdown",
   "metadata": {},
   "source": [
    "**Question:** Based on the data, and more specifically on their visualization, do you have evidence that Brad modified his heating system(s), insulation, or other physical features of his house between summer 2003 and summer 2004.  If so, which zone(s) of his house were affected and how?"
   ]
  },
  {
   "cell_type": "code",
   "execution_count": null,
   "metadata": {},
   "outputs": [],
   "source": [
    "# Analysis and visualization here\n",
    "..."
   ]
  },
  {
   "cell_type": "markdown",
   "metadata": {},
   "source": [
    "**Question:** Let us stipulate that Brad generally worked outside his house during 2003-2004.  Therefore, he likely had less need for heat in the house during weekdays when he was out than during weekends when he was at home.  Do you believe he took any actions to reflect this difference in heating demand, based on the data and their visualization?|"
   ]
  },
  {
   "cell_type": "code",
   "execution_count": null,
   "metadata": {},
   "outputs": [],
   "source": [
    "# Analysis and visualization here\n",
    "..."
   ]
  }
 ],
 "metadata": {
  "kernelspec": {
   "display_name": "Python 3 (ipykernel)",
   "language": "python",
   "name": "python3"
  },
  "language_info": {
   "codemirror_mode": {
    "name": "ipython",
    "version": 3
   },
   "file_extension": ".py",
   "mimetype": "text/x-python",
   "name": "python",
   "nbconvert_exporter": "python",
   "pygments_lexer": "ipython3",
   "version": "3.10.14"
  },
  "widgets": {
   "application/vnd.jupyter.widget-state+json": {
    "state": {},
    "version_major": 2,
    "version_minor": 0
   }
  }
 },
 "nbformat": 4,
 "nbformat_minor": 4
}

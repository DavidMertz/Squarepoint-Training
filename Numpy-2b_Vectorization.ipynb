{
 "cells": [
  {
   "cell_type": "markdown",
   "metadata": {
    "slideshow": {
     "slide_type": "slide"
    }
   },
   "source": [
    "![NumPy logo](img/numpylogo.svg)"
   ]
  },
  {
   "cell_type": "markdown",
   "metadata": {
    "slideshow": {
     "slide_type": "slide"
    }
   },
   "source": [
    "# Selecting and modifying data\n",
    "\n",
    "In the first module we saw a variety of ways to create arrays, with various shapes and dimensions.  We also had a brief introduction to the idea that a reshaped array is a *view* into the same data."
   ]
  },
  {
   "cell_type": "markdown",
   "metadata": {
    "slideshow": {
     "slide_type": "fragment"
    }
   },
   "source": [
    "I order to perform meaningful computation on data we need to be able to do two main things:\n",
    "\n",
    "* Select only a portion of a larger data collection\n",
    "* Modify values in some systematic way"
   ]
  },
  {
   "cell_type": "markdown",
   "metadata": {
    "slideshow": {
     "slide_type": "slide"
    }
   },
   "source": [
    "# Vectorization\n",
    "\n",
    "NumPy is an *array library*, which in computer-programming terms does not mean only that it stores dimensions of elements of the same datatype, but also that operations are performed concurrently.†\n",
    "\n",
    "The way that NumPy achieves concurrency is performing most operations *elementwise*.  That is, each cell or element is modified in a similar fashion, but without dependency between the different operations."
   ]
  },
  {
   "cell_type": "markdown",
   "metadata": {
    "slideshow": {
     "slide_type": "fragment"
    }
   },
   "source": [
    "†A footnote here is to remind students that concurrency is not necessarily parallelism. However, NumPy often also does a good job of taking advantage of multiple cores for actual parallelism as well.\n"
   ]
  },
  {
   "cell_type": "markdown",
   "metadata": {
    "slideshow": {
     "slide_type": "subslide"
    }
   },
   "source": [
    "## Universal functions\n",
    "\n",
    "NumPy uses what it calls *ufuncs* for functions that operate on arrays element-by-element.  Most of these functions also work on scalars directly, but with more overhead than equivalent operations from the Python `math` module where both exist."
   ]
  },
  {
   "cell_type": "markdown",
   "metadata": {
    "slideshow": {
     "slide_type": "fragment"
    }
   },
   "source": [
    "In many cases, ufuncs use a bit of Python magic to allow operator symbols to call apropriate functions behind the scenes."
   ]
  },
  {
   "cell_type": "markdown",
   "metadata": {
    "slideshow": {
     "slide_type": "subslide"
    }
   },
   "source": [
    "A simple plus sign can add arrays:\n",
    "\n",
    "![Sum arrays](img/numpy-sum-arrs.png)"
   ]
  },
  {
   "cell_type": "code",
   "execution_count": 1,
   "metadata": {
    "slideshow": {
     "slide_type": "subslide"
    }
   },
   "outputs": [
    {
     "name": "stdout",
     "output_type": "stream",
     "text": [
      "[1. 2. 3. 4. 5.]\n",
      "[10. 20. 30. 40. 50.]\n"
     ]
    },
    {
     "data": {
      "text/plain": [
       "array([11., 22., 33., 44., 55.])"
      ]
     },
     "execution_count": 1,
     "metadata": {},
     "output_type": "execute_result"
    }
   ],
   "source": [
    "import numpy as np\n",
    "arr1 = np.linspace(1., 5, 5)\n",
    "arr2 = np.arange(10., 50.1, 10)\n",
    "print(arr1)\n",
    "print(arr2)\n",
    "arr1 + arr2"
   ]
  },
  {
   "cell_type": "code",
   "execution_count": 2,
   "metadata": {
    "slideshow": {
     "slide_type": "fragment"
    }
   },
   "outputs": [
    {
     "name": "stdout",
     "output_type": "stream",
     "text": [
      "np.add(arr1, arr2): [11. 22. 33. 44. 55.]\n",
      "arr1.__add__(arr2): [11. 22. 33. 44. 55.]\n"
     ]
    }
   ],
   "source": [
    "# Other spellings of same operation\n",
    "print(\"np.add(arr1, arr2):\", np.add(arr1, arr2))\n",
    "print(\"arr1.__add__(arr2):\", arr1.__add__(arr2))"
   ]
  },
  {
   "cell_type": "markdown",
   "metadata": {},
   "source": [
    "One sense in which ufuncs are \"universal\" is that they also operate on scalars."
   ]
  },
  {
   "cell_type": "code",
   "execution_count": 3,
   "metadata": {},
   "outputs": [
    {
     "data": {
      "text/plain": [
       "(3, 3, 3, 3)"
      ]
     },
     "execution_count": 3,
     "metadata": {},
     "output_type": "execute_result"
    }
   ],
   "source": [
    "import operator\n",
    "np.add(1, 2), operator.add(1, 2), (1).__add__(2), 1+2"
   ]
  },
  {
   "cell_type": "markdown",
   "metadata": {
    "slideshow": {
     "slide_type": "subslide"
    }
   },
   "source": [
    "## Types of ufuncs\n",
    "\n",
    "The comparisons and predicates return *boolean arrays*. Most of the other ufuncs return the same dtype as the original array(s), but sometimes type promotion will occur (usually an integer to a floating point number).  Many of these ufuncs are binary, but many others are unary."
   ]
  },
  {
   "cell_type": "markdown",
   "metadata": {
    "slideshow": {
     "slide_type": "fragment"
    }
   },
   "source": [
    "**comparison:** `<`, `<=`, `==`, `!=`, `>=`, `>`"
   ]
  },
  {
   "cell_type": "markdown",
   "metadata": {
    "slideshow": {
     "slide_type": "fragment"
    }
   },
   "source": [
    "**arithmetic:** `+`, `-`, `*`, `/`, `reciprocal`, `square`"
   ]
  },
  {
   "cell_type": "markdown",
   "metadata": {
    "slideshow": {
     "slide_type": "fragment"
    }
   },
   "source": [
    "**exponential:** `exp`, `expm1`, `exp2`, `log`, `log10`, `log1p`, `log2`, `power`, `sqrt`"
   ]
  },
  {
   "cell_type": "markdown",
   "metadata": {
    "slideshow": {
     "slide_type": "fragment"
    }
   },
   "source": [
    "**trig:** `sin`, `cos`, `tan`, `acsin`, `arccos`, `atctan`, `sinh`, `cosh`, `tanh`, `acsinh`, `arccosh`, `atctanh`"
   ]
  },
  {
   "cell_type": "markdown",
   "metadata": {
    "slideshow": {
     "slide_type": "fragment"
    }
   },
   "source": [
    "**bitwise:** `&`, `|`, `~`, `^`, `left_shift`, `right_shift`"
   ]
  },
  {
   "cell_type": "markdown",
   "metadata": {
    "slideshow": {
     "slide_type": "fragment"
    }
   },
   "source": [
    "**logical operations:** `logical_and`, `logical_xor`, `logical_not`, `logical_or`"
   ]
  },
  {
   "cell_type": "markdown",
   "metadata": {
    "slideshow": {
     "slide_type": "fragment"
    }
   },
   "source": [
    "**predicates:** `isfinite`, `isinf`, `isnan`, `signbit`"
   ]
  },
  {
   "cell_type": "markdown",
   "metadata": {
    "slideshow": {
     "slide_type": "fragment"
    }
   },
   "source": [
    "**other:** `abs`, `ceil`, `floor`, `mod`, `modf`, `round`, `sinc`, `sign`, `trunc`"
   ]
  },
  {
   "cell_type": "markdown",
   "metadata": {
    "slideshow": {
     "slide_type": "slide"
    }
   },
   "source": [
    "## Functions and methods\n",
    "\n",
    "Many mathematical operations on arrays are defined as functions in the NumPy module.  A subset of these are also methods on NumPy arrays. For a complete list, see  http://docs.scipy.org/doc/numpy/reference/routines.math.html."
   ]
  },
  {
   "cell_type": "markdown",
   "metadata": {
    "slideshow": {
     "slide_type": "fragment"
    }
   },
   "source": [
    "Notice that some functions/methods are elementwise, but others are reductions."
   ]
  },
  {
   "cell_type": "code",
   "execution_count": 4,
   "metadata": {
    "slideshow": {
     "slide_type": "fragment"
    }
   },
   "outputs": [
    {
     "name": "stdout",
     "output_type": "stream",
     "text": [
      "Mean as method/function: 3.0 3.0\n",
      "Clip as method/function: [2.5 2.5 3.  4.  4.5] [2.5 2.5 3.  4.  4.5]\n"
     ]
    }
   ],
   "source": [
    "print(\"Mean as method/function:\", arr1.mean(), np.mean(arr1))\n",
    "print(\"Clip as method/function:\", arr1.clip(2.5, 4.5), np.clip(arr1, 2.5, 4.5))"
   ]
  },
  {
   "cell_type": "markdown",
   "metadata": {
    "slideshow": {
     "slide_type": "subslide"
    }
   },
   "source": [
    "## Elementwise vs. matrix operations\n",
    "\n",
    "Most operations on NumPy arrays are elementwise, but a few—especially in linear algebra—are overall tranformations.  These latter typically change the shape of the result and hence produce new arrays rather than modifying elements in place.  See: [Linear algebra (numpy.linalg)](https://docs.scipy.org/doc/numpy/reference/routines.linalg.html)"
   ]
  },
  {
   "cell_type": "code",
   "execution_count": 5,
   "metadata": {
    "slideshow": {
     "slide_type": "fragment"
    }
   },
   "outputs": [
    {
     "name": "stdout",
     "output_type": "stream",
     "text": [
      "Dot product function: 550.0\n",
      "Dot product method: 550.0\n",
      "Dot product operator 550.0\n"
     ]
    }
   ],
   "source": [
    "# Several ways to spell dot product\n",
    "print(\"Dot product function:\", np.dot(arr1, arr2))\n",
    "print(\"Dot product method:\", arr1.dot(arr2))\n",
    "print(\"Dot product operator\", arr1 @ arr2)"
   ]
  },
  {
   "cell_type": "code",
   "execution_count": 6,
   "metadata": {
    "slideshow": {
     "slide_type": "subslide"
    }
   },
   "outputs": [
    {
     "data": {
      "text/plain": [
       "array([[ 10.,  20.,  30.,  40.,  50.],\n",
       "       [ 20.,  40.,  60.,  80., 100.],\n",
       "       [ 30.,  60.,  90., 120., 150.],\n",
       "       [ 40.,  80., 120., 160., 200.],\n",
       "       [ 50., 100., 150., 200., 250.]])"
      ]
     },
     "execution_count": 6,
     "metadata": {},
     "output_type": "execute_result"
    }
   ],
   "source": [
    "# More linear algebra operations\n",
    "np.outer(arr1, arr2)"
   ]
  },
  {
   "cell_type": "code",
   "execution_count": 7,
   "metadata": {
    "slideshow": {
     "slide_type": "fragment"
    }
   },
   "outputs": [
    {
     "data": {
      "text/plain": [
       "array([ 0.00000000e+00,  5.50000000e+02,  9.77405636e-15, -7.62394781e-15,\n",
       "       -3.55728427e-30])"
      ]
     },
     "execution_count": 7,
     "metadata": {},
     "output_type": "execute_result"
    }
   ],
   "source": [
    "np.linalg.eigvals(np.outer(arr1, arr2))"
   ]
  },
  {
   "cell_type": "markdown",
   "metadata": {
    "slideshow": {
     "slide_type": "slide"
    }
   },
   "source": [
    "## Shifting and windows\n",
    "\n",
    "\n",
    "We can use negative indices to indicate positions from the end a Python list or NumPy array.  Moreover, slices are *half-open* intervals, leading to nice additive properties. E.g. `x == x[:N] + x[N:]` (for both positive and negative N)."
   ]
  },
  {
   "cell_type": "markdown",
   "metadata": {
    "slideshow": {
     "slide_type": "fragment"
    }
   },
   "source": [
    "We can use indexing from bothends of arrays to create windows that operate on nearby values."
   ]
  },
  {
   "cell_type": "code",
   "execution_count": 8,
   "metadata": {
    "slideshow": {
     "slide_type": "subslide"
    }
   },
   "outputs": [
    {
     "data": {
      "text/plain": [
       "array([ 7,  8, 32, 35, 38, 47, 48, 48, 58, 92])"
      ]
     },
     "execution_count": 8,
     "metadata": {},
     "output_type": "execute_result"
    }
   ],
   "source": [
    "arr = np.random.randint(0, 100, 10)\n",
    "arr.sort()\n",
    "arr"
   ]
  },
  {
   "cell_type": "code",
   "execution_count": 9,
   "metadata": {
    "slideshow": {
     "slide_type": "subslide"
    }
   },
   "outputs": [
    {
     "name": "stdout",
     "output_type": "stream",
     "text": [
      "s1 [ 8 32 35 38 47 48 48 58 92]\n",
      "s2 [ 7  8 32 35 38 47 48 48 58]\n",
      "out [ 1 24  3  3  9  1  0 10 34]\n"
     ]
    }
   ],
   "source": [
    "# Compute the difference between neighboring values.\n",
    "s1 = arr[1:]\n",
    "s2 = arr[:-1]\n",
    "out = arr[1:] - arr[:-1]\n",
    "print(\"s1\", s1)\n",
    "print(\"s2\", s2)\n",
    "print(\"out\", out)"
   ]
  },
  {
   "cell_type": "markdown",
   "metadata": {
    "slideshow": {
     "slide_type": "subslide"
    }
   },
   "source": [
    "For this specific operation, there is a handy shortcut of `np.diff(arr, n=1)`.  For other adjacency operations, that may not work."
   ]
  },
  {
   "cell_type": "code",
   "execution_count": 10,
   "metadata": {
    "slideshow": {
     "slide_type": "fragment"
    }
   },
   "outputs": [
    {
     "data": {
      "text/plain": [
       "array([ 1, 24,  3,  3,  9,  1,  0, 10, 34])"
      ]
     },
     "execution_count": 10,
     "metadata": {},
     "output_type": "execute_result"
    }
   ],
   "source": [
    "np.diff(arr, n=1)"
   ]
  },
  {
   "cell_type": "markdown",
   "metadata": {
    "slideshow": {
     "slide_type": "slide"
    }
   },
   "source": [
    "# Inplace operations versus copying\n",
    "\n",
    "We showed earlier that you can always explicitly require a copy of an array with `arr.copy()`.  However, most operations make a copy \"behind the scenes.\"  Shaping and slicing do not make copies, but numeric operations do."
   ]
  },
  {
   "cell_type": "markdown",
   "metadata": {
    "slideshow": {
     "slide_type": "fragment"
    }
   },
   "source": [
    "Sometimes copying is desirable, sometimes it is not.  For large arrays where you do not need intermediate results retained, a memory allocation to copy into is unnecessarily exensive (in time and in finite computer memory)."
   ]
  },
  {
   "cell_type": "markdown",
   "metadata": {
    "slideshow": {
     "slide_type": "subslide"
    }
   },
   "source": [
    "For example, here we do several operations that use three memory allocations.  One for `arr1`, one for `arr2`, and a third for `result`."
   ]
  },
  {
   "cell_type": "code",
   "execution_count": 11,
   "metadata": {
    "slideshow": {
     "slide_type": "fragment"
    }
   },
   "outputs": [
    {
     "name": "stdout",
     "output_type": "stream",
     "text": [
      "[  2.71828183   7.3890561   20.08553692  54.59815003 148.4131591 ]\n",
      "[100.          81.15044408  62.30088816  43.45133224  24.60177631]\n"
     ]
    }
   ],
   "source": [
    "# allocate initial arrays\n",
    "arr1 = np.logspace(1, 5, 5, base=np.e)\n",
    "arr2 = np.arange(100, 10, -np.pi * 6)\n",
    "print(arr1)\n",
    "print(arr2)"
   ]
  },
  {
   "cell_type": "code",
   "execution_count": 12,
   "metadata": {
    "slideshow": {
     "slide_type": "fragment"
    }
   },
   "outputs": [
    {
     "name": "stdout",
     "output_type": "stream",
     "text": [
      "[102.71828183  88.53950018  82.38642508  98.04948227 173.01493542]\n",
      "[102.71828183  88.53950018  82.38642508  98.04948227 173.01493542]\n"
     ]
    }
   ],
   "source": [
    "# Ways of adding into newly allocated array\n",
    "result = arr1 + arr2\n",
    "print(result)\n",
    "result = np.add(arr1, arr2)\n",
    "print(result)"
   ]
  },
  {
   "cell_type": "markdown",
   "metadata": {
    "slideshow": {
     "slide_type": "subslide"
    }
   },
   "source": [
    "While we are unlikely to care about extra 5 element arrays, we might not want to allocate extra 100,000,000 element arrays if we do not need to.  For example, maybe we just want to update the data in `arr1` in a way that utilizes the values in `arr2`."
   ]
  },
  {
   "cell_type": "code",
   "execution_count": 13,
   "metadata": {
    "slideshow": {
     "slide_type": "fragment"
    }
   },
   "outputs": [
    {
     "name": "stdout",
     "output_type": "stream",
     "text": [
      "[102.71828183  88.53950018  82.38642508  98.04948227 173.01493542]\n",
      "[102.71828183  88.53950018  82.38642508  98.04948227 173.01493542]\n"
     ]
    }
   ],
   "source": [
    "# Ways of modifying arr1 inplace\n",
    "arr1 = np.logspace(1, 5, 5, base=np.e)\n",
    "arr1 += arr2\n",
    "print(arr1)\n",
    "\n",
    "# Augmented assigment is elegant but many functions do not have operators\n",
    "arr1 = np.logspace(1, 5, 5, base=np.e)\n",
    "np.add(arr1, arr2, out=arr1)\n",
    "print(arr1)"
   ]
  },
  {
   "cell_type": "markdown",
   "metadata": {
    "slideshow": {
     "slide_type": "slide"
    }
   },
   "source": [
    "# Exercises\n",
    "\n",
    "The exercises below can each be done with a provided Python object.  These objects have a few properties.  Simply echoing the object in a cell produces a \"pretty\" display that may emphasize some aspect of the data of interest.\n",
    "\n",
    "Positive numbers are used to indicate \"interesting\" cells for purpose of the exercise, and negative numbers are used to indicate the \"background\" data.  Colors further emphasize this.\n",
    "\n",
    "Each object has an `obj.arr` attribute containing the actual array you should work with.  Each also contains an `obj.result` attribute that contains another array that is some sort of transformation of the original array which you are trying to match."
   ]
  },
  {
   "cell_type": "code",
   "execution_count": 14,
   "metadata": {
    "slideshow": {
     "slide_type": "subslide"
    }
   },
   "outputs": [
    {
     "data": {
      "text/html": [
       "<style type=\"text/css\">\n",
       "#T_145e3_row0_col0, #T_145e3_row0_col1, #T_145e3_row0_col2, #T_145e3_row0_col3, #T_145e3_row1_col0, #T_145e3_row1_col2, #T_145e3_row1_col3, #T_145e3_row2_col0, #T_145e3_row2_col1, #T_145e3_row2_col3, #T_145e3_row3_col0, #T_145e3_row3_col1, #T_145e3_row3_col2 {\n",
       "  font-size: 12pt;\n",
       "}\n",
       "#T_145e3_row1_col1, #T_145e3_row2_col2, #T_145e3_row3_col3 {\n",
       "  background-color: cyan;\n",
       "  font-size: 12pt;\n",
       "}\n",
       "</style>\n",
       "<table id=\"T_145e3\">\n",
       "  <thead>\n",
       "    <tr>\n",
       "      <th class=\"blank level0\" >&nbsp;</th>\n",
       "      <th id=\"T_145e3_level0_col0\" class=\"col_heading level0 col0\" >0</th>\n",
       "      <th id=\"T_145e3_level0_col1\" class=\"col_heading level0 col1\" >1</th>\n",
       "      <th id=\"T_145e3_level0_col2\" class=\"col_heading level0 col2\" >2</th>\n",
       "      <th id=\"T_145e3_level0_col3\" class=\"col_heading level0 col3\" >3</th>\n",
       "    </tr>\n",
       "  </thead>\n",
       "  <tbody>\n",
       "    <tr>\n",
       "      <th id=\"T_145e3_level0_row0\" class=\"row_heading level0 row0\" >0</th>\n",
       "      <td id=\"T_145e3_row0_col0\" class=\"data row0 col0\" >-1</td>\n",
       "      <td id=\"T_145e3_row0_col1\" class=\"data row0 col1\" >-2</td>\n",
       "      <td id=\"T_145e3_row0_col2\" class=\"data row0 col2\" >-3</td>\n",
       "      <td id=\"T_145e3_row0_col3\" class=\"data row0 col3\" >-4</td>\n",
       "    </tr>\n",
       "    <tr>\n",
       "      <th id=\"T_145e3_level0_row1\" class=\"row_heading level0 row1\" >1</th>\n",
       "      <td id=\"T_145e3_row1_col0\" class=\"data row1 col0\" >-5</td>\n",
       "      <td id=\"T_145e3_row1_col1\" class=\"data row1 col1\" >456</td>\n",
       "      <td id=\"T_145e3_row1_col2\" class=\"data row1 col2\" >-7</td>\n",
       "      <td id=\"T_145e3_row1_col3\" class=\"data row1 col3\" >-8</td>\n",
       "    </tr>\n",
       "    <tr>\n",
       "      <th id=\"T_145e3_level0_row2\" class=\"row_heading level0 row2\" >2</th>\n",
       "      <td id=\"T_145e3_row2_col0\" class=\"data row2 col0\" >-9</td>\n",
       "      <td id=\"T_145e3_row2_col1\" class=\"data row2 col1\" >-10</td>\n",
       "      <td id=\"T_145e3_row2_col2\" class=\"data row2 col2\" >789</td>\n",
       "      <td id=\"T_145e3_row2_col3\" class=\"data row2 col3\" >-12</td>\n",
       "    </tr>\n",
       "    <tr>\n",
       "      <th id=\"T_145e3_level0_row3\" class=\"row_heading level0 row3\" >3</th>\n",
       "      <td id=\"T_145e3_row3_col0\" class=\"data row3 col0\" >-13</td>\n",
       "      <td id=\"T_145e3_row3_col1\" class=\"data row3 col1\" >-14</td>\n",
       "      <td id=\"T_145e3_row3_col2\" class=\"data row3 col2\" >-15</td>\n",
       "      <td id=\"T_145e3_row3_col3\" class=\"data row3 col3\" >555</td>\n",
       "    </tr>\n",
       "  </tbody>\n",
       "</table>\n"
      ],
      "text/plain": [
       "<pandas.io.formats.style.Styler at 0x7f6453e1bf70>"
      ]
     },
     "execution_count": 14,
     "metadata": {},
     "output_type": "execute_result"
    }
   ],
   "source": [
    "from src.numpy_exercises import *\n",
    "ex0"
   ]
  },
  {
   "cell_type": "code",
   "execution_count": null,
   "metadata": {
    "slideshow": {
     "slide_type": "subslide"
    }
   },
   "outputs": [],
   "source": [
    "# The array to work with\n",
    "ex0.arr"
   ]
  },
  {
   "cell_type": "code",
   "execution_count": null,
   "metadata": {
    "slideshow": {
     "slide_type": "fragment"
    }
   },
   "outputs": [],
   "source": [
    "# A tranformation we are trying to match\n",
    "ex0.result"
   ]
  },
  {
   "cell_type": "markdown",
   "metadata": {
    "slideshow": {
     "slide_type": "subslide"
    }
   },
   "source": [
    "**Hint**: To verify your answers, you may want to compare your work to the provided result.  NumPy allows comparison of arrays, but it is not just a yes or no answer. E.g."
   ]
  },
  {
   "cell_type": "code",
   "execution_count": null,
   "metadata": {
    "slideshow": {
     "slide_type": "fragment"
    }
   },
   "outputs": [],
   "source": [
    "ex0.arr == ex0.result"
   ]
  },
  {
   "cell_type": "markdown",
   "metadata": {
    "slideshow": {
     "slide_type": "subslide"
    }
   },
   "source": [
    "Fortunately, there is also an `np.all()` function that asks whether every Boolean in an array of comparisons is true.  There is also `np.any()` with a corresponding meaning."
   ]
  },
  {
   "cell_type": "code",
   "execution_count": null,
   "metadata": {
    "slideshow": {
     "slide_type": "fragment"
    }
   },
   "outputs": [],
   "source": [
    "print(\"Any the same:\", np.any(ex0.arr == ex0.result))\n",
    "print(\"All the same:\", np.all(ex0.arr == ex0.result))"
   ]
  },
  {
   "cell_type": "markdown",
   "metadata": {
    "slideshow": {
     "slide_type": "slide"
    }
   },
   "source": [
    "## Elementwise Exercises\n",
    "\n",
    "In each of the next exercises, you will need to transform some or all of the elements of an array in a described fashion."
   ]
  },
  {
   "cell_type": "markdown",
   "metadata": {
    "slideshow": {
     "slide_type": "subslide"
    }
   },
   "source": [
    "Transform each of these array byte values to contain only their \"low order bits.\"  In other words, make the values \"7-bit clean.\""
   ]
  },
  {
   "cell_type": "code",
   "execution_count": null,
   "metadata": {
    "slideshow": {
     "slide_type": "fragment"
    }
   },
   "outputs": [],
   "source": [
    "arr = ex2_11.arr.copy()\n",
    "ex2_11"
   ]
  },
  {
   "cell_type": "code",
   "execution_count": null,
   "metadata": {},
   "outputs": [],
   "source": [
    "ex2_11.result"
   ]
  },
  {
   "cell_type": "code",
   "execution_count": null,
   "metadata": {
    "slideshow": {
     "slide_type": "subslide"
    }
   },
   "outputs": [],
   "source": [
    "# Solve the same problem as the previous exercise using only\n",
    "# operations of a different type than in your first solution\n",
    "# (see the section \"types of ufuncs\" above)\n",
    "arr = ex2_11.arr.copy()"
   ]
  },
  {
   "cell_type": "code",
   "execution_count": null,
   "metadata": {
    "slideshow": {
     "slide_type": "subslide"
    }
   },
   "outputs": [],
   "source": [
    "# Solve the same problem as the previous exercise using only\n",
    "# operations of a THIRD type than in your first two solutions\n",
    "# (see the section \"types of ufuncs\" above)\n",
    "arr = ex2_11.arr.copy()"
   ]
  },
  {
   "cell_type": "markdown",
   "metadata": {
    "slideshow": {
     "slide_type": "subslide"
    }
   },
   "source": [
    "---\n",
    "\n",
    "Each column in `ex2_12` contains angles (in radians) of successive quadrants of a circle.  Transform the first two quadrants by the $sin$ operation and the last two quadrants by the $cos$ operation."
   ]
  },
  {
   "cell_type": "code",
   "execution_count": null,
   "metadata": {
    "slideshow": {
     "slide_type": "fragment"
    }
   },
   "outputs": [],
   "source": [
    "arr = ex2_12.arr.copy()\n",
    "ex2_12"
   ]
  },
  {
   "cell_type": "code",
   "execution_count": null,
   "metadata": {
    "slideshow": {
     "slide_type": "subslide"
    }
   },
   "outputs": [],
   "source": [
    "# Solve the same problem as the previous exercise, but transforming \n",
    "# the array in-place rather than allocating another array for the results\n",
    "# HINT: rebinding a name like `arr = arr.sin()` still makes a copy \n",
    "#       that is garbage collected in a short time, but exists temporarily\n",
    "arr = ex2_12.arr.copy()"
   ]
  },
  {
   "cell_type": "markdown",
   "metadata": {
    "slideshow": {
     "slide_type": "subslide"
    }
   },
   "source": [
    "---\n",
    "\n",
    "Suppose we have a series of temperatures in a 1-D NumPy array, spanning just under a year.  You wish to calculate the mean weekly high for each of the 52 weeks.\n",
    "\n",
    "**Note:** In general, we try to avoid looping in NumPy, but you might first try looping over the weeks."
   ]
  },
  {
   "cell_type": "code",
   "execution_count": null,
   "metadata": {
    "slideshow": {
     "slide_type": "fragment"
    }
   },
   "outputs": [],
   "source": [
    "%matplotlib inline\n",
    "arr = ex2_13.arr.copy()\n",
    "ex2_13"
   ]
  },
  {
   "cell_type": "code",
   "execution_count": null,
   "metadata": {
    "slideshow": {
     "slide_type": "fragment"
    }
   },
   "outputs": [],
   "source": [
    "ex2_13.graph"
   ]
  },
  {
   "cell_type": "markdown",
   "metadata": {
    "slideshow": {
     "slide_type": "subslide"
    }
   },
   "source": [
    "Now try to solve the same problem  as the previous exercise, but not using any loops.\n",
    "\n",
    "**Hint:** Reduction operations in NumPy contain an `axis` argument to control their operation over multidimensional arrays."
   ]
  },
  {
   "cell_type": "code",
   "execution_count": null,
   "metadata": {
    "slideshow": {
     "slide_type": "fragment"
    }
   },
   "outputs": [],
   "source": [
    "# Reduce over an axis\n",
    "arr = ex2_13.arr.copy()"
   ]
  },
  {
   "cell_type": "markdown",
   "metadata": {
    "slideshow": {
     "slide_type": "subslide"
    }
   },
   "source": [
    "## Vectorization exercise\n",
    "\n",
    "In these exercises, we look at ways of writing algorithms using vectorization."
   ]
  },
  {
   "cell_type": "markdown",
   "metadata": {
    "slideshow": {
     "slide_type": "fragment"
    }
   },
   "source": [
    "### The Wallis formula for pi\n",
    "\n",
    "One way of calculating $\\pi$ is with the 1655 Wallis formula:\n",
    "\n",
    "$$\\pi=2\\prod_{i=1}^{\\infty}\\frac{4i^2}{4i^2-1}$$"
   ]
  },
  {
   "cell_type": "markdown",
   "metadata": {
    "slideshow": {
     "slide_type": "subslide"
    }
   },
   "source": [
    "In plain Python, we could write this as below.  Write the same algorithm using NumPy and **not using any loops** in your implementation."
   ]
  },
  {
   "cell_type": "code",
   "execution_count": null,
   "metadata": {
    "slideshow": {
     "slide_type": "fragment"
    }
   },
   "outputs": [],
   "source": [
    "# Play around with number of terms\n",
    "terms = 1000\n",
    "cumprod = 2.0\n",
    "for n in range(1, terms+1):\n",
    "    foursquare = 4 * n**2\n",
    "    cumprod *= foursquare / (foursquare - 1)\n",
    "print(cumprod)"
   ]
  },
  {
   "cell_type": "code",
   "execution_count": null,
   "metadata": {
    "slideshow": {
     "slide_type": "subslide"
    }
   },
   "outputs": [],
   "source": [
    "# Calculate pi using NumPy and Wallis formula\n",
    "ex2_14"
   ]
  }
 ],
 "metadata": {
  "kernelspec": {
   "display_name": "Python 3 (ipykernel)",
   "language": "python",
   "name": "python3"
  },
  "language_info": {
   "codemirror_mode": {
    "name": "ipython",
    "version": 3
   },
   "file_extension": ".py",
   "mimetype": "text/x-python",
   "name": "python",
   "nbconvert_exporter": "python",
   "pygments_lexer": "ipython3",
   "version": "3.10.13"
  },
  "metadata": {
   "interpreter": {
    "hash": "31f2aee4e71d21fbe5cf8b01ff0e069b9275f58929596ceb00d14d90e3e16cd6"
   }
  },
  "widgets": {
   "application/vnd.jupyter.widget-state+json": {
    "state": {},
    "version_major": 2,
    "version_minor": 0
   }
  }
 },
 "nbformat": 4,
 "nbformat_minor": 4
}
